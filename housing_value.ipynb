{
 "cells": [
  {
   "cell_type": "markdown",
   "metadata": {},
   "source": [
    "# Housing Sale Prediction\n",
    "\n",
    "<b> Author: </b> Shannon Snively\n",
    "\n",
    "For this project the goal is to clean the dataset, find the important features, extract those features and create a model that will accurately reflect predicted housing prices compared to the actual. The link to the Kaggle competition is below:\n",
    "\n",
    "<a></a>\n",
    "\n",
    "Some of the different model techniques demonstrated:\n",
    "* Ridge Regression\n",
    "* Lasso Regerssion\n",
    "* ElasticNet Regression\n",
    "* Random Forest Regression\n",
    "* AdaBoost\n",
    "\n",
    "Different packages required:\n",
    "* Pandas\n",
    "* Sklearn"
   ]
  },
  {
   "cell_type": "markdown",
   "metadata": {},
   "source": [
    "# Introduction"
   ]
  },
  {
   "cell_type": "markdown",
   "metadata": {},
   "source": [
    "With all types of consumer industries there is always a need to understand what is the driving force behind value. For this particular supervised learning problem provided by Kaggle we are provided with two different datasets. The Train data consists of different housing attributes (i.e. roof type, number of rooms, type of house) and a response variable which is the housing sales price. The Test dataset contains the same variables minus the response attribute. \n",
    "\n",
    "The idea is to be able to extract important features from the datasets and create a model that will accruately predict the sales price. With limited knowledge of the data, the first step is to upload and explore."
   ]
  },
  {
   "cell_type": "code",
   "execution_count": 1,
   "metadata": {
    "collapsed": true
   },
   "outputs": [],
   "source": [
    "import warnings\n",
    "warnings.filterwarnings('ignore')\n",
    "\n",
    "# set index_col to the 'Id' Number\n",
    "train = pd.read_csv(r'train.csv', index_col = 0)\n",
    "test = pd.read_csv(r'test.csv', index_col = 0)"
   ]
  },
  {
   "cell_type": "markdown",
   "metadata": {},
   "source": [
    "## Data Exploration"
   ]
  },
  {
   "cell_type": "code",
   "execution_count": 2,
   "metadata": {
    "collapsed": false
   },
   "outputs": [
    {
     "data": {
      "text/plain": [
       "(1460, 80)"
      ]
     },
     "execution_count": 2,
     "metadata": {},
     "output_type": "execute_result"
    }
   ],
   "source": [
    "# train.head()\n",
    "# train.describe()\n",
    "# train.info()\n",
    "# train.columns\n",
    "train.shape"
   ]
  },
  {
   "cell_type": "code",
   "execution_count": 3,
   "metadata": {
    "collapsed": false
   },
   "outputs": [
    {
     "data": {
      "text/plain": [
       "(1459, 79)"
      ]
     },
     "execution_count": 3,
     "metadata": {},
     "output_type": "execute_result"
    }
   ],
   "source": [
    "# test.head()\n",
    "# test.describe()\n",
    "# test.info()\n",
    "# test.columns\n",
    "test.shape"
   ]
  },
  {
   "cell_type": "markdown",
   "metadata": {},
   "source": [
    "## Missing Data\n",
    "\n",
    "In this section I combine the train and test data, analyze the missing data, and determine the appropriate imputing method. The idea of combing the two datasets together is that it will give stronger reflection of the population for imputing purposes, and will be easier to clean together. "
   ]
  },
  {
   "cell_type": "code",
   "execution_count": null,
   "metadata": {
    "collapsed": true
   },
   "outputs": [],
   "source": [
    "import pandas as pd\n",
    "import numpy as np\n",
    "import matplotlib.pyplot as plt\n",
    "import seaborn as sns\n",
    "from sklearn.preprocessing import Imputer\n",
    "from collections import Counter"
   ]
  },
  {
   "cell_type": "markdown",
   "metadata": {},
   "source": [
    "### 1. Combine Data"
   ]
  },
  {
   "cell_type": "code",
   "execution_count": 4,
   "metadata": {
    "collapsed": false
   },
   "outputs": [
    {
     "name": "stdout",
     "output_type": "stream",
     "text": [
      "(2919, 79)\n"
     ]
    }
   ],
   "source": [
    "# create train, test set, then combine together minus the response variable\n",
    "X_train, y_train, X_test = train.iloc[:,:-1], train['SalePrice'], test.iloc[:,:]\n",
    "\n",
    "stacked_df = pd.concat([X_train, X_test])\n",
    "print(stacked_df.shape)"
   ]
  },
  {
   "cell_type": "markdown",
   "metadata": {},
   "source": [
    "### 2. Analyze Data"
   ]
  },
  {
   "cell_type": "code",
   "execution_count": 5,
   "metadata": {
    "collapsed": false,
    "scrolled": true
   },
   "outputs": [
    {
     "name": "stdout",
     "output_type": "stream",
     "text": [
      "MSZoning           4\n",
      "LotFrontage      486\n",
      "Alley           2721\n",
      "Utilities          2\n",
      "Exterior1st        1\n",
      "Exterior2nd        1\n",
      "MasVnrType        24\n",
      "MasVnrArea        23\n",
      "BsmtQual          81\n",
      "BsmtCond          82\n",
      "BsmtExposure      82\n",
      "BsmtFinType1      79\n",
      "BsmtFinSF1         1\n",
      "BsmtFinType2      80\n",
      "BsmtFinSF2         1\n",
      "BsmtUnfSF          1\n",
      "TotalBsmtSF        1\n",
      "Electrical         1\n",
      "BsmtFullBath       2\n",
      "BsmtHalfBath       2\n",
      "KitchenQual        1\n",
      "Functional         2\n",
      "FireplaceQu     1420\n",
      "GarageType       157\n",
      "GarageYrBlt      159\n",
      "GarageFinish     159\n",
      "GarageCars         1\n",
      "GarageArea         1\n",
      "GarageQual       159\n",
      "GarageCond       159\n",
      "PoolQC          2909\n",
      "Fence           2348\n",
      "MiscFeature     2814\n",
      "SaleType           1\n",
      "dtype: int64\n"
     ]
    }
   ],
   "source": [
    "print(stacked_df.isnull().sum()[stacked_df.isnull().sum() > 0])"
   ]
  },
  {
   "cell_type": "markdown",
   "metadata": {},
   "source": [
    "Above shows that there are several columns containing more than 1000 missing/NA values, which is roughly 30% of the data per column. To make sure that it was not an uneven balance of missing values between the two different data sets, I look at each individually. "
   ]
  },
  {
   "cell_type": "code",
   "execution_count": null,
   "metadata": {
    "collapsed": true
   },
   "outputs": [],
   "source": [
    "print(X_train.isnull().sum()[X_train.isnull().sum() > 1000])\n",
    "print(X_test.isnull().sum()[X_test.isnull().sum() > 1000])"
   ]
  },
  {
   "cell_type": "markdown",
   "metadata": {},
   "source": [
    "### 3. Impute Categorical Data"
   ]
  },
  {
   "cell_type": "markdown",
   "metadata": {},
   "source": [
    "It was also brought to my attention that certain categorical variables have 'NA' for 'No (Attribute)'. However, with the similar balance of missing values per dataset, I decided to remove those columns."
   ]
  },
  {
   "cell_type": "code",
   "execution_count": 6,
   "metadata": {
    "collapsed": false
   },
   "outputs": [
    {
     "name": "stdout",
     "output_type": "stream",
     "text": [
      "Index(['Alley', 'FireplaceQu', 'PoolQC', 'Fence', 'MiscFeature'], dtype='object')\n"
     ]
    }
   ],
   "source": [
    "cols_remove = list([i for i in range(0,len(stacked_df.columns)) if stacked_df[stacked_df.columns[i]].isnull().sum() > 1000])\n",
    "print(stacked_df[cols_remove].columns)\n",
    "\n",
    "stacked_df = stacked_df.drop(stacked_df[cols_remove], axis=1)"
   ]
  },
  {
   "cell_type": "markdown",
   "metadata": {},
   "source": [
    "Because of the issue I uncovered earlier with categorical data, I decided it would then be best to convert all NA to a string instead of having a categorical attribute contain a missing value. Below is a print out of categorical features with attribute name and an example of the content. "
   ]
  },
  {
   "cell_type": "code",
   "execution_count": 7,
   "metadata": {
    "collapsed": false,
    "scrolled": false
   },
   "outputs": [
    {
     "name": "stdout",
     "output_type": "stream",
     "text": [
      "   MSZoning Utilities Exterior1st Exterior2nd MasVnrType BsmtQual BsmtCond  \\\n",
      "Id                                                                           \n",
      "1        RL    AllPub     VinylSd     VinylSd    BrkFace       Gd       TA   \n",
      "2        RL    AllPub     MetalSd     MetalSd       None       Gd       TA   \n",
      "3        RL    AllPub     VinylSd     VinylSd    BrkFace       Gd       TA   \n",
      "4        RL    AllPub     Wd Sdng     Wd Shng       None       TA       Gd   \n",
      "5        RL    AllPub     VinylSd     VinylSd    BrkFace       Gd       TA   \n",
      "\n",
      "   BsmtExposure BsmtFinType1 BsmtFinType2 Electrical KitchenQual Functional  \\\n",
      "Id                                                                            \n",
      "1            No          GLQ          Unf      SBrkr          Gd        Typ   \n",
      "2            Gd          ALQ          Unf      SBrkr          TA        Typ   \n",
      "3            Mn          GLQ          Unf      SBrkr          Gd        Typ   \n",
      "4            No          ALQ          Unf      SBrkr          Gd        Typ   \n",
      "5            Av          GLQ          Unf      SBrkr          Gd        Typ   \n",
      "\n",
      "   GarageType GarageFinish GarageQual GarageCond SaleType  \n",
      "Id                                                         \n",
      "1      Attchd          RFn         TA         TA       WD  \n",
      "2      Attchd          RFn         TA         TA       WD  \n",
      "3      Attchd          RFn         TA         TA       WD  \n",
      "4      Detchd          Unf         TA         TA       WD  \n",
      "5      Attchd          RFn         TA         TA       WD  \n"
     ]
    }
   ],
   "source": [
    "categorical = []\n",
    "\n",
    "for i in stacked_df.columns:\n",
    "    if (stacked_df[i].isnull().sum() > 0) & (np.dtype(stacked_df[i]) == object):\n",
    "        categorical.append(i)\n",
    "\n",
    "stacked_df[categorical] = stacked_df[categorical].fillna('NA')\n",
    "\n",
    "print(stacked_df[categorical].head(), 1)"
   ]
  },
  {
   "cell_type": "markdown",
   "metadata": {},
   "source": [
    "### 4. Impute Numerical Data"
   ]
  },
  {
   "cell_type": "markdown",
   "metadata": {},
   "source": [
    "After taking care of the categorical data I was curious of how to deal with the remaining numerical values. I obtained the total sum of missing values for each variable, graphed the variables with large missing values to see skewness, and then also looked at the variables within the seperate train_df/ test_df to see if there was skewed results there as well. \n",
    "\n",
    "Based upon looking at the normal distribution of the data, it would suggest whether to impute the mean or median of the dataset."
   ]
  },
  {
   "cell_type": "code",
   "execution_count": 8,
   "metadata": {
    "collapsed": false
   },
   "outputs": [
    {
     "name": "stdout",
     "output_type": "stream",
     "text": [
      "LotFrontage     486\n",
      "MasVnrArea       23\n",
      "BsmtFinSF1        1\n",
      "BsmtFinSF2        1\n",
      "BsmtUnfSF         1\n",
      "TotalBsmtSF       1\n",
      "BsmtFullBath      2\n",
      "BsmtHalfBath      2\n",
      "GarageYrBlt     159\n",
      "GarageCars        1\n",
      "GarageArea        1\n",
      "dtype: int64\n"
     ]
    }
   ],
   "source": [
    "print(stacked_df.isnull().sum()[stacked_df.isnull().sum() > 0])"
   ]
  },
  {
   "cell_type": "code",
   "execution_count": 9,
   "metadata": {
    "collapsed": false,
    "scrolled": true
   },
   "outputs": [
    {
     "data": {
      "image/png": "[encoded data removed]",
      "text/plain": [
       "<matplotlib.figure.Figure at 0x1cda1d0eba8>"
      ]
     },
     "metadata": {},
     "output_type": "display_data"
    }
   ],
   "source": [
    "%matplotlib inline\n",
    "stacked_df[['LotFrontage', 'MasVnrArea', 'GarageYrBlt']].hist(bins=50, figsize=(10,10));"
   ]
  },
  {
   "cell_type": "code",
   "execution_count": 10,
   "metadata": {
    "collapsed": false
   },
   "outputs": [
    {
     "data": {
      "text/plain": [
       "<matplotlib.figure.Figure at 0x1cda185ef28>"
      ]
     },
     "metadata": {},
     "output_type": "display_data"
    },
    {
     "data": {
      "image/png": "[encoded data removed]",
      "text/plain": [
       "<matplotlib.figure.Figure at 0x1cda1900d30>"
      ]
     },
     "metadata": {},
     "output_type": "display_data"
    }
   ],
   "source": [
    "%matplotlib inline\n",
    "train_test_lot = pd.DataFrame({'Test': X_test['LotFrontage'], 'Train': X_train['LotFrontage']}, columns = ['Test', 'Train'])\n",
    "\n",
    "plt.figure(figsize=(10, 10))\n",
    "\n",
    "train_test_lot.plot.hist(alpha= 0.3, bins=50)\n",
    "\n",
    "plt.title('Difference Between Train - Test Data')\n",
    "plt.xlabel('LotFrontage');"
   ]
  },
  {
   "cell_type": "markdown",
   "metadata": {},
   "source": [
    "In the end the skewed results between the different variables, determined that imputing the median would be the best idea."
   ]
  },
  {
   "cell_type": "code",
   "execution_count": 11,
   "metadata": {
    "collapsed": false
   },
   "outputs": [
    {
     "name": "stdout",
     "output_type": "stream",
     "text": [
      "Series([], dtype: int64)\n"
     ]
    }
   ],
   "source": [
    "numerical = []\n",
    "\n",
    "for i in stacked_df.columns:\n",
    "    if (stacked_df[i].isnull().sum() > 0) & (np.dtype(stacked_df[i]) != object):\n",
    "        numerical.append(i)\n",
    "        \n",
    "# print(stacked_df[numerical].head())\n",
    "\n",
    "imr = Imputer(missing_values='NaN', strategy='median')\n",
    "imr = imr.fit(stacked_df[numerical])\n",
    "stacked_df[numerical] = imr.transform(stacked_df[numerical])\n",
    "\n",
    "print(stacked_df.isnull().sum()[stacked_df.isnull().sum() > 0])"
   ]
  },
  {
   "cell_type": "markdown",
   "metadata": {},
   "source": [
    "Lastly, there were a few other attributes that based upon subject matter knowledge were skewed in a direction that provided little value to the model. For example the attribute removed were:\n",
    "\n",
    "<b>Street</b>  : Counter({'Pave': 2907, 'Grvl': 12}) \n",
    "\n",
    "<b>Utilities</b>  : Counter({'AllPub': 2916, 'NA': 2, 'NoSeWa': 1})\n",
    "\n",
    "<b>Heating</b>  : Counter({'GasA': 2874, 'GasW': 27, 'Grav': 9, 'Wall': 6, 'OthW': 2, 'Floor': 1})\n",
    "\n",
    "<b>Condition2</b>  : Counter({'Norm': 2889, 'Feedr': 13, 'Artery': 5, 'PosA': 4, 'PosN': 4, 'RRNn': 2, 'RRAe': 1, 'RRAn': 1})"
   ]
  },
  {
   "cell_type": "code",
   "execution_count": 12,
   "metadata": {
    "collapsed": false
   },
   "outputs": [],
   "source": [
    "stacked_df = stacked_df.drop(['Street', 'Condition2', 'Utilities', 'Heating'], axis=1)"
   ]
  },
  {
   "cell_type": "markdown",
   "metadata": {},
   "source": [
    "## Convert categorical into dummy variables\n",
    "\n",
    "Based on the given data dictionary the following categorical variables were determined to be either binary, oridinal, or nominal which is needed to convert them into dummy variables. \n",
    "\n",
    "* The only binary variable was 'CentralAir'.\n",
    "\n",
    "* The variables that I found to be ordinal, are ranked from 0 - len(stacked_df['LotShape']). With 0 starting as a considered worse option and incrementally gets better.\n",
    "\n",
    "* The remaining objects were considered as nominal.\n",
    "\n",
    "After converting the data, a new dataframe was created with the numerical data and new dummy variable data."
   ]
  },
  {
   "cell_type": "code",
   "execution_count": 13,
   "metadata": {
    "collapsed": true
   },
   "outputs": [],
   "source": [
    "# one binary: merged_df['CentralAir']\n",
    "stacked_df['CentralAir'] = stacked_df['CentralAir'].apply(lambda x: 1 if x == 'Y' else 0)"
   ]
  },
  {
   "cell_type": "code",
   "execution_count": 14,
   "metadata": {
    "collapsed": false
   },
   "outputs": [],
   "source": [
    "# ordinal data:\n",
    "LotShape_map = {\n",
    "    'Reg':3,\n",
    "    'IR1':2,\n",
    "    'IR2':1,\n",
    "    'IR3':0\n",
    "}\n",
    "stacked_df['LotShape'] = stacked_df['LotShape'].map(LotShape_map)\n",
    "\n",
    "LandSlope_map = {\n",
    "    'Gtl':2, \n",
    "    'Mod':1, \n",
    "    'Sev':0\n",
    "}\n",
    "stacked_df['LandSlope'] = stacked_df['LandSlope'].map(LandSlope_map)\n",
    "\n",
    "HouseStyle_map = {\n",
    "    '1Story':0, \n",
    "    '1.5Unf':1, \n",
    "    '1.5Fin':2, \n",
    "    '2Story':3, \n",
    "    '2.5Unf':4, \n",
    "    '2.5Fin':5,\n",
    "    'SFoyer':6, \n",
    "    'SLvl':7\n",
    "}\n",
    "stacked_df['HouseStyle'] = stacked_df['HouseStyle'].map(HouseStyle_map)\n",
    "\n",
    "BsmtExposure_map = {\n",
    "    'NA':0, \n",
    "    'No':1, \n",
    "    'Mn':2, \n",
    "    'Av':3, \n",
    "    'Gd':4\n",
    "}\n",
    "stacked_df['BsmtExposure'] = stacked_df['BsmtExposure'].map(BsmtExposure_map) \n",
    "\n",
    "Electrical_map = {\n",
    "    'Mix':0,\n",
    "    'FuseP':1,\n",
    "    'FuseF':2,\n",
    "    'FuseA':3,\n",
    "    'SBrkr':4,\n",
    "    'NA': 4\n",
    "}\n",
    "stacked_df['Electrical'] = stacked_df['Electrical'].map(Electrical_map)\n",
    "\n",
    "Functional_map = {\n",
    "    'Sal':0,\n",
    "    'Sev':1,\n",
    "    'Maj2':2,\n",
    "    'Maj1':3,\n",
    "    'Mod':4,\n",
    "    'Min2':5,\n",
    "    'Min1':6,\n",
    "    'Typ':7\n",
    "}\n",
    "stacked_df['Functional'] = stacked_df['Functional'].map(Functional_map)\n",
    "\n",
    "GarageFinish_map = {\n",
    "    'NA':0,\n",
    "    'Unf':1,\n",
    "    'RFn':2,\n",
    "    'Fin':3\n",
    "}\n",
    "stacked_df['GarageFinish'] = stacked_df['GarageFinish'].map(GarageFinish_map)\n",
    "\n",
    "Overall_map = {\n",
    "    '1':0, \n",
    "    '2':1, \n",
    "    '3':2, \n",
    "    '4':3, \n",
    "    '5':4, \n",
    "    '6':5, \n",
    "    '7':6, \n",
    "    '8':7, \n",
    "    '9':8, \n",
    "    '10':9\n",
    "}\n",
    "Overall_list = ['OverallQual', 'OverallCond']\n",
    "for col in Overall_list:\n",
    "    stacked_df[col] = stacked_df[col].map(Overall_map).astype(str)\n",
    "\n",
    "Quality_map = {\n",
    "        'NA': 0, \n",
    "        'Po': 1, \n",
    "        'Fa':2, \n",
    "        'TA':3, \n",
    "        'Gd':4, \n",
    "        'Ex':5\n",
    "}\n",
    "Quality_list = ['ExterQual', 'ExterCond', 'BsmtQual', 'BsmtCond', 'HeatingQC', 'KitchenQual', 'GarageQual', 'GarageCond']\n",
    "for col in Quality_list:\n",
    "    stacked_df[col] = stacked_df[col].map(Quality_map) \n",
    "\n",
    "BsmtFinType_map = {\n",
    "            'NA':0, \n",
    "            'Unf':1, \n",
    "            'LwQ':2, \n",
    "            'Rec':3, \n",
    "            'BLQ':4, \n",
    "            'ALQ':5, \n",
    "            'GLQ':6\n",
    "}\n",
    "BsmtFinType_list = ['BsmtFinType1', 'BsmtFinType2']\n",
    "for col in BsmtFinType_list:\n",
    "    stacked_df[col] = stacked_df[col].map(BsmtFinType_map)                                                                         "
   ]
  },
  {
   "cell_type": "code",
   "execution_count": 15,
   "metadata": {
    "collapsed": false
   },
   "outputs": [],
   "source": [
    "stacked_df['MSSubClass'] = stacked_df['MSSubClass'].astype(str)\n",
    "# print(np.dtype(stacked_df['MSSubClass']))"
   ]
  },
  {
   "cell_type": "code",
   "execution_count": 16,
   "metadata": {
    "collapsed": false
   },
   "outputs": [
    {
     "name": "stdout",
     "output_type": "stream",
     "text": [
      "(2919, 156)\n"
     ]
    }
   ],
   "source": [
    "# nominal data:\n",
    "dummy_df = pd.DataFrame()\n",
    "\n",
    "for col in stacked_df.columns:\n",
    "    if np.dtype(stacked_df[col]) == object:\n",
    "        dummy_df = pd.concat([dummy_df, pd.get_dummies(stacked_df[col])], axis=1)\n",
    "        stacked_df = stacked_df.drop(col, axis = 1)\n",
    "\n",
    "# dummy variable is concatinated with stacked_df, and then the original variable is dropped from stacked_df \n",
    "print(dummy_df.shape)"
   ]
  },
  {
   "cell_type": "code",
   "execution_count": 17,
   "metadata": {
    "collapsed": false
   },
   "outputs": [
    {
     "name": "stdout",
     "output_type": "stream",
     "text": [
      "(2919, 207)\n"
     ]
    }
   ],
   "source": [
    "# combines the binary, ordinal, nominal, and numerical variables in one\n",
    "merged_df = pd.merge(stacked_df, dummy_df, right_index= True, left_index=True)\n",
    "print(merged_df.shape)"
   ]
  },
  {
   "cell_type": "markdown",
   "metadata": {},
   "source": [
    "# Seperate  back to train / test\n",
    "\n",
    "The Train/ Test data is split back to original based on shape of the Train sets original row size, in order to avoid using the test set during regression analysis. "
   ]
  },
  {
   "cell_type": "code",
   "execution_count": null,
   "metadata": {
    "collapsed": true
   },
   "outputs": [],
   "source": [
    "from sklearn.cross_validation import train_test_split"
   ]
  },
  {
   "cell_type": "code",
   "execution_count": 18,
   "metadata": {
    "collapsed": false
   },
   "outputs": [
    {
     "name": "stdout",
     "output_type": "stream",
     "text": [
      "X_train: (1460, 207) X_test: (1459, 207)\n"
     ]
    }
   ],
   "source": [
    "X_train, X_test = merged_df.iloc[:train.shape[0]], merged_df.iloc[train.shape[0]:]\n",
    "print('X_train:', X_train.shape, 'X_test:', X_test.shape)"
   ]
  },
  {
   "cell_type": "code",
   "execution_count": 19,
   "metadata": {
    "collapsed": false
   },
   "outputs": [
    {
     "name": "stdout",
     "output_type": "stream",
     "text": [
      "(1314, 207) (146, 207) (1314,) (146,)\n"
     ]
    }
   ],
   "source": [
    "split_train_X, split_test_X, split_train_y, split_test_y = train_test_split(X_train, y_train, test_size=0.1, random_state=1)\n",
    "print(split_train_X.shape, split_test_X.shape, split_train_y.shape, split_test_y.shape)"
   ]
  },
  {
   "cell_type": "markdown",
   "metadata": {
    "collapsed": true
   },
   "source": [
    "# Linear Regression\n",
    "\n",
    "In the next section I will cover a series of different models and describe best practices for each. There will also be a comparison of two different scoring methods to demonstrate, which one might be more relevant to use. \n",
    "\n",
    "Scoring methods:\n",
    "* RMSE\n",
    "* RMSLE"
   ]
  },
  {
   "cell_type": "code",
   "execution_count": 2,
   "metadata": {
    "collapsed": false
   },
   "outputs": [],
   "source": [
    "from sklearn.model_selection import cross_val_score, KFold, GridSearchCV\n",
    "from sklearn.metrics import make_scorer\n",
    "from sklearn.linear_model import LogisticRegression, LogisticRegressionCV, Ridge, Lasso, ElasticNet\n",
    "from sklearn.feature_selection import SelectFromModel, RFE\n",
    "from sklearn.ensemble import AdaBoostRegressor, RandomForestRegressor\n",
    "from sklearn.tree import DecisionTreeRegressor\n",
    "from sklearn.metrics import mean_squared_error\n",
    "from math import sqrt"
   ]
  },
  {
   "cell_type": "code",
   "execution_count": 20,
   "metadata": {
    "collapsed": false
   },
   "outputs": [],
   "source": [
    "def rmse_scoring(y_actual, y_pred):\n",
    "     return -np.sqrt(((y_actual - y_pred) ** 2).mean())\n",
    "#     return(sqrt(mean_squared_error(y_actual, y_predicted)))\n",
    "rmse = make_scorer(rmse_scoring)"
   ]
  },
  {
   "cell_type": "markdown",
   "metadata": {},
   "source": [
    "### Ridge\n",
    "\n",
    "Ridge is a shrinkage method similar to ordinary least square but gives an additional penalty that penalizes the size of regression coefficients towards 0. λ is know as the tuning parameter, which in this case controls the strength of penalty when λ ≥ 0. When λ = 0 it is the linear regression estimate, and when λ = ∞, the coefficients are βˆridge = 0. Therefore if λ is inbetween (0, ∞) the coefficients will shrink towards the value of 0.\n",
    "\n",
    "<b> Scoring Method: </b> The scoring method used is MSE, is used to gain the results with of the estimator that gains the overall least error between the predicted and the actual.\n",
    "\n",
    "<b> Parameters: </b> The gridsearch runs a cross validation by each parameter combination in order to get the best parameter for the model. "
   ]
  },
  {
   "cell_type": "code",
   "execution_count": 74,
   "metadata": {
    "collapsed": true
   },
   "outputs": [],
   "source": [
    "def regression_model(estimator, params):\n",
    "    \n",
    "    grid_cv = GridSearchCV(estimator(random_state=1), params, cv=10, scoring= rmse)\n",
    "    grid_cv.fit(split_train_X, split_train_y)\n",
    "    grid_predict = grid_cv.predict(split_test_X)\n",
    "    price_difference = sum(abs(split_test_y - grid_predict))/len(grid_predict)\n",
    "    \n",
    "    print('Best Parameters for ', estimator, ':', grid_cv.best_params_)\n",
    "    print('Best Score for ', estimator, ':', grid_cv.best_score_)\n",
    "    print('Price Difference for ', estimator, 'is: ', price_difference)\n",
    "    \n",
    "    return grid_cv, grid_predict\n",
    "\n",
    "def plot_regression(grid_predict):\n",
    "    \n",
    "    plt.title('Difference in Predicted SalesPrice')\n",
    "    plt.ylabel('SalesPrice')\n",
    "    return plt.plot(range(len(grid_predict)), split_test_y - grid_predict)"
   ]
  },
  {
   "cell_type": "code",
   "execution_count": null,
   "metadata": {
    "collapsed": true
   },
   "outputs": [],
   "source": [
    "ridge_params = {\n",
    "    'alpha' : np.arange(.01, 1, .01)\n",
    "}\n",
    "\n",
    "ridge, ridge_pred = regression_model(Ridge, ridge_params)"
   ]
  },
  {
   "cell_type": "code",
   "execution_count": 79,
   "metadata": {
    "collapsed": false
   },
   "outputs": [
    {
     "data": {
      "image/png": "[encoded data removed]",
      "text/plain": [
       "<matplotlib.figure.Figure at 0x1cda1bcffd0>"
      ]
     },
     "metadata": {},
     "output_type": "display_data"
    }
   ],
   "source": [
    "%matplotlib inline\n",
    "\n",
    "plot_regression(ridge_pred);"
   ]
  },
  {
   "cell_type": "markdown",
   "metadata": {
    "collapsed": false
   },
   "source": [
    "Given the best parameters, the model then runs the prediction of the X values. Due to the mix of multiclass and continuous variables, the best visual to see accuracy is the average of how far off the predicted salesprice is from the actual. Below shows that on average with Ridge Regression the model predicts higher/lower of $20k. \n",
    "\n",
    "The graph belows shows each ID in the test_set and the difference from actual (y-axis: 0) to the predicted."
   ]
  },
  {
   "cell_type": "code",
   "execution_count": 70,
   "metadata": {
    "collapsed": false
   },
   "outputs": [
    {
     "name": "stdout",
     "output_type": "stream",
     "text": [
      "(1313, 207) (146, 207) (1313,) (146,)\n"
     ]
    }
   ],
   "source": [
    "row_id = split_test_y[abs(split_test_y - ridge_pred) >= 100000].index[0]\n",
    "\n",
    "X_train = X_train.drop(row_id, axis=0)\n",
    "y_train = y_train.drop(row_id, axis=0)\n",
    "\n",
    "split_train_X, split_test_X, split_train_y, split_test_y = train_test_split(X_train, y_train, test_size=0.1, random_state=1)\n",
    "\n",
    "print(split_train_X.shape, split_test_X.shape, split_train_y.shape, split_test_y.shape)"
   ]
  },
  {
   "cell_type": "code",
   "execution_count": 71,
   "metadata": {
    "collapsed": false
   },
   "outputs": [
    {
     "name": "stdout",
     "output_type": "stream",
     "text": [
      "Best Parameters for  <class 'sklearn.linear_model.ridge.Ridge'> : {'alpha': 0.31}\n",
      "Best Score for  <class 'sklearn.linear_model.ridge.Ridge'> : -34846.4578217\n",
      "Price Difference for  <class 'sklearn.linear_model.ridge.Ridge'> is:  16746.8677077\n"
     ]
    }
   ],
   "source": [
    "ridge2, ridge_pred2 = regression_model(Ridge, ridge_params)"
   ]
  },
  {
   "cell_type": "code",
   "execution_count": 76,
   "metadata": {
    "collapsed": false
   },
   "outputs": [
    {
     "data": {
      "image/png": "[encoded data removed]",
      "text/plain": [
       "<matplotlib.figure.Figure at 0x1cda18e18d0>"
      ]
     },
     "metadata": {},
     "output_type": "display_data"
    }
   ],
   "source": [
    "plot_regression(ridge_pred2);"
   ]
  },
  {
   "cell_type": "markdown",
   "metadata": {},
   "source": [
    "### Lasso Regression"
   ]
  },
  {
   "cell_type": "code",
   "execution_count": null,
   "metadata": {
    "collapsed": true
   },
   "outputs": [],
   "source": [
    "lasso_params = {\n",
    "    'alpha' : np.arange(1, 25, 0.5)\n",
    "}\n",
    "\n",
    "lasso, lasso_pred = regression_model(Lasso, lasso_params)"
   ]
  },
  {
   "cell_type": "code",
   "execution_count": null,
   "metadata": {
    "collapsed": true
   },
   "outputs": [],
   "source": [
    "ax1 = plot_regression(ridge_pred)\n",
    "ax2 = plot_regression(lasso_pred)\n",
    "plt.legend((ax1[0], ax2[0]), ('Ridge', 'Lasso'), frameon=True)\n",
    "plt.show()"
   ]
  },
  {
   "cell_type": "markdown",
   "metadata": {},
   "source": [
    "Because Lasso also elimates coefficients == 0, below shows columns that greater than zero. The code commented out shows the index of the column and the value of the best estimated coefficient."
   ]
  },
  {
   "cell_type": "code",
   "execution_count": null,
   "metadata": {
    "collapsed": true
   },
   "outputs": [],
   "source": [
    "coef = lasso.best_estimator_.coef_\n",
    "not_zero_indices = np.where(coef!=0)\n",
    "print(X_train.columns[not_zero_indices])"
   ]
  },
  {
   "cell_type": "markdown",
   "metadata": {},
   "source": [
    "## Important/ Contributing variables"
   ]
  },
  {
   "cell_type": "code",
   "execution_count": null,
   "metadata": {
    "collapsed": false
   },
   "outputs": [],
   "source": [
    "# can pick an arbitrary number >= because if look at lasso and coef some > 0 are very low, less impact\n",
    "\n",
    "lg_coef = np.where(abs(coef) >= 3000)\n",
    "fig = plt.figure(figsize=(8,8))\n",
    "\n",
    "plt.barh(range(len(lg_coef[0])), coef[lg_coef[0]])\n",
    "plt.yticks(range(len(lg_coef[0])), split_train_X.columns[lg_coef[0]])\n",
    "plt.title('Most imporant features_Lasso Regression')\n",
    "\n",
    "font = {\n",
    "    'family':'normal',\n",
    "    'weight':'bold',\n",
    "    'size':50\n",
    "}\n",
    "\n",
    "plt.rc('font', **font);\n",
    "plt.ylabel(font);\n",
    "\n",
    "# matplotlib.rcParams.update({'font.size': 50})\n"
   ]
  },
  {
   "cell_type": "code",
   "execution_count": null,
   "metadata": {
    "collapsed": false
   },
   "outputs": [],
   "source": [
    "# Find most important variables in the data + rank in order of importance, can't include the lasso gridsearch... \n",
    "lasso_rfe = Lasso(30, normalize= True, random_state=1)\n",
    "selector = RFE(lasso_rfe, n_features_to_select= 10, step=1)\n",
    "selector = selector.fit(split_train_X, split_train_y)\n",
    "selector.support_ \n",
    "selector.ranking_\n",
    "\n",
    "select = [(i, x) for i,x in enumerate(selector.ranking_) if x <= 65]\n",
    "print(select)"
   ]
  },
  {
   "cell_type": "code",
   "execution_count": null,
   "metadata": {
    "collapsed": false
   },
   "outputs": [],
   "source": [
    "# Interesting to compare coef results from grid search to the ones labeled as most important in the RFE\n",
    "coef_rfe = selector.estimator_.coef_\n",
    "# grid_lasso_rm.best_estimator_.coef_\n",
    "print(coef_rfe)"
   ]
  },
  {
   "cell_type": "markdown",
   "metadata": {},
   "source": [
    "## Random Forest Regression"
   ]
  },
  {
   "cell_type": "markdown",
   "metadata": {},
   "source": [
    "Now if we remove the coef from Lasso regression equivalent to zero what do we get?"
   ]
  },
  {
   "cell_type": "code",
   "execution_count": 58,
   "metadata": {
    "collapsed": false
   },
   "outputs": [],
   "source": [
    "tree_params = {\n",
    "    'n_estimators' : np.arange(80, 130, 10),\n",
    "    'max_depth': np.arange(8, 10, 1)\n",
    "}\n",
    "\n",
    "def tree_model(estimator, params):\n",
    "    grid_cv = GridSearchCV(estimator(random_state=1), params, cv=10, scoring= rmse)\n",
    "    grid_cv.fit(split_train_X, split_train_y)\n",
    "    grid_predict = grid_cv.predict(split_test_X)\n",
    "    price_difference = sum(abs(split_test_y - grid_predict))/len(grid_predict)\n",
    "    \n",
    "    print('Best Parameters for ', estimator, ':', grid_cv.best_params_)\n",
    "    print('Best Score for ', estimator, ':', grid_cv.best_score_)\n",
    "    \n",
    "    return grid_cv, grid_predict"
   ]
  },
  {
   "cell_type": "code",
   "execution_count": 59,
   "metadata": {
    "collapsed": false
   },
   "outputs": [
    {
     "name": "stdout",
     "output_type": "stream",
     "text": [
      "Best Parameters for  <class 'sklearn.ensemble.forest.RandomForestRegressor'> : {'n_estimators': 90, 'max_depth': 9}\n",
      "Best Score for  <class 'sklearn.ensemble.forest.RandomForestRegressor'> : -61859.6960183\n",
      "Price Difference for  <class 'sklearn.ensemble.forest.RandomForestRegressor'> is:  44446.7678105\n"
     ]
    }
   ],
   "source": [
    "randomforest, randomforest_pred = regression_model(RandomForestRegressor, tree_params)"
   ]
  },
  {
   "cell_type": "code",
   "execution_count": 60,
   "metadata": {
    "collapsed": false
   },
   "outputs": [
    {
     "name": "stdout",
     "output_type": "stream",
     "text": [
      "(1314, 54) (146, 54)\n"
     ]
    }
   ],
   "source": [
    "# curious to see how removing the columns that were equalized to zero in lasso will affect the random forest regression\n",
    "\n",
    "rm_cols = X_train.columns[not_zero_indices]\n",
    "split_train_X2, split_test_X2 = split_train_X.drop(rm_cols, axis=1), split_test_X.drop(rm_cols, axis=1)\n",
    "\n",
    "print(split_train_X2.shape, split_test_X2.shape)"
   ]
  },
  {
   "cell_type": "code",
   "execution_count": 61,
   "metadata": {
    "collapsed": false
   },
   "outputs": [
    {
     "name": "stdout",
     "output_type": "stream",
     "text": [
      "44446.7678105\n",
      "Best Parameters:  {'n_estimators': 90, 'max_depth': 9}\n",
      "Best Score:  -61859.6960183\n"
     ]
    }
   ],
   "source": [
    "#randomforest_new = regression_model(RandomForestRegressor, tree_params)\n",
    "\n",
    "randomforest.fit(split_train_X2, split_train_y)\n",
    "random_predict2 = randomforest.predict(split_test_X2)\n",
    "print(sum(abs(split_test_y - random_predict2))/len(random_predict2))\n",
    "print('Best Parameters: ', randomforest.best_params_)\n",
    "print('Best Score: ', randomforest.best_score_)"
   ]
  },
  {
   "cell_type": "code",
   "execution_count": null,
   "metadata": {
    "collapsed": true
   },
   "outputs": [],
   "source": []
  }
 ],
 "metadata": {
  "anaconda-cloud": {},
  "kernelspec": {
   "display_name": "Python [conda root]",
   "language": "python",
   "name": "conda-root-py"
  },
  "language_info": {
   "codemirror_mode": {
    "name": "ipython",
    "version": 3
   },
   "file_extension": ".py",
   "mimetype": "text/x-python",
   "name": "python",
   "nbconvert_exporter": "python",
   "pygments_lexer": "ipython3",
   "version": "3.5.2"
  }
 },
 "nbformat": 4,
 "nbformat_minor": 1
}
