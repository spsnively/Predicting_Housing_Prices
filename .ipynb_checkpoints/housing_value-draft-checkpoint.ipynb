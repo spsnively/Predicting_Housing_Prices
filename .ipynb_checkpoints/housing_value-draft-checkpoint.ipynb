{
 "cells": [
  {
   "cell_type": "markdown",
   "metadata": {
    "nbpresent": {
     "id": "bbd3abe5-d959-4dc0-bec1-57cb9ea48f6d"
    }
   },
   "source": [
    "# Housing Sale Prediction\n",
    "\n",
    "<b> Author: </b> Shannon Snively\n",
    "\n",
    "This notebook will outline different pre-processing tips and regression techniques to predict housing Sale Price. Like any other dataset this one has unpredictable data that contains missing data, mixed data, different types of data. So how to control for all these wild values? The proper pre-processing methods and techniques are vital to format the data prior to modeling to make accurate decisons. In this notebook we will find ways to visualize the data, how to spot anomolies, and methods to correct the area. The link to the Kaggle competition is: [House Prices: Advanced Regression Techniques](https://www.kaggle.com/c/house-prices-advanced-regression-techniques)\n",
    "\n",
    "The idea is to be able to extract important features from the datasets and create a model that will accruately predict the sales price using supervised learning techniques. It is my goal that this notebook will serve as a reference for anyone in a similar situation to gain a better understanding of how to generate different visualizations or search through parameters of an algorithm.\n",
    "\n",
    "\n",
    "# Introduction\n",
    "With all types of consumer industries there is always a need to understand what is the driving force behind value. This dataset was collected by Dean De Cock to be used as an alternative to the more commonly known, Boston Housing Dataset. The saleprices were collected over a range of years starting from 2006 to 2010 in Ames, Iowa. For this particular supervised learning problem provided by Kaggle we are provided with two different datasets. \n",
    "\n",
    "* The Train data consists of 79 different housing features\\ and a response fetaure which is Saleprice. \n",
    "    * The data dictionary can be found <a href=\"./Data/data_description.txt\">here.</a>\n",
    "    * There are 11 continuous variables, not including SalePrice.\n",
    "    * There are 68 categorical variables, with a mixture of binary and multi-class.\n",
    "* The Test dataset contains the same 79 features without the response variable.\n",
    "* Total collected observations are roughly 2,900 and each dataset contains equivalent observations. \n",
    "\n",
    "Some of the different techniques demonstrated:\n",
    "\n",
    "* [Data Exploration](#0)\n",
    "    * [Correlation Matrix for Numerical Features](#0.1)\n",
    "    * [Boxplot for Categorical Features](#0.2)\n",
    "    * [SalePrice over Time](#0.3)\n",
    "    * [SalePrice Histogram](#0.4)\n",
    "* [Missing Data](#1)\n",
    "    * [Impute Categorical Features](#1.1)\n",
    "    * [Impute Numerical Features](#1.2)\n",
    "* [General Linear Regression](#2)\n",
    "* [Ridge Regression](#3)\n",
    "* [ElasticNet Regression](#4)\n",
    "* [Lasso Regerssion](#5)\n",
    "* [Random Forest Regression](#6)\n",
    "* [AdaBoost](#7) \n",
    "* [XGBoost](#8)\n",
    "* [Ensemble Methods](#9)\n",
    "\n",
    "For the start of the notebook we will read in the data, and then start with the data exploration. "
   ]
  },
  {
   "cell_type": "code",
   "execution_count": 1,
   "metadata": {
    "collapsed": false,
    "nbpresent": {
     "id": "79c3b20d-d7bc-4031-9f66-7e5eaf301ea7"
    }
   },
   "outputs": [],
   "source": [
    "# import warnings ignores and unnecessary warning tags that you might get\n",
    "import pandas as pd\n",
    "import warnings\n",
    "warnings.filterwarnings('ignore')\n",
    "\n",
    "# set index_col to the 'Id' Number which was the first column, since python indexing starts at 0: column 1 == column 0\n",
    "org_train = pd.read_csv(r'Data/train.csv', index_col = 0)\n",
    "org_test = pd.read_csv(r'Data/test.csv', index_col = 0)"
   ]
  },
  {
   "cell_type": "markdown",
   "metadata": {
    "nbpresent": {
     "id": "e4ece8e1-1553-41f4-8be3-47d1be368bc9"
    }
   },
   "source": [
    "<a id='0'></a>\n",
    "# Data Exploration\n",
    "\n",
    "A couple quick functions that are generally a good idea to run through and get an idea of how the data is stored and formatted. "
   ]
  },
  {
   "cell_type": "code",
   "execution_count": 2,
   "metadata": {
    "collapsed": false,
    "nbpresent": {
     "id": "0cdb6832-6a53-4b97-b972-b601c327ecd4"
    }
   },
   "outputs": [
    {
     "data": {
      "text/plain": [
       "(1460, 80)"
      ]
     },
     "execution_count": 2,
     "metadata": {},
     "output_type": "execute_result"
    }
   ],
   "source": [
    "# org_train.head()\n",
    "# org_train.describe()\n",
    "# org_train.columns\n",
    "org_train.shape"
   ]
  },
  {
   "cell_type": "code",
   "execution_count": 3,
   "metadata": {
    "collapsed": false,
    "nbpresent": {
     "id": "1b24213e-621c-4f98-933b-db5e0c98139a"
    }
   },
   "outputs": [
    {
     "data": {
      "text/plain": [
       "(1459, 79)"
      ]
     },
     "execution_count": 3,
     "metadata": {},
     "output_type": "execute_result"
    }
   ],
   "source": [
    "# org_test.head()\n",
    "# org_test.describe()\n",
    "# org_test.info()\n",
    "# org_test.columns\n",
    "org_test.shape"
   ]
  },
  {
   "cell_type": "markdown",
   "metadata": {
    "nbpresent": {
     "id": "756c8239-8b77-4419-99ba-063208ebabbb"
    }
   },
   "source": [
    "Next we will create different graphs to visualize the data.\n",
    "<a id='0.1'></a>\n",
    "## Correlation Matrix for Numerical Features: \n",
    "\n",
    "The correlation function is based from the Pearson correlation matrix, which shows the linear relaionship of different features. It contains a values between (+1) which represents a strong positive correlation and (-1) which represents a strong negative correlation. Once applied in a heatmap we can visualize the stonger correlations based on the darker color, and weaker with the faded colors.\n",
    "\n",
    "**Pearson Correlation Equation** :\n",
    "\n",
    "**R** = correlation coefficient matrix\n",
    "\n",
    "**C** = covariance matrix, which is the variance between the given features in a dataset [ Xi * Xj ]\n",
    "\n",
    "\\begin{equation*}\n",
    "\\boxed{R_{ij} = \\frac{C_{ij}}{\\sqrt{C_{ii}*C_{jj}}}}\\\\\\\n",
    "\\end{equation*}\n",
    "\n",
    "\n",
    "The following steps will show the approach to get the correlated features, and how to apply them in a heat map. For the python correlation function it automatically includes type (float and int) to calculate variance, but you want to ensure your data is structured properly. Currently the categorical features are encoded by numerical values, so pandas dataframe is having trouble determining which is which. By assigning all the known categorical features as type (object) we are able to easily pull out the appropriate numerical features and later categorical. The next goal is to apply the pearson correlation matrix with those numerical features to get the coefficent values, which then can be applied to the heatmap."
   ]
  },
  {
   "cell_type": "code",
   "execution_count": 4,
   "metadata": {
    "collapsed": true,
    "nbpresent": {
     "id": "3d0f712b-02f5-4c66-9c1b-aeb70216a54c"
    }
   },
   "outputs": [],
   "source": [
    "import numpy as np\n",
    "import matplotlib.pyplot as plt\n",
    "import seaborn as sns\n",
    "% matplotlib inline"
   ]
  },
  {
   "cell_type": "code",
   "execution_count": 5,
   "metadata": {
    "collapsed": false
   },
   "outputs": [],
   "source": [
    "# org_train.info()"
   ]
  },
  {
   "cell_type": "code",
   "execution_count": 6,
   "metadata": {
    "collapsed": false
   },
   "outputs": [],
   "source": [
    "num_cols = ['LotFrontage', 'LotArea', 'MasVnrArea', 'BsmtFinSF1', 'BsmtFinSF2', 'BsmtUnfSF', 'TotalBsmtSF', '1stFlrSF',\n",
    "            '2ndFlrSF', 'LowQualFinSF', 'GrLivArea', 'BsmtFullBath', 'BsmtHalfBath', 'FullBath', 'HalfBath', 'Bedroom', \n",
    "            'Kitchen', 'TotRmsAbvGrd', 'Fireplaces', 'GarageCars', 'GarageArea', 'WoodDeckSF', 'OpenPorchSF', 'EnclosedPorch',\n",
    "            '3SsnPorch', 'ScreenPorch', 'PoolArea', 'MiscVal', 'SalePrice']"
   ]
  },
  {
   "cell_type": "code",
   "execution_count": 7,
   "metadata": {
    "collapsed": false
   },
   "outputs": [],
   "source": [
    "for i in org_train.columns:\n",
    "    if i not in num_cols:\n",
    "        org_train[i] = org_train[i].astype('object')"
   ]
  },
  {
   "cell_type": "code",
   "execution_count": 8,
   "metadata": {
    "collapsed": false
   },
   "outputs": [
    {
     "data": {
      "text/html": [
       "<div>\n",
       "<table border=\"1\" class=\"dataframe\">\n",
       "  <thead>\n",
       "    <tr style=\"text-align: right;\">\n",
       "      <th></th>\n",
       "      <th>LotFrontage</th>\n",
       "      <th>LotArea</th>\n",
       "      <th>MasVnrArea</th>\n",
       "      <th>BsmtFinSF1</th>\n",
       "      <th>BsmtFinSF2</th>\n",
       "      <th>BsmtUnfSF</th>\n",
       "      <th>TotalBsmtSF</th>\n",
       "      <th>1stFlrSF</th>\n",
       "      <th>2ndFlrSF</th>\n",
       "      <th>LowQualFinSF</th>\n",
       "      <th>...</th>\n",
       "      <th>GarageCars</th>\n",
       "      <th>GarageArea</th>\n",
       "      <th>WoodDeckSF</th>\n",
       "      <th>OpenPorchSF</th>\n",
       "      <th>EnclosedPorch</th>\n",
       "      <th>3SsnPorch</th>\n",
       "      <th>ScreenPorch</th>\n",
       "      <th>PoolArea</th>\n",
       "      <th>MiscVal</th>\n",
       "      <th>SalePrice</th>\n",
       "    </tr>\n",
       "  </thead>\n",
       "  <tbody>\n",
       "    <tr>\n",
       "      <th>LotFrontage</th>\n",
       "      <td>1.000000</td>\n",
       "      <td>0.426095</td>\n",
       "      <td>0.193458</td>\n",
       "      <td>0.233633</td>\n",
       "      <td>0.049900</td>\n",
       "      <td>0.132644</td>\n",
       "      <td>0.392075</td>\n",
       "      <td>0.457181</td>\n",
       "      <td>0.080177</td>\n",
       "      <td>0.038469</td>\n",
       "      <td>...</td>\n",
       "      <td>0.285691</td>\n",
       "      <td>0.344997</td>\n",
       "      <td>0.088521</td>\n",
       "      <td>0.151972</td>\n",
       "      <td>0.010700</td>\n",
       "      <td>0.070029</td>\n",
       "      <td>0.041383</td>\n",
       "      <td>0.206167</td>\n",
       "      <td>0.003368</td>\n",
       "      <td>0.351799</td>\n",
       "    </tr>\n",
       "    <tr>\n",
       "      <th>LotArea</th>\n",
       "      <td>0.426095</td>\n",
       "      <td>1.000000</td>\n",
       "      <td>0.104160</td>\n",
       "      <td>0.214103</td>\n",
       "      <td>0.111170</td>\n",
       "      <td>-0.002618</td>\n",
       "      <td>0.260833</td>\n",
       "      <td>0.299475</td>\n",
       "      <td>0.050986</td>\n",
       "      <td>0.004779</td>\n",
       "      <td>...</td>\n",
       "      <td>0.154871</td>\n",
       "      <td>0.180403</td>\n",
       "      <td>0.171698</td>\n",
       "      <td>0.084774</td>\n",
       "      <td>-0.018340</td>\n",
       "      <td>0.020423</td>\n",
       "      <td>0.043160</td>\n",
       "      <td>0.077672</td>\n",
       "      <td>0.038068</td>\n",
       "      <td>0.263843</td>\n",
       "    </tr>\n",
       "    <tr>\n",
       "      <th>MasVnrArea</th>\n",
       "      <td>0.193458</td>\n",
       "      <td>0.104160</td>\n",
       "      <td>1.000000</td>\n",
       "      <td>0.264736</td>\n",
       "      <td>-0.072319</td>\n",
       "      <td>0.114442</td>\n",
       "      <td>0.363936</td>\n",
       "      <td>0.344501</td>\n",
       "      <td>0.174561</td>\n",
       "      <td>-0.069071</td>\n",
       "      <td>...</td>\n",
       "      <td>0.364204</td>\n",
       "      <td>0.373066</td>\n",
       "      <td>0.159718</td>\n",
       "      <td>0.125703</td>\n",
       "      <td>-0.110204</td>\n",
       "      <td>0.018796</td>\n",
       "      <td>0.061466</td>\n",
       "      <td>0.011723</td>\n",
       "      <td>-0.029815</td>\n",
       "      <td>0.477493</td>\n",
       "    </tr>\n",
       "    <tr>\n",
       "      <th>BsmtFinSF1</th>\n",
       "      <td>0.233633</td>\n",
       "      <td>0.214103</td>\n",
       "      <td>0.264736</td>\n",
       "      <td>1.000000</td>\n",
       "      <td>-0.050117</td>\n",
       "      <td>-0.495251</td>\n",
       "      <td>0.522396</td>\n",
       "      <td>0.445863</td>\n",
       "      <td>-0.137079</td>\n",
       "      <td>-0.064503</td>\n",
       "      <td>...</td>\n",
       "      <td>0.224054</td>\n",
       "      <td>0.296970</td>\n",
       "      <td>0.204306</td>\n",
       "      <td>0.111761</td>\n",
       "      <td>-0.102303</td>\n",
       "      <td>0.026451</td>\n",
       "      <td>0.062021</td>\n",
       "      <td>0.140491</td>\n",
       "      <td>0.003571</td>\n",
       "      <td>0.386420</td>\n",
       "    </tr>\n",
       "    <tr>\n",
       "      <th>BsmtFinSF2</th>\n",
       "      <td>0.049900</td>\n",
       "      <td>0.111170</td>\n",
       "      <td>-0.072319</td>\n",
       "      <td>-0.050117</td>\n",
       "      <td>1.000000</td>\n",
       "      <td>-0.209294</td>\n",
       "      <td>0.104810</td>\n",
       "      <td>0.097117</td>\n",
       "      <td>-0.099260</td>\n",
       "      <td>0.014807</td>\n",
       "      <td>...</td>\n",
       "      <td>-0.038264</td>\n",
       "      <td>-0.018227</td>\n",
       "      <td>0.067898</td>\n",
       "      <td>0.003093</td>\n",
       "      <td>0.036543</td>\n",
       "      <td>-0.029993</td>\n",
       "      <td>0.088871</td>\n",
       "      <td>0.041709</td>\n",
       "      <td>0.004940</td>\n",
       "      <td>-0.011378</td>\n",
       "    </tr>\n",
       "  </tbody>\n",
       "</table>\n",
       "<p>5 rows × 27 columns</p>\n",
       "</div>"
      ],
      "text/plain": [
       "             LotFrontage   LotArea  MasVnrArea  BsmtFinSF1  BsmtFinSF2  \\\n",
       "LotFrontage     1.000000  0.426095    0.193458    0.233633    0.049900   \n",
       "LotArea         0.426095  1.000000    0.104160    0.214103    0.111170   \n",
       "MasVnrArea      0.193458  0.104160    1.000000    0.264736   -0.072319   \n",
       "BsmtFinSF1      0.233633  0.214103    0.264736    1.000000   -0.050117   \n",
       "BsmtFinSF2      0.049900  0.111170   -0.072319   -0.050117    1.000000   \n",
       "\n",
       "             BsmtUnfSF  TotalBsmtSF  1stFlrSF  2ndFlrSF  LowQualFinSF  \\\n",
       "LotFrontage   0.132644     0.392075  0.457181  0.080177      0.038469   \n",
       "LotArea      -0.002618     0.260833  0.299475  0.050986      0.004779   \n",
       "MasVnrArea    0.114442     0.363936  0.344501  0.174561     -0.069071   \n",
       "BsmtFinSF1   -0.495251     0.522396  0.445863 -0.137079     -0.064503   \n",
       "BsmtFinSF2   -0.209294     0.104810  0.097117 -0.099260      0.014807   \n",
       "\n",
       "               ...      GarageCars  GarageArea  WoodDeckSF  OpenPorchSF  \\\n",
       "LotFrontage    ...        0.285691    0.344997    0.088521     0.151972   \n",
       "LotArea        ...        0.154871    0.180403    0.171698     0.084774   \n",
       "MasVnrArea     ...        0.364204    0.373066    0.159718     0.125703   \n",
       "BsmtFinSF1     ...        0.224054    0.296970    0.204306     0.111761   \n",
       "BsmtFinSF2     ...       -0.038264   -0.018227    0.067898     0.003093   \n",
       "\n",
       "             EnclosedPorch  3SsnPorch  ScreenPorch  PoolArea   MiscVal  \\\n",
       "LotFrontage       0.010700   0.070029     0.041383  0.206167  0.003368   \n",
       "LotArea          -0.018340   0.020423     0.043160  0.077672  0.038068   \n",
       "MasVnrArea       -0.110204   0.018796     0.061466  0.011723 -0.029815   \n",
       "BsmtFinSF1       -0.102303   0.026451     0.062021  0.140491  0.003571   \n",
       "BsmtFinSF2        0.036543  -0.029993     0.088871  0.041709  0.004940   \n",
       "\n",
       "             SalePrice  \n",
       "LotFrontage   0.351799  \n",
       "LotArea       0.263843  \n",
       "MasVnrArea    0.477493  \n",
       "BsmtFinSF1    0.386420  \n",
       "BsmtFinSF2   -0.011378  \n",
       "\n",
       "[5 rows x 27 columns]"
      ]
     },
     "execution_count": 8,
     "metadata": {},
     "output_type": "execute_result"
    }
   ],
   "source": [
    "corrmat = org_train.corr()\n",
    "corrmat.head()"
   ]
  },
  {
   "cell_type": "code",
   "execution_count": 9,
   "metadata": {
    "collapsed": false,
    "nbpresent": {
     "id": "d56cbb55-d49b-47da-a585-b4ed99b71036"
    },
    "scrolled": false
   },
   "outputs": [
    {
     "data": {
      "image/png": "[encoded data removed]",
      "text/plain": [
       "<matplotlib.figure.Figure at 0x2433a856ba8>"
      ]
     },
     "metadata": {},
     "output_type": "display_data"
    }
   ],
   "source": [
    "f, ax = plt.subplots(figsize=(8, 5)) \n",
    "sns.heatmap(corrmat, vmax=.3, square=True); \n",
    "\n",
    "plt.title('Correlation Plot of Data', size=15);\n",
    "\n",
    "# plt.subplots() - creates a figure and grid of subplots that you can control how the plots are laid out and created\n",
    "# sns.heatmap() - is plotting the correlation of train data by color instead of the train.corr() which had numerical values"
   ]
  },
  {
   "cell_type": "markdown",
   "metadata": {
    "nbpresent": {
     "id": "9ea89383-a6f9-42c3-8325-1f8188519ec9"
    }
   },
   "source": [
    "In the correlation plot above, we are looking at all variables that are heavily correlated with each other to avoid mulicollinearity. The idea is to have a certain level of intuition for feature selection, while relying heavily on aspects of the data to make final decisions. \n",
    "\n",
    "**Multicollinearity**: Is when two or more of the features are highly correlated with each other, or can be linearly predicted from one another with a certain degree of accuracy. Having multicollinear features is not the end of the world, but it does take up feature space and can have an effect on feature importance in different models. Each of the correlated features are essentially multiple predictors with the same inference as the other.\n",
    "\n",
    "Here we can see a few large correlations, which may require a closer look. \n",
    "```\n",
    "['TotalBsmtSF', '1stFlrSF']\n",
    "['GarageCars', 'GarageArea']\n",
    "```\n",
    "***\n",
    "In order to get a closer look, we take the top ten correlated features to SalePrice and see what the resemblance between each of the correlated features are. The chart below is another heatmap containing just the top ten most correlated features. "
   ]
  },
  {
   "cell_type": "code",
   "execution_count": 10,
   "metadata": {
    "collapsed": false
   },
   "outputs": [
    {
     "data": {
      "text/plain": [
       "Index(['SalePrice', 'GrLivArea', 'GarageCars', 'GarageArea', 'TotalBsmtSF',\n",
       "       '1stFlrSF', 'FullBath', 'TotRmsAbvGrd', 'MasVnrArea', 'Fireplaces'],\n",
       "      dtype='object')"
      ]
     },
     "execution_count": 10,
     "metadata": {},
     "output_type": "execute_result"
    }
   ],
   "source": [
    "k = 10 # number of variables interested in looking at in the heatmap\n",
    "cols = corrmat.nlargest(k, 'SalePrice').index\n",
    "cols"
   ]
  },
  {
   "cell_type": "code",
   "execution_count": 11,
   "metadata": {
    "collapsed": false,
    "nbpresent": {
     "id": "aa35d807-732f-4076-b938-4df986e75658"
    }
   },
   "outputs": [
    {
     "data": {
      "text/plain": [
       "array([[  2.08500000e+05,   1.71000000e+03,   2.00000000e+00, ...,\n",
       "          8.00000000e+00,   1.96000000e+02,   0.00000000e+00],\n",
       "       [  1.81500000e+05,   1.26200000e+03,   2.00000000e+00, ...,\n",
       "          6.00000000e+00,   0.00000000e+00,   1.00000000e+00],\n",
       "       [  2.23500000e+05,   1.78600000e+03,   2.00000000e+00, ...,\n",
       "          6.00000000e+00,   1.62000000e+02,   1.00000000e+00],\n",
       "       ..., \n",
       "       [  2.66500000e+05,   2.34000000e+03,   1.00000000e+00, ...,\n",
       "          9.00000000e+00,   0.00000000e+00,   2.00000000e+00],\n",
       "       [  1.42125000e+05,   1.07800000e+03,   1.00000000e+00, ...,\n",
       "          5.00000000e+00,   0.00000000e+00,   0.00000000e+00],\n",
       "       [  1.47500000e+05,   1.25600000e+03,   1.00000000e+00, ...,\n",
       "          6.00000000e+00,   0.00000000e+00,   0.00000000e+00]])"
      ]
     },
     "execution_count": 11,
     "metadata": {},
     "output_type": "execute_result"
    }
   ],
   "source": [
    "org_train[cols].values"
   ]
  },
  {
   "cell_type": "code",
   "execution_count": 12,
   "metadata": {
    "collapsed": false
   },
   "outputs": [
    {
     "data": {
      "text/plain": [
       "array([[ 1.        ,  0.70862448,  0.6404092 ,  0.62343144,  0.61358055,\n",
       "         0.60585218,  0.56066376,  0.53372316,         nan,  0.46692884],\n",
       "       [ 0.70862448,  1.        ,  0.46724742,  0.46899748,  0.4548682 ,\n",
       "         0.56602397,  0.63001165,  0.82548937,         nan,  0.46167913],\n",
       "       [ 0.6404092 ,  0.46724742,  1.        ,  0.88247541,  0.43458483,\n",
       "         0.43931681,  0.46967204,  0.36228857,         nan,  0.30078877],\n",
       "       [ 0.62343144,  0.46899748,  0.88247541,  1.        ,  0.48666546,\n",
       "         0.48978165,  0.40565621,  0.33782212,         nan,  0.26914124],\n",
       "       [ 0.61358055,  0.4548682 ,  0.43458483,  0.48666546,  1.        ,\n",
       "         0.81952998,  0.32372241,  0.28557256,         nan,  0.33951932],\n",
       "       [ 0.60585218,  0.56602397,  0.43931681,  0.48978165,  0.81952998,\n",
       "         1.        ,  0.38063749,  0.40951598,         nan,  0.41053108],\n",
       "       [ 0.56066376,  0.63001165,  0.46967204,  0.40565621,  0.32372241,\n",
       "         0.38063749,  1.        ,  0.55478425,         nan,  0.2436705 ],\n",
       "       [ 0.53372316,  0.82548937,  0.36228857,  0.33782212,  0.28557256,\n",
       "         0.40951598,  0.55478425,  1.        ,         nan,  0.32611448],\n",
       "       [        nan,         nan,         nan,         nan,         nan,\n",
       "                nan,         nan,         nan,         nan,         nan],\n",
       "       [ 0.46692884,  0.46167913,  0.30078877,  0.26914124,  0.33951932,\n",
       "         0.41053108,  0.2436705 ,  0.32611448,         nan,  1.        ]])"
      ]
     },
     "execution_count": 12,
     "metadata": {},
     "output_type": "execute_result"
    }
   ],
   "source": [
    "np.corrcoef(org_train[cols].values.T)"
   ]
  },
  {
   "cell_type": "code",
   "execution_count": 13,
   "metadata": {
    "collapsed": false
   },
   "outputs": [
    {
     "data": {
      "text/plain": [
       "array(['SalePrice', 'GrLivArea', 'GarageCars', 'GarageArea', 'TotalBsmtSF',\n",
       "       '1stFlrSF', 'FullBath', 'TotRmsAbvGrd', 'MasVnrArea', 'Fireplaces'], dtype=object)"
      ]
     },
     "execution_count": 13,
     "metadata": {},
     "output_type": "execute_result"
    }
   ],
   "source": [
    "cols.values"
   ]
  },
  {
   "cell_type": "code",
   "execution_count": 14,
   "metadata": {
    "collapsed": false,
    "nbpresent": {
     "id": "513301f8-337a-4d6f-a8ef-16e79f795e13"
    }
   },
   "outputs": [
    {
     "data": {
      "image/png": "[encoded data removed]",
      "text/plain": [
       "<matplotlib.figure.Figure at 0x2433a972278>"
      ]
     },
     "metadata": {},
     "output_type": "display_data"
    }
   ],
   "source": [
    "plt.figure(figsize=(7, 4))\n",
    "\n",
    "corr_coef = np.corrcoef(org_train[cols].values.T) # T : transposes values\n",
    "hm = sns.heatmap(corr_coef, annot=True, square=True, fmt='.2f', yticklabels=cols.values, xticklabels=cols.values)\n",
    "\n",
    "plt.title('Correlation Plot of Highest Correlated Features', size=10);"
   ]
  },
  {
   "cell_type": "markdown",
   "metadata": {
    "nbpresent": {
     "id": "e8d3163f-af7d-4af5-9a29-16e24b571087"
    }
   },
   "source": [
    "**So what information can we gather from this heatmap?**\n",
    "\n",
    "`['GarageCars', 'GarageArea']` :  intuitively we can say the number of cars is likely to be based on the garage area, so we know they are similar. If we look at the correlation we see that garage cars has a stronger correlation with 'SalePrice', so it might make sense to keep that one. \n",
    "\n",
    "`['TotalBsmtSF', '1stFlrSF']` : both of these variables are highly correlated with 'SalePrice'. So how to choose? The right answer would rely on subject matter knowledge, but we can observe that another correlation for 'TotalBsmtSF' has a high correlation with OverallQual, which leads me to believe it is a higher priority for determining saleprice. So I might lean towards keeping 'TotalBsmtSF'.\n",
    "\n",
    "`['TotRmsAbvGrd', 'GrLivArea']` : with these next two, we can use common sense to see that 'GrLivArea' has a higher correlation to 'SalePrice'. Also we can assume that 'TotRmsAbvGrd' means that most rooms are above ground and are based off of'GrLivArea' (ground living area). \n",
    "\n",
    "***\n",
    "<a id='0.2'></a>\n",
    "## Boxplot for Categorical Features\n",
    "\n",
    "For categorical features boxplots are a good way to understand where some anomolies might lie. It shows the representation for each of the attributes associated with the SalePrice range. I use an interactive tool for you to be able to select which feature you want to view in relation to SalePrice."
   ]
  },
  {
   "cell_type": "code",
   "execution_count": 15,
   "metadata": {
    "collapsed": true
   },
   "outputs": [],
   "source": [
    "from ipywidgets import interact\n",
    "from collections import Counter"
   ]
  },
  {
   "cell_type": "code",
   "execution_count": 16,
   "metadata": {
    "collapsed": true
   },
   "outputs": [],
   "source": [
    "categorical = []\n",
    "for col in org_train.columns:\n",
    "    if np.dtype(org_train[col]) == object:\n",
    "        categorical.append(col)"
   ]
  },
  {
   "cell_type": "code",
   "execution_count": 17,
   "metadata": {
    "collapsed": false
   },
   "outputs": [
    {
     "name": "stdout",
     "output_type": "stream",
     "text": [
      "Count of each categorical attribute \n",
      "Counter({20: 536, 60: 299, 50: 144, 120: 87, 30: 69, 160: 63, 70: 60, 80: 58, 90: 52, 190: 30, 85: 20, 75: 16, 45: 12, 180: 10, 40: 4})\n"
     ]
    },
    {
     "data": {
      "image/png": "[encoded data removed]",
      "text/plain": [
       "<matplotlib.figure.Figure at 0x2433ad5b438>"
      ]
     },
     "metadata": {},
     "output_type": "display_data"
    }
   ],
   "source": [
    "# this is an interactive map that allows you to look at the boxplot between the response and other variables. \n",
    "column_name = list(org_train[categorical].columns)\n",
    "\n",
    "@interact\n",
    "def box_plot(Feature= column_name):\n",
    "    plt.figure(figsize=(9,4))\n",
    "    sns.boxplot(org_train[Feature], org_train['SalePrice'])\n",
    "    plt.xticks(rotation=45)\n",
    "    \n",
    "    print('Count of each categorical attribute \\n{}'.format(Counter(org_train[Feature])))"
   ]
  },
  {
   "cell_type": "markdown",
   "metadata": {},
   "source": [
    "** So what information can we gather from the boxplot?**\n",
    "\n",
    "The boxplot shows the feature distribution for each of its attributes in relation to SalePrice. I also show a Counter function that shows the representation of each attribute in a variable. We can see that there are some variables that are highly imbalanced and skewed. There are a couple ways of going about this, and my two thoughts are to either leave it up to the model or if majority of the data is imbalanced then remove them. \n",
    "\n",
    "A few of the features that I noticed with imbalanced attributes are:\n",
    "\n",
    "`[Street]` : {'Pave': 2907, 'Grvl': 12}\n",
    "\n",
    "`[Utilities]`  : {'AllPub': 2916, 'NA': 2, 'NoSeWa': 1}\n",
    "***\n",
    "<a id='0.3'></a>\n",
    "## Time Features\n",
    "\n",
    "Since we have seen the numerical and categorical features, lets look at how the SalePrice varies over time. We will look at three features that seem to have a lot of relevance at least to me when buying a home. A lot of people are looking for when the house was built to determine if the house has good bones, and if and when it was remodled. The last one was the year the house was sold to see if the median SalePrice is going up or down within the past couple of years."
   ]
  },
  {
   "cell_type": "code",
   "execution_count": 18,
   "metadata": {
    "collapsed": true
   },
   "outputs": [],
   "source": [
    "def time_plot(df, groupby_col, metric):\n",
    "    year_sale = df.groupby(groupby_col)['SalePrice'].agg(metric)\n",
    "\n",
    "    plt.figure(figsize=(12, 3))\n",
    "    plt.plot(year_sale.index, year_sale.values)\n",
    "    \n",
    "    plt.title('{} SalePrice by {}'.format(metric, groupby_col));\n",
    "    plt.ylabel('SalePrice');\n",
    "    plt.xlabel(groupby_col);\n",
    "    \n",
    "    if groupby_col == 'YrSold':\n",
    "        years = [x for x in range(2006, 2011)]\n",
    "        plt.xticks(years, [str(x) for x in years]);\n",
    "    else:\n",
    "        plt.xlim(min(df[groupby_col]), max(df[groupby_col]))\n",
    "        plt.ylim(50000, 425000);\n"
   ]
  },
  {
   "cell_type": "code",
   "execution_count": 19,
   "metadata": {
    "collapsed": false
   },
   "outputs": [
    {
     "data": {
      "image/png": "[encoded data removed]",
      "text/plain": [
       "<matplotlib.figure.Figure at 0x2433b119550>"
      ]
     },
     "metadata": {},
     "output_type": "display_data"
    }
   ],
   "source": [
    "time_plot(org_train, 'YearBuilt', 'median')"
   ]
  },
  {
   "cell_type": "code",
   "execution_count": 20,
   "metadata": {
    "collapsed": false
   },
   "outputs": [],
   "source": [
    "remod = org_train[org_train.YearRemodAdd != org_train.YearBuilt]"
   ]
  },
  {
   "cell_type": "code",
   "execution_count": 21,
   "metadata": {
    "collapsed": false
   },
   "outputs": [
    {
     "name": "stdout",
     "output_type": "stream",
     "text": [
      "Number of houses remolded was 696 out of 1460.\n"
     ]
    },
    {
     "data": {
      "image/png": "[encoded data removed]",
      "text/plain": [
       "<matplotlib.figure.Figure at 0x2433afb41d0>"
      ]
     },
     "metadata": {},
     "output_type": "display_data"
    }
   ],
   "source": [
    "print('Number of houses remolded was {} out of {}.'.format(len(remod), len(org_train)))\n",
    "time_plot(remod, 'YearRemodAdd', 'median')"
   ]
  },
  {
   "cell_type": "code",
   "execution_count": 22,
   "metadata": {
    "collapsed": false
   },
   "outputs": [
    {
     "data": {
      "image/png": "[encoded data removed]",
      "text/plain": [
       "<matplotlib.figure.Figure at 0x2433b032358>"
      ]
     },
     "metadata": {},
     "output_type": "display_data"
    }
   ],
   "source": [
    "time_plot(org_train, 'YrSold', 'median')"
   ]
  },
  {
   "cell_type": "markdown",
   "metadata": {},
   "source": [
    "<a id='0.4'></a>\n",
    "## Response Variable\n",
    "When using supervised learning as your modeling method it is always important to look at the response variable. There is a good chance, especially when dealing with price values, that the response is not going to have a guassian distribution (normal distribution). It could also be the case in categorical data that there is an imbalanced class distribution that you will have to take care of. \n",
    "\n",
    "From the graph below we can see that the response variable is right skewed. In order to transform the data into a normal distribution we can take the log of SalePrice, and if we want to convert back use the exponential log of that value. Another way to properly account for this would be the scoring method used. Instead of taking RMSE for a regression analysis, another method would be to take the RMSLE to shrink the value to an appropriate measure.  "
   ]
  },
  {
   "cell_type": "code",
   "execution_count": 23,
   "metadata": {
    "collapsed": false
   },
   "outputs": [
    {
     "data": {
      "image/png": "[encoded data removed]",
      "text/plain": [
       "<matplotlib.figure.Figure at 0x2433b014fd0>"
      ]
     },
     "metadata": {},
     "output_type": "display_data"
    }
   ],
   "source": [
    "plt.hist(org_train['SalePrice']);\n",
    "plt.title('SalePrice - R4ight Skewed')\n",
    "plt.ylabel('Frequency');"
   ]
  },
  {
   "cell_type": "code",
   "execution_count": 24,
   "metadata": {
    "collapsed": false,
    "scrolled": true
   },
   "outputs": [
    {
     "data": {
      "image/png": "[encoded data removed]",
      "text/plain": [
       "<matplotlib.figure.Figure at 0x2433a969c50>"
      ]
     },
     "metadata": {},
     "output_type": "display_data"
    }
   ],
   "source": [
    "org_train['SalePrice'] = np.log(org_train['SalePrice'])\n",
    "plt.hist(org_train['SalePrice']);\n",
    "plt.title('Log(SalePrice) - Normal Distribution')\n",
    "plt.ylabel('Frequency');"
   ]
  },
  {
   "cell_type": "markdown",
   "metadata": {},
   "source": [
    "## Combine Data and Clean all at Once\n",
    "\n",
    "Now that we know a little more about the data, I am going to combine both the train and test datasets to correct for missing values at the same time. "
   ]
  },
  {
   "cell_type": "code",
   "execution_count": 25,
   "metadata": {
    "collapsed": false,
    "nbpresent": {
     "id": "664047df-c4bf-48f5-8f64-e00da4c467b7"
    }
   },
   "outputs": [],
   "source": [
    "# create train, test set, then combine together minus the response variable\n",
    "X_train, y_train = org_train.iloc[:,:-1], org_train['SalePrice']"
   ]
  },
  {
   "cell_type": "markdown",
   "metadata": {
    "nbpresent": {
     "id": "b1d9234b-b90b-4ab2-81d0-f56b33d057d3"
    }
   },
   "source": [
    "In the cell above, we used the tuple format to assign the X_train with all features from the original train data minus the last, which happend to be SalePrice. The second object assigned is y_train as the SalePrice column.\n",
    "\n",
    "The next step is then to concatenate (or stack) the new X_train (all features besides SalePrice) and org_test (test dataset that originally had no response variable attached). Below I have outlined an example of what the pandas concatenate does for both columns or rows depdening on the specified axis assigned in the function. The default is axis = 0 which is the axis along rows (would add to length of dataframe), or you can use axis = 1 which is by columns (adds to the width of a dataframe).\n",
    "\n",
    "* ```pd.concat:```  essentially acts like a merge, combining the same length of series together. You will see by the shape of the new dataframe that the length is X_train + org_test, but the columns remain the same."
   ]
  },
  {
   "cell_type": "code",
   "execution_count": 26,
   "metadata": {
    "collapsed": false,
    "nbpresent": {
     "id": "f26d94fd-abbd-4227-b67b-fb40beb61ff0"
    }
   },
   "outputs": [
    {
     "data": {
      "text/plain": [
       "0    0\n",
       "1    1\n",
       "2    2\n",
       "dtype: int64"
      ]
     },
     "execution_count": 26,
     "metadata": {},
     "output_type": "execute_result"
    }
   ],
   "source": [
    "# Here for demonstration of the concat function we can show the difference by axis\n",
    "s1 = pd.Series([0, 1, 2])\n",
    "s2 = pd.Series([10, 11, 12])\n",
    "s1"
   ]
  },
  {
   "cell_type": "code",
   "execution_count": 27,
   "metadata": {
    "collapsed": false,
    "nbpresent": {
     "id": "54de3aab-ad91-4a63-8015-7b82294ea23c"
    }
   },
   "outputs": [
    {
     "data": {
      "text/html": [
       "<div>\n",
       "<table border=\"1\" class=\"dataframe\">\n",
       "  <thead>\n",
       "    <tr style=\"text-align: right;\">\n",
       "      <th></th>\n",
       "      <th>0</th>\n",
       "      <th>1</th>\n",
       "    </tr>\n",
       "  </thead>\n",
       "  <tbody>\n",
       "    <tr>\n",
       "      <th>0</th>\n",
       "      <td>0</td>\n",
       "      <td>10</td>\n",
       "    </tr>\n",
       "    <tr>\n",
       "      <th>1</th>\n",
       "      <td>1</td>\n",
       "      <td>11</td>\n",
       "    </tr>\n",
       "    <tr>\n",
       "      <th>2</th>\n",
       "      <td>2</td>\n",
       "      <td>12</td>\n",
       "    </tr>\n",
       "  </tbody>\n",
       "</table>\n",
       "</div>"
      ],
      "text/plain": [
       "   0   1\n",
       "0  0  10\n",
       "1  1  11\n",
       "2  2  12"
      ]
     },
     "execution_count": 27,
     "metadata": {},
     "output_type": "execute_result"
    }
   ],
   "source": [
    "# If we add another series, and then use the concatenate function from pandas library on axis=1 we will now see two columns\n",
    "pd.concat([s1, s2], axis=1)"
   ]
  },
  {
   "cell_type": "code",
   "execution_count": 28,
   "metadata": {
    "collapsed": false
   },
   "outputs": [
    {
     "data": {
      "text/plain": [
       "0     0\n",
       "1     1\n",
       "2     2\n",
       "3    10\n",
       "4    11\n",
       "5    12\n",
       "dtype: int64"
      ]
     },
     "execution_count": 28,
     "metadata": {},
     "output_type": "execute_result"
    }
   ],
   "source": [
    "# Using the same concat function you will notice that axis=0 creates one column. Think of it as stacking a row onto another row.\n",
    "pd.concat([s1, s2], axis=0).reset_index(drop=True)"
   ]
  },
  {
   "cell_type": "code",
   "execution_count": 29,
   "metadata": {
    "collapsed": false,
    "nbpresent": {
     "id": "468a20c2-4ddf-4b9b-a700-10d145f3cebe"
    }
   },
   "outputs": [
    {
     "name": "stdout",
     "output_type": "stream",
     "text": [
      "(2919, 79)\n"
     ]
    }
   ],
   "source": [
    "# Now stack the two original dataframes using the row axis, so one dataset on top of the other\n",
    "stacked_df = pd.concat([X_train, org_test], axis=0)\n",
    "print(stacked_df.shape)"
   ]
  },
  {
   "cell_type": "markdown",
   "metadata": {
    "nbpresent": {
     "id": "f78d8014-7b60-482b-b851-7f4c43400de1"
    }
   },
   "source": [
    "<a id='1'></a>\n",
    "## Missing Data \n",
    "\n",
    "There are a lot of different ways that missing data can show up in a dataset. Generally most values that are blank are usually filled in by (np.NaN), but can also have (NA, 0, ?, ., 999, unknown). The np.NaN values can be searched by `df.isnull()` / `df.isna()`. The remaining categorized missing values would have to include a different search technique.\n",
    "\n",
    "Algorithms in python do not handle missing data, so instead of deleting all the rows that contain missing values a good technique is imputation. \n",
    "\n",
    "1. __Imputation__ - Consists of substituting missing values with a value that compliments the data. There are several ways to impute the data, but during the imputation a certain degree of risk is incorporated. The risk is that some portion of data is now biased towards the imputer method selected. Some of the imputation methods are depicted below, however some of these methods are only in Python 2.7.     \n",
    "<p></p>\n",
    "\n",
    "    1. **Mean/ Median**: \n",
    "        * SKLearn.preprocessing.Imputer() : Can be by either row or column depending on axis given.\n",
    "            * Mean - Normal distributed data\n",
    "            * Median - Skewed data\n",
    "            * Frequency - Categorical data\n",
    "\n",
    "    2. **KNNimpute**\n",
    "        * Fills in all missing values using the average of the designated k (number) of nearest neighbors.\n",
    "\n",
    "    3. **Model Driven**\n",
    "        * Train a regression model for missing values, then re-train after fill in values. \n",
    "\n",
    "    4. **SVDimpute**\n",
    "        * Fills in missing values using Singular Value Decomposition. SVD is a factorization of a given matrix (n X p) if A is that matrix, it transforms matrix A into the product of three matrices A = UDV' where the columns of U and V are orthogonal and the matrix D is diagonal with positive real entries. \n",
    "\n",
    "    5. **Itterative**\n",
    "        * **MICE** - sklearn package the implements multivariate imputation by chained equations. MICE involves creating multiple predictions for each missing value, the analysis of multiple imputed data takes into account the uncertainty in the imputations and yield accurate standard errors compared to a one time imputation such as mean.\n",
    "    <p></p>\n",
    "\n",
    "2. **Delete rows or columns containing missing data or more than a percentage of missing data.** Deleting rows is a convenient method, but not preferred. Many data scientists do not like the idea of deleting data, especially depending on the sample size. However, if the data is missing more than 80% of data within a column or row, the question then is how vital is that column or series of rows towards predicting the responce. It can be a very arbitrary concept about what to delete, and sometimes it has to be an intuitive decision. \n",
    "    <p></p>\n",
    "         \n",
    "3. **Fill in the missing data with a value.** In order to fill in values with an arbitrary value there has to be a good explanation. One example would be if the column consisted of count data. For example number of chairs in a living room. Some may range from 1-6, some may have no chairs which orginally came up as blank or no value in the data. In python no value is recognized as missing, and therefore could be assumed that it was missing and replaced with 0. "
   ]
  },
  {
   "cell_type": "code",
   "execution_count": 30,
   "metadata": {
    "collapsed": false,
    "nbpresent": {
     "id": "957b4b94-6d7b-40cd-930f-1cada30370ed"
    },
    "scrolled": true
   },
   "outputs": [
    {
     "data": {
      "text/plain": [
       "MSSubClass          0\n",
       "MSZoning            4\n",
       "LotFrontage       486\n",
       "LotArea             0\n",
       "Street              0\n",
       "Alley            2721\n",
       "LotShape            0\n",
       "LandContour         0\n",
       "Utilities           2\n",
       "LotConfig           0\n",
       "LandSlope           0\n",
       "Neighborhood        0\n",
       "Condition1          0\n",
       "Condition2          0\n",
       "BldgType            0\n",
       "HouseStyle          0\n",
       "OverallQual         0\n",
       "OverallCond         0\n",
       "YearBuilt           0\n",
       "YearRemodAdd        0\n",
       "RoofStyle           0\n",
       "RoofMatl            0\n",
       "Exterior1st         1\n",
       "Exterior2nd         1\n",
       "MasVnrType         24\n",
       "MasVnrArea         23\n",
       "ExterQual           0\n",
       "ExterCond           0\n",
       "Foundation          0\n",
       "BsmtQual           81\n",
       "                 ... \n",
       "HalfBath            0\n",
       "BedroomAbvGr        0\n",
       "KitchenAbvGr        0\n",
       "KitchenQual         1\n",
       "TotRmsAbvGrd        0\n",
       "Functional          2\n",
       "Fireplaces          0\n",
       "FireplaceQu      1420\n",
       "GarageType        157\n",
       "GarageYrBlt       159\n",
       "GarageFinish      159\n",
       "GarageCars          1\n",
       "GarageArea          1\n",
       "GarageQual        159\n",
       "GarageCond        159\n",
       "PavedDrive          0\n",
       "WoodDeckSF          0\n",
       "OpenPorchSF         0\n",
       "EnclosedPorch       0\n",
       "3SsnPorch           0\n",
       "ScreenPorch         0\n",
       "PoolArea            0\n",
       "PoolQC           2909\n",
       "Fence            2348\n",
       "MiscFeature      2814\n",
       "MiscVal             0\n",
       "MoSold              0\n",
       "YrSold              0\n",
       "SaleType            1\n",
       "SaleCondition       0\n",
       "dtype: int64"
      ]
     },
     "execution_count": 30,
     "metadata": {},
     "output_type": "execute_result"
    }
   ],
   "source": [
    "stacked_df.isnull().sum()"
   ]
  },
  {
   "cell_type": "markdown",
   "metadata": {
    "nbpresent": {
     "id": "9368d08e-151c-4c28-9e77-a894bb6810a0"
    }
   },
   "source": [
    "### Missing Values from our Data\n",
    "\n",
    "After taking a look at all of our data, we can see several of the columns are missing more than 30% of data. For each column tha is more than 1000 values. I had combined the data before I checked for missing values in each, so in order to check if each dataset has similar missing values I looked at columns missing more than 1000 observations."
   ]
  },
  {
   "cell_type": "code",
   "execution_count": 31,
   "metadata": {
    "collapsed": false,
    "nbpresent": {
     "id": "e0f1a791-c5ee-44a5-a1c2-0c4463f8474e"
    }
   },
   "outputs": [
    {
     "name": "stdout",
     "output_type": "stream",
     "text": [
      "From the train data:\n",
      "\n",
      " Alley          1369\n",
      "PoolQC         1453\n",
      "Fence          1179\n",
      "MiscFeature    1406\n",
      "dtype: int64\n",
      "\n",
      "From the test data:\n",
      "\n",
      " Alley          1352\n",
      "PoolQC         1456\n",
      "Fence          1169\n",
      "MiscFeature    1408\n",
      "dtype: int64\n"
     ]
    }
   ],
   "source": [
    "print('From the train data:\\n\\n', X_train.isnull().sum()[X_train.isnull().sum() > 1000])\n",
    "print('\\nFrom the test data:\\n\\n', org_test.isnull().sum()[org_test.isnull().sum() > 1000])"
   ]
  },
  {
   "cell_type": "markdown",
   "metadata": {},
   "source": [
    "### Variables to Remove\n",
    "\n",
    "As we can see, both data sets are fairly equal when it comes to missing data. Since the good majority of data is missing from some of the columns in both train and test, I removed the features that were missing more than 1000 values from each. Another variable that was removed in conjunction was 'FireplaceQu', which when the two datasets are stacked had over 1000 missing variables.\n",
    "\n",
    "The second set of variables that I am deleting come from the prior data exploration where these features were either multicollinear or had a very imbalanced distribution."
   ]
  },
  {
   "cell_type": "code",
   "execution_count": 32,
   "metadata": {
    "collapsed": false,
    "nbpresent": {
     "id": "f3bd0e71-dddf-48c2-9d3f-a4fc889c3743"
    }
   },
   "outputs": [
    {
     "name": "stdout",
     "output_type": "stream",
     "text": [
      "Index(['Alley', 'FireplaceQu', 'PoolQC', 'Fence', 'MiscFeature'], dtype='object')\n"
     ]
    }
   ],
   "source": [
    "cols_remove = list([i for i in range(0,len(stacked_df.columns)) if stacked_df[stacked_df.columns[i]].isnull().sum() > 1000])\n",
    "print(stacked_df[cols_remove].columns)\n",
    "\n",
    "stacked_df = stacked_df.drop(stacked_df[cols_remove], axis=1)"
   ]
  },
  {
   "cell_type": "code",
   "execution_count": 33,
   "metadata": {
    "collapsed": false
   },
   "outputs": [
    {
     "data": {
      "text/plain": [
       "(2919, 69)"
      ]
     },
     "execution_count": 33,
     "metadata": {},
     "output_type": "execute_result"
    }
   ],
   "source": [
    "cols_remove2 = ['GarageArea', 'TotalBsmtSF', 'GrLivArea', 'Street', 'Utilities']\n",
    "stacked_df = stacked_df.drop(stacked_df[cols_remove2], axis=1)\n",
    "stacked_df.shape"
   ]
  },
  {
   "cell_type": "markdown",
   "metadata": {},
   "source": [
    "<a id='1.1'></a>\n",
    "## Imputation on Categorical\n",
    "There are several ways that we can impute categorical data. For this data set though, I want to first look at what are the categorical features and how much missing values each have. "
   ]
  },
  {
   "cell_type": "code",
   "execution_count": 34,
   "metadata": {
    "collapsed": true
   },
   "outputs": [],
   "source": [
    "from sklearn.preprocessing import LabelEncoder\n",
    "from sklearn.preprocessing import Imputer"
   ]
  },
  {
   "cell_type": "code",
   "execution_count": 35,
   "metadata": {
    "collapsed": false,
    "scrolled": false
   },
   "outputs": [
    {
     "data": {
      "text/plain": [
       "MSZoning          4\n",
       "Exterior1st       1\n",
       "Exterior2nd       1\n",
       "MasVnrType       24\n",
       "BsmtQual         81\n",
       "BsmtCond         82\n",
       "BsmtExposure     82\n",
       "BsmtFinType1     79\n",
       "BsmtFinType2     80\n",
       "Electrical        1\n",
       "KitchenQual       1\n",
       "Functional        2\n",
       "GarageType      157\n",
       "GarageYrBlt     159\n",
       "GarageFinish    159\n",
       "GarageQual      159\n",
       "GarageCond      159\n",
       "SaleType          1\n",
       "dtype: int64"
      ]
     },
     "execution_count": 35,
     "metadata": {},
     "output_type": "execute_result"
    }
   ],
   "source": [
    "categorical = []\n",
    "\n",
    "for i in stacked_df.columns:\n",
    "    if (stacked_df[i].isnull().sum() > 0) & (np.dtype(stacked_df[i]) == object):\n",
    "        categorical.append(i)\n",
    "        \n",
    "stacked_df[categorical].isnull().sum()"
   ]
  },
  {
   "cell_type": "markdown",
   "metadata": {},
   "source": [
    "The categorical features listed above that have more than 25 missing values also contain an attribute that is labeled 'NA'. When you do a search within the column to see if the string NA appear you get back a value of 0. It is my assumption that as pandas dataframe is reading in the dataset like an empty space, it reads in the 'NA' value as missing. To indicate that the attribute is actually 'NA', which means the house just does not have this item we can replace it with the strong 'NA'. After being converted it will be treated like any other attribute in the column."
   ]
  },
  {
   "cell_type": "code",
   "execution_count": 36,
   "metadata": {
    "collapsed": false
   },
   "outputs": [],
   "source": [
    "categorical_NA = []\n",
    "\n",
    "for i in stacked_df.columns:\n",
    "    if (stacked_df[i].isnull().sum() > 25) & (np.dtype(stacked_df[i]) == object):\n",
    "        categorical_NA.append(i)\n",
    "        \n",
    "stacked_df[categorical_NA] = stacked_df[categorical_NA].fillna('NA')"
   ]
  },
  {
   "cell_type": "markdown",
   "metadata": {},
   "source": [
    "As for the other features because there were not that many features missing I took the most frequent out of the column and replace the missing with that value. I have to take another additional step before imputing these features. In python the categorical features have to be converted into numerical labels. In Python the type(string) is not recognized as one that can be converged whereas in R a type(factor) is fine to make certain computations with.\n",
    "\n",
    "Depending on whether the type is binary, nominal, or ordinal we have a few ways of dealing with them. \n",
    "\n",
    "* Variables can all be converted using LabelEncoder into numerical values. One issue with label encoder and numerical features is that these types of columns will react in a similar manner in the model. \n",
    "\n",
    "    * **Example** say we have 50 States in the dataset. The LabelEncoding would now range (0-49), labeling each state in the column sequentially as it appears in the column. However, what if we had age as numerical value for 0-50. It becomes an issue of how independently the columns will be treated from one another. \n",
    "\n",
    "* Variables can also be converted into dummy variables. This is more useful for a dataset that is entirely categorical. The flaw of dummy_variables is that if there are a lot of features it will make your dataset very wide.\n",
    "\n",
    "* The last technique would be for known ordinal features where you can map the associated value to the attribute."
   ]
  },
  {
   "cell_type": "code",
   "execution_count": 37,
   "metadata": {
    "collapsed": true,
    "nbpresent": {
     "id": "a1a249b9-8bba-47f1-8913-0bbe000b4d47"
    }
   },
   "outputs": [],
   "source": [
    "# another way to label for binary\n",
    "stacked_df['CentralAir'] = stacked_df['CentralAir'].apply(lambda x: 1 if x == 'Y' else 0)"
   ]
  },
  {
   "cell_type": "code",
   "execution_count": 38,
   "metadata": {
    "collapsed": false
   },
   "outputs": [],
   "source": [
    "# So as I did above you can map all ordinal features to what you want or you can also do label encoder.\n",
    "encoder = LabelEncoder()\n",
    "\n",
    "nominal= ['MSSubClass','OverallQual', 'OverallCond', 'CentralAir']\n",
    "for col in stacked_df.columns:\n",
    "    if np.dtype(stacked_df[col]) == object:\n",
    "        if col not in nominal:\n",
    "            stacked_df[col] = encoder.fit_transform(stacked_df[col].astype(str))\n",
    "        else:\n",
    "            stacked_df[col] = stacked_df[col].astype(float)"
   ]
  },
  {
   "cell_type": "code",
   "execution_count": 39,
   "metadata": {
    "collapsed": false
   },
   "outputs": [],
   "source": [
    "categorical_frq=[col for col in categorical if col not in categorical_NA]\n",
    "\n",
    "for col in categorical_frq:\n",
    "    missing  = np.max(stacked_df[col])\n",
    "    most_freq = Counter(stacked_df[col]).most_common(1)[0][0]\n",
    "    stacked_df[col] = stacked_df[col].replace(missing, most_freq)"
   ]
  },
  {
   "cell_type": "markdown",
   "metadata": {},
   "source": [
    "If you were using ordinal data where you wanted to designate the values for each feature the code below would be able to do that. However, as of now when we look at our data we should see all numerical values in the range of how many attributes each feature contained. "
   ]
  },
  {
   "cell_type": "code",
   "execution_count": 40,
   "metadata": {
    "collapsed": false
   },
   "outputs": [
    {
     "data": {
      "text/html": [
       "<div>\n",
       "<table border=\"1\" class=\"dataframe\">\n",
       "  <thead>\n",
       "    <tr style=\"text-align: right;\">\n",
       "      <th></th>\n",
       "      <th>MSSubClass</th>\n",
       "      <th>MSZoning</th>\n",
       "      <th>LotFrontage</th>\n",
       "      <th>LotArea</th>\n",
       "      <th>LotShape</th>\n",
       "      <th>LandContour</th>\n",
       "      <th>LotConfig</th>\n",
       "      <th>LandSlope</th>\n",
       "      <th>Neighborhood</th>\n",
       "      <th>Condition1</th>\n",
       "      <th>...</th>\n",
       "      <th>OpenPorchSF</th>\n",
       "      <th>EnclosedPorch</th>\n",
       "      <th>3SsnPorch</th>\n",
       "      <th>ScreenPorch</th>\n",
       "      <th>PoolArea</th>\n",
       "      <th>MiscVal</th>\n",
       "      <th>MoSold</th>\n",
       "      <th>YrSold</th>\n",
       "      <th>SaleType</th>\n",
       "      <th>SaleCondition</th>\n",
       "    </tr>\n",
       "    <tr>\n",
       "      <th>Id</th>\n",
       "      <th></th>\n",
       "      <th></th>\n",
       "      <th></th>\n",
       "      <th></th>\n",
       "      <th></th>\n",
       "      <th></th>\n",
       "      <th></th>\n",
       "      <th></th>\n",
       "      <th></th>\n",
       "      <th></th>\n",
       "      <th></th>\n",
       "      <th></th>\n",
       "      <th></th>\n",
       "      <th></th>\n",
       "      <th></th>\n",
       "      <th></th>\n",
       "      <th></th>\n",
       "      <th></th>\n",
       "      <th></th>\n",
       "      <th></th>\n",
       "      <th></th>\n",
       "    </tr>\n",
       "  </thead>\n",
       "  <tbody>\n",
       "    <tr>\n",
       "      <th>1</th>\n",
       "      <td>60.0</td>\n",
       "      <td>3</td>\n",
       "      <td>65.0</td>\n",
       "      <td>8450</td>\n",
       "      <td>3</td>\n",
       "      <td>3</td>\n",
       "      <td>4</td>\n",
       "      <td>0</td>\n",
       "      <td>5</td>\n",
       "      <td>2</td>\n",
       "      <td>...</td>\n",
       "      <td>61</td>\n",
       "      <td>0</td>\n",
       "      <td>0</td>\n",
       "      <td>0</td>\n",
       "      <td>0</td>\n",
       "      <td>0</td>\n",
       "      <td>4</td>\n",
       "      <td>2</td>\n",
       "      <td>8</td>\n",
       "      <td>4</td>\n",
       "    </tr>\n",
       "    <tr>\n",
       "      <th>2</th>\n",
       "      <td>20.0</td>\n",
       "      <td>3</td>\n",
       "      <td>80.0</td>\n",
       "      <td>9600</td>\n",
       "      <td>3</td>\n",
       "      <td>3</td>\n",
       "      <td>2</td>\n",
       "      <td>0</td>\n",
       "      <td>24</td>\n",
       "      <td>1</td>\n",
       "      <td>...</td>\n",
       "      <td>0</td>\n",
       "      <td>0</td>\n",
       "      <td>0</td>\n",
       "      <td>0</td>\n",
       "      <td>0</td>\n",
       "      <td>0</td>\n",
       "      <td>7</td>\n",
       "      <td>1</td>\n",
       "      <td>8</td>\n",
       "      <td>4</td>\n",
       "    </tr>\n",
       "  </tbody>\n",
       "</table>\n",
       "<p>2 rows × 69 columns</p>\n",
       "</div>"
      ],
      "text/plain": [
       "    MSSubClass  MSZoning  LotFrontage  LotArea  LotShape  LandContour  \\\n",
       "Id                                                                      \n",
       "1         60.0         3         65.0     8450         3            3   \n",
       "2         20.0         3         80.0     9600         3            3   \n",
       "\n",
       "    LotConfig  LandSlope  Neighborhood  Condition1      ...        \\\n",
       "Id                                                      ...         \n",
       "1           4          0             5           2      ...         \n",
       "2           2          0            24           1      ...         \n",
       "\n",
       "    OpenPorchSF  EnclosedPorch  3SsnPorch  ScreenPorch  PoolArea  MiscVal  \\\n",
       "Id                                                                          \n",
       "1            61              0          0            0         0        0   \n",
       "2             0              0          0            0         0        0   \n",
       "\n",
       "    MoSold  YrSold  SaleType  SaleCondition  \n",
       "Id                                           \n",
       "1        4       2         8              4  \n",
       "2        7       1         8              4  \n",
       "\n",
       "[2 rows x 69 columns]"
      ]
     },
     "execution_count": 40,
     "metadata": {},
     "output_type": "execute_result"
    }
   ],
   "source": [
    "stacked_df.head(2)"
   ]
  },
  {
   "cell_type": "code",
   "execution_count": 41,
   "metadata": {
    "collapsed": false,
    "nbpresent": {
     "id": "606135c6-1d98-4687-84d8-44763d1624e8"
    }
   },
   "outputs": [],
   "source": [
    "# Quality_map = {\n",
    "#         'NA': 0, \n",
    "#         'Po': 1, \n",
    "#         'Fa':2, \n",
    "#         'TA':3, \n",
    "#         'Gd':4, \n",
    "#         'Ex':5\n",
    "# }\n",
    "# Quality_list = ['ExterQual', 'ExterCond', 'BsmtQual', 'BsmtCond', 'HeatingQC', 'KitchenQual', 'GarageQual', 'GarageCond']\n",
    "# for col in Quality_list:\n",
    "#     stacked_df[col] = stacked_df[col].map(Quality_map)                                                            "
   ]
  },
  {
   "cell_type": "markdown",
   "metadata": {
    "nbpresent": {
     "id": "86f12627-d996-4b56-965a-cc8d924ed9c2"
    }
   },
   "source": [
    "<a id='1.2'></a>\n",
    "## Imputation on Numerical\n",
    "After taking care of the categorical data I was curious of how to deal with the remaining numerical values. I obtained the total sum of missing values for each variable, graphed the variables with large missing values to see skewness. Each graph has a legend with the train and test to show the orginal train data and test data for similarities or differences. \n",
    "\n",
    "Based upon looking at the normal distribution of the data, it would suggest whether to impute the mean or median of the dataset."
   ]
  },
  {
   "cell_type": "code",
   "execution_count": 42,
   "metadata": {
    "collapsed": false
   },
   "outputs": [
    {
     "data": {
      "text/plain": [
       "LotFrontage     486\n",
       "MasVnrArea       23\n",
       "BsmtFinSF1        1\n",
       "BsmtFinSF2        1\n",
       "BsmtUnfSF         1\n",
       "BsmtFullBath      2\n",
       "BsmtHalfBath      2\n",
       "GarageCars        1\n",
       "dtype: int64"
      ]
     },
     "execution_count": 42,
     "metadata": {},
     "output_type": "execute_result"
    }
   ],
   "source": [
    "numerical = []\n",
    "\n",
    "for i in stacked_df.columns:\n",
    "    if np.dtype(stacked_df[i]) != object:\n",
    "        numerical.append(i)\n",
    "        \n",
    "stacked_df[numerical].isnull().sum()[stacked_df[numerical].isnull().sum() > 0]"
   ]
  },
  {
   "cell_type": "code",
   "execution_count": 43,
   "metadata": {
    "collapsed": false,
    "nbpresent": {
     "id": "38c5e927-858e-47b8-af46-e7d6773913f0"
    }
   },
   "outputs": [
    {
     "data": {
      "text/plain": [
       "<matplotlib.figure.Figure at 0x2433afbe6d8>"
      ]
     },
     "metadata": {},
     "output_type": "display_data"
    },
    {
     "data": {
      "image/png": "[encoded data removed]",
      "text/plain": [
       "<matplotlib.figure.Figure at 0x2433b044ba8>"
      ]
     },
     "metadata": {},
     "output_type": "display_data"
    },
    {
     "data": {
      "image/png": "[encoded data removed]",
      "text/plain": [
       "<matplotlib.figure.Figure at 0x2433b071358>"
      ]
     },
     "metadata": {},
     "output_type": "display_data"
    }
   ],
   "source": [
    "%matplotlib inline\n",
    "train_test_lot = pd.DataFrame({'Test': org_test['LotFrontage'], 'Train': X_train['LotFrontage']}, columns = ['Test', 'Train'])\n",
    "train_test_mas = pd.DataFrame({'Test': org_test['MasVnrArea'], 'Train': X_train['MasVnrArea']}, columns = ['Test', 'Train'])\n",
    "\n",
    "plt.figure(figsize=(7, 5))\n",
    "\n",
    "train_test_lot.plot.hist(alpha= 0.3, bins=50)\n",
    "plt.xlabel('LotFrontage');\n",
    "\n",
    "train_test_mas.plot.hist(alpha= 0.3, bins=40)\n",
    "plt.xlabel('MasVnrArea');"
   ]
  },
  {
   "cell_type": "markdown",
   "metadata": {
    "nbpresent": {
     "id": "665e50cb-701a-4db7-a373-041c0453b359"
    }
   },
   "source": [
    "As the result from the graphs below we can see that for the most part majority of the data is right skewed. This shows that the mean would not be the best choice. Another option would be to take the log of those values and determine the distribution. Lets look what the results are after we do that for just LotFrontage."
   ]
  },
  {
   "cell_type": "code",
   "execution_count": 44,
   "metadata": {
    "collapsed": false,
    "scrolled": false
   },
   "outputs": [
    {
     "data": {
      "text/plain": [
       "<matplotlib.figure.Figure at 0x2433aed1940>"
      ]
     },
     "metadata": {},
     "output_type": "display_data"
    },
    {
     "data": {
      "image/png": "[encoded data removed]",
      "text/plain": [
       "<matplotlib.figure.Figure at 0x2433aed19b0>"
      ]
     },
     "metadata": {},
     "output_type": "display_data"
    }
   ],
   "source": [
    "plt.figure(figsize=(7, 5))\n",
    "\n",
    "np.log(train_test_lot).plot.hist(alpha= 0.3, bins=50)\n",
    "plt.xlabel('LotFrontage');"
   ]
  },
  {
   "cell_type": "markdown",
   "metadata": {},
   "source": [
    "As you can see from the graphs above we get a slightly more normally distributed graph, but still slightly skewed. It might be in the best interest to then do a median imputation."
   ]
  },
  {
   "cell_type": "code",
   "execution_count": 45,
   "metadata": {
    "collapsed": false,
    "nbpresent": {
     "id": "4827df03-a81e-4b6c-99d8-46d8b7c43057"
    }
   },
   "outputs": [
    {
     "name": "stdout",
     "output_type": "stream",
     "text": [
      "Series([], dtype: int64)\n"
     ]
    }
   ],
   "source": [
    "imr = Imputer(missing_values='NaN', strategy='median')\n",
    "imr = imr.fit(stacked_df[numerical])\n",
    "stacked_df[numerical] = imr.transform(stacked_df[numerical])\n",
    "\n",
    "print(stacked_df.isnull().sum()[stacked_df.isnull().sum() > 0])"
   ]
  },
  {
   "cell_type": "markdown",
   "metadata": {},
   "source": [
    "### Scaling Numerical Data\n",
    "\n",
    "It is always import to scale the numerical data you have so that the units are all on the same level."
   ]
  },
  {
   "cell_type": "code",
   "execution_count": 46,
   "metadata": {
    "collapsed": true
   },
   "outputs": [],
   "source": [
    "from sklearn.preprocessing import StandardScaler"
   ]
  },
  {
   "cell_type": "code",
   "execution_count": 47,
   "metadata": {
    "collapsed": true
   },
   "outputs": [],
   "source": [
    "scaler = StandardScaler()\n",
    "scaler.fit(stacked_df[numerical])\n",
    "scaled = scaler.transform(stacked_df[numerical])"
   ]
  },
  {
   "cell_type": "markdown",
   "metadata": {
    "nbpresent": {
     "id": "f28c5b42-ab2f-43ff-a1a7-be47dfb273e7"
    }
   },
   "source": [
    "# Seperate  back to train / test\n",
    "\n",
    "The Train/ Test data is split back to original test/train shape. We want to make sure we do not use any of the test set until the final when we are comfortable with the model and ready to submit."
   ]
  },
  {
   "cell_type": "code",
   "execution_count": 48,
   "metadata": {
    "collapsed": false,
    "nbpresent": {
     "id": "758c29bf-b129-4e5e-8453-36f820ddb5c5"
    }
   },
   "outputs": [
    {
     "name": "stderr",
     "output_type": "stream",
     "text": [
      "C:\\Users\\Shannon\\Anaconda3\\lib\\site-packages\\sklearn\\cross_validation.py:44: DeprecationWarning: This module was deprecated in version 0.18 in favor of the model_selection module into which all the refactored classes and functions are moved. Also note that the interface of the new CV iterators are different from that of this module. This module will be removed in 0.20.\n",
      "  \"This module will be removed in 0.20.\", DeprecationWarning)\n"
     ]
    }
   ],
   "source": [
    "from sklearn.cross_validation import train_test_split"
   ]
  },
  {
   "cell_type": "code",
   "execution_count": 49,
   "metadata": {
    "collapsed": false,
    "nbpresent": {
     "id": "0f08f714-0992-4240-a017-44dafb367589"
    }
   },
   "outputs": [
    {
     "name": "stdout",
     "output_type": "stream",
     "text": [
      "X_train: (1460, 69) X_test: (1459, 69)\n"
     ]
    }
   ],
   "source": [
    "X_train, X_test = stacked_df.iloc[:org_train.shape[0]], stacked_df.iloc[org_train.shape[0]:]\n",
    "print('X_train:', X_train.shape, 'X_test:', X_test.shape)"
   ]
  },
  {
   "cell_type": "code",
   "execution_count": 50,
   "metadata": {
    "collapsed": false,
    "nbpresent": {
     "id": "769a0281-3245-47ea-a2fb-d307509f1f9f"
    }
   },
   "outputs": [
    {
     "name": "stdout",
     "output_type": "stream",
     "text": [
      "(1168, 69) (292, 69) (1168,) (292,)\n"
     ]
    }
   ],
   "source": [
    "train_X, test_X, train_y, test_y = train_test_split(X_train, y_train, test_size=0.2, random_state=1)\n",
    "print(train_X.shape, test_X.shape, train_y.shape, test_y.shape)"
   ]
  },
  {
   "cell_type": "markdown",
   "metadata": {
    "collapsed": true,
    "nbpresent": {
     "id": "e6d69b79-3724-48e0-82e0-cc48164c82d4"
    }
   },
   "source": [
    "# Regression Models\n",
    "\n",
    "In the next section I will cover a series of different models and describe best practices for each. There will also be a comparison of two different scoring methods to demonstrate, which one might be more relevant to use. \n",
    "\n",
    "Scoring methods:\n",
    "* RMSE - is the square root of the average of the square of all error. This scoring method tends to put more emphasis on punishing large errors.\n",
    "    * **n** - number of observations\n",
    "    * **y** - (original response - predicted response value)\n",
    "\n",
    "\\begin{equation*}\n",
    "{RMSE = {\\sqrt{\\frac{1}{n}\\sum{i=1}^{n}(y_{i} - \\hat{y}_{i})^2}}}\\\\\\\n",
    "\\end{equation*}\n",
    "\n",
    "* R2 - is also known as coefficient of determination, which is the statistical measure of explained variance / total variance in your data. R2 is a descent measure, but does indicate how good the model is, so it is always a good measure to plot the residuals.\n"
   ]
  },
  {
   "cell_type": "code",
   "execution_count": 51,
   "metadata": {
    "collapsed": false,
    "nbpresent": {
     "id": "9892d132-b6f1-4ba2-aab6-eeeb5546236b"
    }
   },
   "outputs": [],
   "source": [
    "from sklearn import linear_model\n",
    "from sklearn.metrics import mean_squared_error, r2_score\n",
    "from sklearn.model_selection import cross_val_score, KFold, GridSearchCV\n",
    "from math import sqrt"
   ]
  },
  {
   "cell_type": "code",
   "execution_count": 52,
   "metadata": {
    "collapsed": false,
    "nbpresent": {
     "id": "5407d8f4-a172-44e6-b7ff-d8ce10d4e4a9"
    }
   },
   "outputs": [],
   "source": [
    "def get_score(y_pred, y_actual):\n",
    "    print('R2: {}'.format(r2_score(y_pred, y_actual)))\n",
    "    print('RMSE: {}'.format(np.sqrt(((y_actual - y_pred) ** 2).mean())))\n",
    "    \n",
    "def get_cv_score(grid_cv):\n",
    "    print('Best Parameters:', grid_cv.best_params_)\n",
    "    cross_val_results = pd.DataFrame(grid_cv.cv_results_)\n",
    "    print('Best Score:', grid_cv.best_score_)\n",
    "    \n",
    "    return cross_val_results.sort('rank_test_score').head(5)\n",
    "    \n",
    "def perform_model(estimator, trn_X, trn_y, tst_X, tst_y):\n",
    "    pred_train = estimator.predict(trn_X)\n",
    "    print(\"Train:\", estimator)\n",
    "    get_score(pred_train, trn_y)\n",
    "    \n",
    "    pred_test = estimator.predict(tst_X)\n",
    "    print(\"---------------------------------\")\n",
    "    print(\"Test\")\n",
    "    get_score(pred_test, tst_y)\n",
    "    \n",
    "    print(\"---------------------------------\")\n",
    "    \n",
    "def plot_regression(grid_predict, tst_y):\n",
    "    \n",
    "    plt.title('Difference in Predicted SalesPrice')\n",
    "    plt.ylabel('SalesPrice')\n",
    "    plt.xlim(0,300);\n",
    "    plt.ylim(ymin=0)\n",
    "    return plt.scatter(range(len(grid_predict)), abs(tst_y - grid_predict)), grid_predict"
   ]
  },
  {
   "cell_type": "markdown",
   "metadata": {
    "nbpresent": {
     "id": "81900390-f184-4a0a-b604-e681832d2677"
    }
   },
   "source": [
    "<a id='2'></a>\n",
    "## Multiple Linear Regression\n",
    "\n",
    "One of the simplest regression techniques is linear regression. It defines a model by the relationship between two variables by fitting a linear equation to the observed data. When there are multiple predictors, we use multiple linear regression. \n",
    "\n",
    "For more complex datasets it is not generally used, but can serve as a good reference point to know at what point you want to be above or below.\n",
    "\n",
    "\\begin{equation*}\n",
    "{Y_{i} = {\\alpha + B_{1}X_{i,1} +  \\dots +  B_{p}X_{i,p}  +  E_{i} }}\\\\\\\n",
    "\\end{equation*}"
   ]
  },
  {
   "cell_type": "code",
   "execution_count": 53,
   "metadata": {
    "collapsed": false,
    "nbpresent": {
     "id": "228e13db-6329-4dc6-a4e4-b078a8fad935"
    }
   },
   "outputs": [
    {
     "name": "stdout",
     "output_type": "stream",
     "text": [
      "Train: LinearRegression(copy_X=True, fit_intercept=True, n_jobs=1, normalize=False)\n",
      "R2: 0.86843721594118\n",
      "RMSE: 0.13444492138146186\n",
      "---------------------------------\n",
      "Test\n",
      "R2: 0.8535170797123548\n",
      "RMSE: 0.14730087702787828\n",
      "---------------------------------\n"
     ]
    }
   ],
   "source": [
    "linear = linear_model.LinearRegression().fit(train_X, train_y)\n",
    "perform_model(linear, train_X, train_y, test_X, test_y)"
   ]
  },
  {
   "cell_type": "code",
   "execution_count": 54,
   "metadata": {
    "collapsed": false,
    "nbpresent": {
     "id": "62911658-75da-40e9-a73a-6157ca975d1d"
    }
   },
   "outputs": [
    {
     "data": {
      "image/png": "[encoded data removed]",
      "text/plain": [
       "<matplotlib.figure.Figure at 0x2433af81860>"
      ]
     },
     "metadata": {},
     "output_type": "display_data"
    }
   ],
   "source": [
    "%matplotlib inline\n",
    "\n",
    "linear_pred = linear.predict(test_X)\n",
    "plot, grid_pred = plot_regression(linear_pred, test_y);"
   ]
  },
  {
   "cell_type": "code",
   "execution_count": 55,
   "metadata": {
    "collapsed": false,
    "nbpresent": {
     "id": "002e53c9-9af0-4433-9a42-9ed2804de25d"
    }
   },
   "outputs": [
    {
     "name": "stdout",
     "output_type": "stream",
     "text": [
      "Accuracy: 0.85 (+/- 0.11)\n"
     ]
    }
   ],
   "source": [
    "score = cross_val_score(linear, X_train, y_train, cv=5)\n",
    "print(\"Accuracy: %0.2f (+/- %0.2f)\" % (score.mean(), score.std() * 2))"
   ]
  },
  {
   "cell_type": "markdown",
   "metadata": {},
   "source": [
    "What we see from the graph above is there are values that differ from the original SalePrice and predicted SalePrice. These values could be outliers, but because we are looking at them from a two-dimensional perspective it is better to perform a seperate model for these values. This method is much more preferred than deleting them, because they very could have a significant impact on predicting certain SalePrice ranges. \n",
    "***\n",
    "Based on the plot above, it would be best to conduct another analysis looking at those values with more than a 0.4 difference."
   ]
  },
  {
   "cell_type": "code",
   "execution_count": 56,
   "metadata": {
    "collapsed": false
   },
   "outputs": [
    {
     "data": {
      "text/plain": [
       "[Id\n",
       " 813    0.707635\n",
       " Name: SalePrice, dtype: float64, Id\n",
       " 31    0.827072\n",
       " Name: SalePrice, dtype: float64, Id\n",
       " 1183    0.609382\n",
       " Name: SalePrice, dtype: float64, Id\n",
       " 463    0.622579\n",
       " Name: SalePrice, dtype: float64, Id\n",
       " 1433    0.553731\n",
       " Name: SalePrice, dtype: float64]"
      ]
     },
     "execution_count": 56,
     "metadata": {},
     "output_type": "execute_result"
    }
   ],
   "source": [
    "difference = abs(test_y - grid_pred)\n",
    "outlier_list = [difference[difference == i] for i in difference if i > 0.4]\n",
    "outlier_list"
   ]
  },
  {
   "cell_type": "markdown",
   "metadata": {},
   "source": [
    "If we take the attributes from both of the  "
   ]
  },
  {
   "cell_type": "code",
   "execution_count": 57,
   "metadata": {
    "collapsed": false
   },
   "outputs": [],
   "source": [
    "test_X2 = pd.concat([test_X.ix[813], test_X.ix[31], test_X.ix[1183], test_X.ix[463], test_X.ix[1433]], axis=1).transpose()\n",
    "test_X = test_X.drop(test_X2.index, axis=0)"
   ]
  },
  {
   "cell_type": "code",
   "execution_count": 58,
   "metadata": {
    "collapsed": false
   },
   "outputs": [],
   "source": [
    "test_y2 = test_y.ix[[813,31,1183,463,1433]]\n",
    "test_y = test_y.drop(test_y2.index, axis=0)"
   ]
  },
  {
   "cell_type": "markdown",
   "metadata": {},
   "source": [
    "The outlier point have a lower Sale Price average then the points selected for the reference set. From what I have seen these points tend to have some anomolies that might affect the algorithms decision for Sale Price. Once being that the smaller lot sizes in the outlier group have enclosed porches in comparison to the reference group that has no enclosed porches but has some open porches. The outlier dataset also has the largest lot frontage and lot area out of the two groups and has a pool. This will other comparisons could be the reason that throws the difference in price.\n",
    "\n",
    "Lets see what the new model output would be if those rows were removed. \n",
    "### Linear Regression without those 5 values\n",
    "\n",
    "As you can see we get much better results for the test."
   ]
  },
  {
   "cell_type": "code",
   "execution_count": 59,
   "metadata": {
    "collapsed": false
   },
   "outputs": [
    {
     "name": "stdout",
     "output_type": "stream",
     "text": [
      "Train: LinearRegression(copy_X=True, fit_intercept=True, n_jobs=1, normalize=False)\n",
      "R2: 0.86843721594118\n",
      "RMSE: 0.13444492138146186\n",
      "---------------------------------\n",
      "Test\n",
      "R2: 0.9021290189828284\n",
      "RMSE: 0.11930871087083447\n",
      "---------------------------------\n"
     ]
    }
   ],
   "source": [
    "linear = linear_model.LinearRegression().fit(train_X, train_y)\n",
    "perform_model(linear, train_X, train_y, test_X, test_y)"
   ]
  },
  {
   "cell_type": "markdown",
   "metadata": {},
   "source": [
    "### Linear Regression for the five values removed\n",
    "\n",
    "As we can see predicting these five values has a pretty weak predictive power."
   ]
  },
  {
   "cell_type": "code",
   "execution_count": 60,
   "metadata": {
    "collapsed": false
   },
   "outputs": [
    {
     "name": "stdout",
     "output_type": "stream",
     "text": [
      "Train: LinearRegression(copy_X=True, fit_intercept=True, n_jobs=1, normalize=False)\n",
      "R2: 0.86843721594118\n",
      "RMSE: 0.13444492138146186\n",
      "---------------------------------\n",
      "Test\n",
      "R2: -0.5662485991591568\n",
      "RMSE: 0.6708744992078094\n",
      "---------------------------------\n"
     ]
    }
   ],
   "source": [
    "linear = linear_model.LinearRegression().fit(train_X, train_y)\n",
    "perform_model(linear, train_X, train_y, test_X2, test_y2)"
   ]
  },
  {
   "cell_type": "markdown",
   "metadata": {
    "nbpresent": {
     "id": "fe8702f8-0c0e-40dc-ad81-e06490b4811b"
    }
   },
   "source": [
    "<a id='3'></a>\n",
    "## Ridge\n",
    "\n",
    "Ridge is similar to ordinary least squares with an additional penalty. It is a shrinkage method that penalizes the size of regression coefficients towards 0. Ridge shrinks the coeffients so that the residual sum of sqaures is small and does that with lambda(λ), which is a tuning parameter. Lambda controls the strength of penalty when λ ≥ 0. When λ = 0 it is the linear regression estimate and when λ = ∞, the coefficients are βˆridge = 0. Therefore if λ is inbetween (0, ∞) the coefficients will shrink towards the value of 0.\n",
    "\n",
    "Ridge uses the L2 regularization, which squares the error. The difference between ridge and ordinary least squares is the bias variance trade-off with this regularization term. As lambda increases, the flexibility of fit decreases, which leads to a decrease in variance but increase in bias.\n",
    "\n",
    "\\begin{equation*}\n",
    "{RSS=\\sum_{i=1}^{n}(y_{i} - B_{0} - (\\sum_{j=1}^{p}B_{j}X_{ij}))^2}\\\\\\\n",
    "\\\\\\\n",
    "{Ridge = RSS + \\lambda\\sum_{j=1}^{p}B_j^2 }\\\\\\\n",
    "\\end{equation*}\n"
   ]
  },
  {
   "cell_type": "code",
   "execution_count": 61,
   "metadata": {
    "collapsed": false,
    "nbpresent": {
     "id": "7c5e5657-6ea3-4f4b-9a0a-5898edbfa516"
    }
   },
   "outputs": [
    {
     "name": "stdout",
     "output_type": "stream",
     "text": [
      "Train: Ridge(alpha=1.0, copy_X=True, fit_intercept=True, max_iter=None,\n",
      "   normalize=False, random_state=None, solver='auto', tol=0.001)\n",
      "R2: 0.8683863378826138\n",
      "RMSE: 0.1344456547141381\n",
      "---------------------------------\n",
      "Test\n",
      "R2: 0.9021695728219015\n",
      "RMSE: 0.11925724778623406\n",
      "---------------------------------\n"
     ]
    }
   ],
   "source": [
    "ridge = linear_model.Ridge().fit(train_X, train_y)\n",
    "perform_model(ridge, train_X, train_y, test_X, test_y)"
   ]
  },
  {
   "cell_type": "markdown",
   "metadata": {
    "nbpresent": {
     "id": "ad46996e-97d5-4ff5-8d20-5df7f4bb1d53"
    }
   },
   "source": [
    "So that is Ridge in its simplest form, but there are a lot of parameters that we can adjust from the recommended settings to something more suitable for our data. Below is a list of the parameters for Ridge."
   ]
  },
  {
   "cell_type": "markdown",
   "metadata": {
    "nbpresent": {
     "id": "2684620f-6874-4ba3-8e3e-c0355e52e8a7"
    }
   },
   "source": [
    "### Ridge Parameters\n",
    "\n",
    "The gridsearch runs a cross validation by each parameter combination in order to get the best parameter for the model. We will go through a series of different parameters to see how each affects the model. Press Shift+Tab inside of the Ridge() function. You will get the documentation of what the function does and all of the parameters and their application. Below is another example of ridge regression using a different set of parameters.\n",
    "\n",
    "**Alpha** - is the tuning parameter, if alpha is 0 it becomes a linear regression problem. As alpha is bigger the coefficients will change more durastically.\n",
    "\n",
    "**Max_iter** - maximum itteration for gradient solver to find most optimal model.\n",
    "\n",
    "**tol** - precision of the solution or at what tolerance you want your model to converage at."
   ]
  },
  {
   "cell_type": "code",
   "execution_count": 62,
   "metadata": {
    "collapsed": false,
    "nbpresent": {
     "id": "28d5e113-b70b-48b5-b0c3-07531ee16ff7"
    }
   },
   "outputs": [
    {
     "name": "stdout",
     "output_type": "stream",
     "text": [
      "Train: Ridge(alpha=1.0, copy_X=True, fit_intercept=True, max_iter=500,\n",
      "   normalize=False, random_state=20, solver='auto', tol=0.001)\n",
      "R2: 0.8683863378826138\n",
      "RMSE: 0.1344456547141381\n",
      "---------------------------------\n",
      "Test\n",
      "R2: 0.9021695728219015\n",
      "RMSE: 0.11925724778623406\n",
      "---------------------------------\n"
     ]
    }
   ],
   "source": [
    "ridge = linear_model.Ridge(alpha=1.0, max_iter=500, tol = 0.001, random_state=20).fit(train_X, train_y)\n",
    "\n",
    "perform_model(ridge, train_X, train_y, test_X, test_y)"
   ]
  },
  {
   "cell_type": "markdown",
   "metadata": {
    "nbpresent": {
     "id": "55fce74b-05ad-4e7a-97b7-ad1eaf0856c8"
    }
   },
   "source": [
    "From the parameters listed above, we can see that they made very little impact on the model. There are additional parameters for ridge regression, which are also useful. For example:\n",
    "\n",
    "**Fit-Intercept and Normalize** - are data dependent in this case where we have the data scaled, we would not want to consider this.\n",
    "\n",
    "**Solver** - automatically chooses the most appropriate solver based on type of data. Might use if know what solver we want to use or for comparison purposes.\n",
    "\n",
    "### Ridge Cross Validation\n",
    "\n",
    "It is important in any model to use a cross-validation method to test data before the final test phase. There are several cross validation methods, and are very useful for comparing different parameters with the data and then comparing model performance. Cross validation splits the train data up, in its simpliest form in two ways or multiple ways for more comparison. The final score is an overall average of how the model fit on the train data.\n",
    "\n",
    "Once you have a solid comparison of different models and different parameters, you would use the entire train data and run model tests on the test data. Below is test a cross validation on the default parameters for Ridge Regression. It will go through ten different subsets of the data and train the model on each of them. As you will notice you already get a slightly better score."
   ]
  },
  {
   "cell_type": "code",
   "execution_count": 63,
   "metadata": {
    "collapsed": false,
    "nbpresent": {
     "id": "da20ce23-f500-464d-90fe-b6e254ebc83f"
    }
   },
   "outputs": [
    {
     "name": "stdout",
     "output_type": "stream",
     "text": [
      "Train: RidgeCV(alphas=(0.1, 1.0, 10.0), cv=10, fit_intercept=True, gcv_mode=None,\n",
      "    normalize=False, scoring=None, store_cv_values=False)\n",
      "R2: 0.8678742509980383\n",
      "RMSE: 0.13450044810993314\n",
      "---------------------------------\n",
      "Test\n",
      "R2: 0.9024247746417493\n",
      "RMSE: 0.11887693890758466\n",
      "---------------------------------\n"
     ]
    }
   ],
   "source": [
    "ridge = linear_model.RidgeCV(cv=10).fit(train_X, train_y)\n",
    "\n",
    "perform_model(ridge, train_X, train_y, test_X, test_y)"
   ]
  },
  {
   "cell_type": "markdown",
   "metadata": {
    "nbpresent": {
     "id": "65e89388-852c-4329-a5dc-d8e3ed380442"
    }
   },
   "source": [
    "### Ridge Parameters + CV \n",
    "\n",
    "Now we combine the parameters with the cross validation. Python has a package called GridSearch which is a cross validation tool that splits the train. For example say cv=5, this would take a random portion of the train data out as the validation and the  use the remaining train. It fits the model on train and predicts on the cross validated portion. It then takes another random portion of data and does the same for a total of five itterations. The average from each of the scores is the overall performance of the model.\n",
    "\n",
    "However, the model can get a lot more complicated. If we incorporate parameters the model then itterates over the cross validation data for each combination of the parameters.  \n",
    "\n",
    "For example:\n",
    "* CV=5\n",
    "* Alpha = (.001, .01, 1)\n",
    "* Max_iter = (1000, 3000)\n",
    "\n",
    "How many itterations would the data cycle through?\n",
    "The answer is 30.\n",
    "\n",
    "You will see that if you request best_parameters, it shows which combination yeilded the lowest score."
   ]
  },
  {
   "cell_type": "code",
   "execution_count": 64,
   "metadata": {
    "collapsed": false,
    "nbpresent": {
     "id": "0180a9d1-ae85-494d-97a1-7f1d477a9931"
    }
   },
   "outputs": [
    {
     "name": "stdout",
     "output_type": "stream",
     "text": [
      "Train: GridSearchCV(cv=10, error_score='raise',\n",
      "       estimator=Ridge(alpha=1.0, copy_X=True, fit_intercept=True, max_iter=None,\n",
      "   normalize=False, random_state=None, solver='auto', tol=0.001),\n",
      "       fit_params={}, iid=True, n_jobs=1,\n",
      "       param_grid={'max_iter': array([1000, 1500, 2000, 2500, 3000, 3500]), 'alpha': array([ 0.1,  0.2,  0.3,  0.4,  0.5,  0.6,  0.7,  0.8,  0.9])},\n",
      "       pre_dispatch='2*n_jobs', refit=True, return_train_score=True,\n",
      "       scoring=None, verbose=0)\n",
      "R2: 0.8683915019606048\n",
      "RMSE: 0.13444551749016836\n",
      "---------------------------------\n",
      "Test\n",
      "R2: 0.902165661303378\n",
      "RMSE: 0.11926228685406187\n",
      "---------------------------------\n",
      "Best Parameters: {'max_iter': 1000, 'alpha': 0.90000000000000002}\n",
      "Best Score: 0.83717919933\n"
     ]
    }
   ],
   "source": [
    "ridge_params = {\n",
    "    'alpha': np.arange(.1, 1, .1),\n",
    "    'max_iter': np.arange(1000, 4000, 500)\n",
    "}\n",
    "\n",
    "ridge_model = linear_model.Ridge()\n",
    "grid_cv = GridSearchCV(ridge_model, ridge_params, cv=10)\n",
    "ridge = grid_cv.fit(train_X, train_y)\n",
    "\n",
    "perform_model(ridge, train_X, train_y, test_X, test_y)\n",
    "\n",
    "# So you get the same scores but now you can also \n",
    "grid_scores = get_cv_score(grid_cv)"
   ]
  },
  {
   "cell_type": "code",
   "execution_count": 65,
   "metadata": {
    "collapsed": false,
    "nbpresent": {
     "id": "f6d59073-3f83-47df-915a-1a785a1c6303"
    }
   },
   "outputs": [
    {
     "data": {
      "text/html": [
       "<div>\n",
       "<table border=\"1\" class=\"dataframe\">\n",
       "  <thead>\n",
       "    <tr style=\"text-align: right;\">\n",
       "      <th></th>\n",
       "      <th>mean_fit_time</th>\n",
       "      <th>mean_score_time</th>\n",
       "      <th>mean_test_score</th>\n",
       "      <th>mean_train_score</th>\n",
       "      <th>param_alpha</th>\n",
       "      <th>param_max_iter</th>\n",
       "      <th>params</th>\n",
       "      <th>rank_test_score</th>\n",
       "      <th>split0_test_score</th>\n",
       "      <th>split0_train_score</th>\n",
       "      <th>...</th>\n",
       "      <th>split7_test_score</th>\n",
       "      <th>split7_train_score</th>\n",
       "      <th>split8_test_score</th>\n",
       "      <th>split8_train_score</th>\n",
       "      <th>split9_test_score</th>\n",
       "      <th>split9_train_score</th>\n",
       "      <th>std_fit_time</th>\n",
       "      <th>std_score_time</th>\n",
       "      <th>std_test_score</th>\n",
       "      <th>std_train_score</th>\n",
       "    </tr>\n",
       "  </thead>\n",
       "  <tbody>\n",
       "    <tr>\n",
       "      <th>53</th>\n",
       "      <td>0.006718</td>\n",
       "      <td>0.000902</td>\n",
       "      <td>0.837179</td>\n",
       "      <td>0.885975</td>\n",
       "      <td>0.9</td>\n",
       "      <td>3500</td>\n",
       "      <td>{'max_iter': 3500, 'alpha': 0.9}</td>\n",
       "      <td>1</td>\n",
       "      <td>0.869623</td>\n",
       "      <td>0.883572</td>\n",
       "      <td>...</td>\n",
       "      <td>0.860308</td>\n",
       "      <td>0.884062</td>\n",
       "      <td>0.922078</td>\n",
       "      <td>0.880185</td>\n",
       "      <td>0.93425</td>\n",
       "      <td>0.876416</td>\n",
       "      <td>0.001104</td>\n",
       "      <td>0.000833</td>\n",
       "      <td>0.102388</td>\n",
       "      <td>0.008272</td>\n",
       "    </tr>\n",
       "    <tr>\n",
       "      <th>48</th>\n",
       "      <td>0.006919</td>\n",
       "      <td>0.001003</td>\n",
       "      <td>0.837179</td>\n",
       "      <td>0.885975</td>\n",
       "      <td>0.9</td>\n",
       "      <td>1000</td>\n",
       "      <td>{'max_iter': 1000, 'alpha': 0.9}</td>\n",
       "      <td>1</td>\n",
       "      <td>0.869623</td>\n",
       "      <td>0.883572</td>\n",
       "      <td>...</td>\n",
       "      <td>0.860308</td>\n",
       "      <td>0.884062</td>\n",
       "      <td>0.922078</td>\n",
       "      <td>0.880185</td>\n",
       "      <td>0.93425</td>\n",
       "      <td>0.876416</td>\n",
       "      <td>0.001448</td>\n",
       "      <td>0.000778</td>\n",
       "      <td>0.102388</td>\n",
       "      <td>0.008272</td>\n",
       "    </tr>\n",
       "  </tbody>\n",
       "</table>\n",
       "<p>2 rows × 32 columns</p>\n",
       "</div>"
      ],
      "text/plain": [
       "    mean_fit_time  mean_score_time  mean_test_score  mean_train_score  \\\n",
       "53       0.006718         0.000902         0.837179          0.885975   \n",
       "48       0.006919         0.001003         0.837179          0.885975   \n",
       "\n",
       "   param_alpha param_max_iter                            params  \\\n",
       "53         0.9           3500  {'max_iter': 3500, 'alpha': 0.9}   \n",
       "48         0.9           1000  {'max_iter': 1000, 'alpha': 0.9}   \n",
       "\n",
       "    rank_test_score  split0_test_score  split0_train_score       ...         \\\n",
       "53                1           0.869623            0.883572       ...          \n",
       "48                1           0.869623            0.883572       ...          \n",
       "\n",
       "    split7_test_score  split7_train_score  split8_test_score  \\\n",
       "53           0.860308            0.884062           0.922078   \n",
       "48           0.860308            0.884062           0.922078   \n",
       "\n",
       "    split8_train_score  split9_test_score  split9_train_score  std_fit_time  \\\n",
       "53            0.880185            0.93425            0.876416      0.001104   \n",
       "48            0.880185            0.93425            0.876416      0.001448   \n",
       "\n",
       "    std_score_time  std_test_score  std_train_score  \n",
       "53        0.000833        0.102388         0.008272  \n",
       "48        0.000778        0.102388         0.008272  \n",
       "\n",
       "[2 rows x 32 columns]"
      ]
     },
     "execution_count": 65,
     "metadata": {},
     "output_type": "execute_result"
    }
   ],
   "source": [
    "grid_scores.head(2)"
   ]
  },
  {
   "cell_type": "code",
   "execution_count": 66,
   "metadata": {
    "collapsed": false,
    "nbpresent": {
     "id": "0dc1545a-91c3-4d44-a71e-7def8a152fa2"
    },
    "scrolled": true
   },
   "outputs": [
    {
     "data": {
      "image/png": "[encoded data removed]",
      "text/plain": [
       "<matplotlib.figure.Figure at 0x2433af77198>"
      ]
     },
     "metadata": {},
     "output_type": "display_data"
    }
   ],
   "source": [
    "ridge_pred = ridge.predict(test_X)\n",
    "plot_regression(ridge_pred, test_y);"
   ]
  },
  {
   "cell_type": "code",
   "execution_count": 67,
   "metadata": {
    "collapsed": false,
    "nbpresent": {
     "id": "ed06b894-0a8f-4e91-b424-6b4426ccb2a9"
    }
   },
   "outputs": [
    {
     "name": "stdout",
     "output_type": "stream",
     "text": [
      "Accuracy: 0.85 (+/- 0.11)\n"
     ]
    }
   ],
   "source": [
    "# Score of train using 5 fold cross validation\n",
    "score1 = cross_val_score(ridge, X_train, y_train, cv=5)\n",
    "print(\"Accuracy: %0.2f (+/- %0.2f)\" % (score1.mean(), score1.std() * 2))"
   ]
  },
  {
   "cell_type": "markdown",
   "metadata": {},
   "source": [
    "We can see that the values are below the 0.4 difference line, and that those other five values were removed. If we compare this to the multiple linear regression we can see that the cross validation score along with the standard error is still the same. So maybe we can explore another model, and find areas we can correct."
   ]
  },
  {
   "cell_type": "markdown",
   "metadata": {
    "nbpresent": {
     "id": "7c4694f0-7ae5-42b4-a207-65ab5a266976"
    }
   },
   "source": [
    "<a id='4'></a>\n",
    "## Elastic Net\n",
    "\n",
    "Is a linear equation with a combination of L1 and L2 parameters. It looks to minimize the ordinary least squares cost function by taking in a combination of the Lasso and Ridge characteristics while shrinking the coefficients towards zero. We have taken out some of the highly correlated elements in our dataset, but elastic net is known to outperform lasso regression with highly correlated features in the data.\n",
    "\n",
    "**Parameters:**\n",
    "\n",
    "** L1-Ratio**- When set to zero is ordinary least squares. When between 0 and 1 performs both lasso and ridge for elastic net.\n",
    "\n",
    "**Verbose**- Will send update statuses of where the model is in the itterative process.\n",
    "\n",
    "**n_jobs**- When set to 1 runs 1 CPU, when -1 will run in parallel on multiple CPUs that are available\n",
    "\n",
    "Now that we understand the concept of incorporating the parameters, we will go right for the GridSearchCV. Another parameter that GridSearchCV offers is verbose, will output each cross validation phase and the score."
   ]
  },
  {
   "cell_type": "code",
   "execution_count": 68,
   "metadata": {
    "collapsed": false,
    "nbpresent": {
     "id": "50b3acd1-6058-4c23-8bb1-3c75c222918d"
    }
   },
   "outputs": [
    {
     "name": "stdout",
     "output_type": "stream",
     "text": [
      "Fitting 10 folds for each of 54 candidates, totalling 540 fits\n",
      "Train: GridSearchCV(cv=10, error_score='raise',\n",
      "       estimator=ElasticNet(alpha=1.0, copy_X=True, fit_intercept=True, l1_ratio=0.5,\n",
      "      max_iter=1000, normalize=False, positive=False, precompute=False,\n",
      "      random_state=20, selection='cyclic', tol=0.0001, warm_start=False),\n",
      "       fit_params={}, iid=True, n_jobs=1,\n",
      "       param_grid={'l1_ratio': (0.1, 0.5, 0.9), 'max_iter': (1000, 2000, 3000), 'alpha': (0.0001, 0.001, 0.01, 0.1, 1, 10)},\n",
      "       pre_dispatch='2*n_jobs', refit=True, return_train_score=True,\n",
      "       scoring=None, verbose=True)\n",
      "R2: 0.8671859453373385\n",
      "RMSE: 0.13467198327388727\n",
      "---------------------------------\n",
      "Test\n",
      "R2: 0.9031263269373102\n",
      "RMSE: 0.11834919940906512\n",
      "---------------------------------\n",
      "---------------------------------\n",
      "Best Parameters: {'l1_ratio': 0.5, 'max_iter': 1000, 'alpha': 0.001}\n",
      "Best Score: 0.837510460538\n"
     ]
    },
    {
     "name": "stderr",
     "output_type": "stream",
     "text": [
      "[Parallel(n_jobs=1)]: Done 540 out of 540 | elapsed:   11.7s finished\n"
     ]
    },
    {
     "data": {
      "text/html": [
       "<div>\n",
       "<table border=\"1\" class=\"dataframe\">\n",
       "  <thead>\n",
       "    <tr style=\"text-align: right;\">\n",
       "      <th></th>\n",
       "      <th>mean_fit_time</th>\n",
       "      <th>mean_score_time</th>\n",
       "      <th>mean_test_score</th>\n",
       "      <th>mean_train_score</th>\n",
       "      <th>param_alpha</th>\n",
       "      <th>param_l1_ratio</th>\n",
       "      <th>param_max_iter</th>\n",
       "      <th>params</th>\n",
       "      <th>rank_test_score</th>\n",
       "      <th>split0_test_score</th>\n",
       "      <th>...</th>\n",
       "      <th>split7_test_score</th>\n",
       "      <th>split7_train_score</th>\n",
       "      <th>split8_test_score</th>\n",
       "      <th>split8_train_score</th>\n",
       "      <th>split9_test_score</th>\n",
       "      <th>split9_train_score</th>\n",
       "      <th>std_fit_time</th>\n",
       "      <th>std_score_time</th>\n",
       "      <th>std_test_score</th>\n",
       "      <th>std_train_score</th>\n",
       "    </tr>\n",
       "  </thead>\n",
       "  <tbody>\n",
       "    <tr>\n",
       "      <th>12</th>\n",
       "      <td>0.027937</td>\n",
       "      <td>0.000802</td>\n",
       "      <td>0.837510</td>\n",
       "      <td>0.88560</td>\n",
       "      <td>0.001</td>\n",
       "      <td>0.5</td>\n",
       "      <td>1000</td>\n",
       "      <td>{'l1_ratio': 0.5, 'max_iter': 1000, 'alpha': 0...</td>\n",
       "      <td>1</td>\n",
       "      <td>0.873420</td>\n",
       "      <td>...</td>\n",
       "      <td>0.863185</td>\n",
       "      <td>0.883731</td>\n",
       "      <td>0.924202</td>\n",
       "      <td>0.879810</td>\n",
       "      <td>0.935569</td>\n",
       "      <td>0.876024</td>\n",
       "      <td>0.009206</td>\n",
       "      <td>0.002407</td>\n",
       "      <td>0.105277</td>\n",
       "      <td>0.008288</td>\n",
       "    </tr>\n",
       "    <tr>\n",
       "      <th>14</th>\n",
       "      <td>0.035886</td>\n",
       "      <td>0.001763</td>\n",
       "      <td>0.837510</td>\n",
       "      <td>0.88560</td>\n",
       "      <td>0.001</td>\n",
       "      <td>0.5</td>\n",
       "      <td>3000</td>\n",
       "      <td>{'l1_ratio': 0.5, 'max_iter': 3000, 'alpha': 0...</td>\n",
       "      <td>1</td>\n",
       "      <td>0.873420</td>\n",
       "      <td>...</td>\n",
       "      <td>0.863185</td>\n",
       "      <td>0.883731</td>\n",
       "      <td>0.924202</td>\n",
       "      <td>0.879810</td>\n",
       "      <td>0.935569</td>\n",
       "      <td>0.876024</td>\n",
       "      <td>0.008988</td>\n",
       "      <td>0.004638</td>\n",
       "      <td>0.105277</td>\n",
       "      <td>0.008288</td>\n",
       "    </tr>\n",
       "    <tr>\n",
       "      <th>13</th>\n",
       "      <td>0.034303</td>\n",
       "      <td>0.000402</td>\n",
       "      <td>0.837510</td>\n",
       "      <td>0.88560</td>\n",
       "      <td>0.001</td>\n",
       "      <td>0.5</td>\n",
       "      <td>2000</td>\n",
       "      <td>{'l1_ratio': 0.5, 'max_iter': 2000, 'alpha': 0...</td>\n",
       "      <td>1</td>\n",
       "      <td>0.873420</td>\n",
       "      <td>...</td>\n",
       "      <td>0.863185</td>\n",
       "      <td>0.883731</td>\n",
       "      <td>0.924202</td>\n",
       "      <td>0.879810</td>\n",
       "      <td>0.935569</td>\n",
       "      <td>0.876024</td>\n",
       "      <td>0.014687</td>\n",
       "      <td>0.000492</td>\n",
       "      <td>0.105277</td>\n",
       "      <td>0.008288</td>\n",
       "    </tr>\n",
       "    <tr>\n",
       "      <th>20</th>\n",
       "      <td>0.025000</td>\n",
       "      <td>0.000000</td>\n",
       "      <td>0.837402</td>\n",
       "      <td>0.88425</td>\n",
       "      <td>0.01</td>\n",
       "      <td>0.1</td>\n",
       "      <td>3000</td>\n",
       "      <td>{'l1_ratio': 0.1, 'max_iter': 3000, 'alpha': 0...</td>\n",
       "      <td>4</td>\n",
       "      <td>0.877515</td>\n",
       "      <td>...</td>\n",
       "      <td>0.867578</td>\n",
       "      <td>0.882436</td>\n",
       "      <td>0.926300</td>\n",
       "      <td>0.878443</td>\n",
       "      <td>0.936891</td>\n",
       "      <td>0.874582</td>\n",
       "      <td>0.007652</td>\n",
       "      <td>0.000000</td>\n",
       "      <td>0.109769</td>\n",
       "      <td>0.008397</td>\n",
       "    </tr>\n",
       "    <tr>\n",
       "      <th>19</th>\n",
       "      <td>0.025006</td>\n",
       "      <td>0.000000</td>\n",
       "      <td>0.837402</td>\n",
       "      <td>0.88425</td>\n",
       "      <td>0.01</td>\n",
       "      <td>0.1</td>\n",
       "      <td>2000</td>\n",
       "      <td>{'l1_ratio': 0.1, 'max_iter': 2000, 'alpha': 0...</td>\n",
       "      <td>4</td>\n",
       "      <td>0.877515</td>\n",
       "      <td>...</td>\n",
       "      <td>0.867578</td>\n",
       "      <td>0.882436</td>\n",
       "      <td>0.926300</td>\n",
       "      <td>0.878443</td>\n",
       "      <td>0.936891</td>\n",
       "      <td>0.874582</td>\n",
       "      <td>0.007658</td>\n",
       "      <td>0.000000</td>\n",
       "      <td>0.109769</td>\n",
       "      <td>0.008397</td>\n",
       "    </tr>\n",
       "  </tbody>\n",
       "</table>\n",
       "<p>5 rows × 33 columns</p>\n",
       "</div>"
      ],
      "text/plain": [
       "    mean_fit_time  mean_score_time  mean_test_score  mean_train_score  \\\n",
       "12       0.027937         0.000802         0.837510           0.88560   \n",
       "14       0.035886         0.001763         0.837510           0.88560   \n",
       "13       0.034303         0.000402         0.837510           0.88560   \n",
       "20       0.025000         0.000000         0.837402           0.88425   \n",
       "19       0.025006         0.000000         0.837402           0.88425   \n",
       "\n",
       "   param_alpha param_l1_ratio param_max_iter  \\\n",
       "12       0.001            0.5           1000   \n",
       "14       0.001            0.5           3000   \n",
       "13       0.001            0.5           2000   \n",
       "20        0.01            0.1           3000   \n",
       "19        0.01            0.1           2000   \n",
       "\n",
       "                                               params  rank_test_score  \\\n",
       "12  {'l1_ratio': 0.5, 'max_iter': 1000, 'alpha': 0...                1   \n",
       "14  {'l1_ratio': 0.5, 'max_iter': 3000, 'alpha': 0...                1   \n",
       "13  {'l1_ratio': 0.5, 'max_iter': 2000, 'alpha': 0...                1   \n",
       "20  {'l1_ratio': 0.1, 'max_iter': 3000, 'alpha': 0...                4   \n",
       "19  {'l1_ratio': 0.1, 'max_iter': 2000, 'alpha': 0...                4   \n",
       "\n",
       "    split0_test_score       ...         split7_test_score  split7_train_score  \\\n",
       "12           0.873420       ...                  0.863185            0.883731   \n",
       "14           0.873420       ...                  0.863185            0.883731   \n",
       "13           0.873420       ...                  0.863185            0.883731   \n",
       "20           0.877515       ...                  0.867578            0.882436   \n",
       "19           0.877515       ...                  0.867578            0.882436   \n",
       "\n",
       "    split8_test_score  split8_train_score  split9_test_score  \\\n",
       "12           0.924202            0.879810           0.935569   \n",
       "14           0.924202            0.879810           0.935569   \n",
       "13           0.924202            0.879810           0.935569   \n",
       "20           0.926300            0.878443           0.936891   \n",
       "19           0.926300            0.878443           0.936891   \n",
       "\n",
       "    split9_train_score  std_fit_time  std_score_time  std_test_score  \\\n",
       "12            0.876024      0.009206        0.002407        0.105277   \n",
       "14            0.876024      0.008988        0.004638        0.105277   \n",
       "13            0.876024      0.014687        0.000492        0.105277   \n",
       "20            0.874582      0.007652        0.000000        0.109769   \n",
       "19            0.874582      0.007658        0.000000        0.109769   \n",
       "\n",
       "    std_train_score  \n",
       "12         0.008288  \n",
       "14         0.008288  \n",
       "13         0.008288  \n",
       "20         0.008397  \n",
       "19         0.008397  \n",
       "\n",
       "[5 rows x 33 columns]"
      ]
     },
     "execution_count": 68,
     "metadata": {},
     "output_type": "execute_result"
    }
   ],
   "source": [
    "elastic_params = {\n",
    "    'alpha': (.0001, .001, .01, .1, 1, 10),\n",
    "    'l1_ratio': (.1, .5, .9),\n",
    "    'max_iter': (1000, 2000, 3000)\n",
    "}\n",
    "\n",
    "elastic_model = linear_model.ElasticNet(random_state= 20)\n",
    "grid_cv = GridSearchCV(elastic_model, elastic_params, cv=10, verbose=True)\n",
    "elastic = grid_cv.fit(train_X, train_y)\n",
    "\n",
    "perform_model(elastic, train_X, train_y, test_X, test_y)\n",
    "\n",
    "print(\"---------------------------------\")\n",
    "\n",
    "get_cv_score(grid_cv)"
   ]
  },
  {
   "cell_type": "code",
   "execution_count": 69,
   "metadata": {
    "collapsed": false,
    "nbpresent": {
     "id": "a6168fa0-23f2-4f70-b9d4-c50174422ee0"
    }
   },
   "outputs": [
    {
     "data": {
      "image/png": "[encoded data removed]",
      "text/plain": [
       "<matplotlib.figure.Figure at 0x2433b2610f0>"
      ]
     },
     "metadata": {},
     "output_type": "display_data"
    }
   ],
   "source": [
    "elastic_pred = elastic.predict(test_X)\n",
    "plot_regression(elastic_pred, test_y);"
   ]
  },
  {
   "cell_type": "code",
   "execution_count": 70,
   "metadata": {
    "collapsed": false,
    "nbpresent": {
     "id": "8e0a2e2e-52d1-4f54-af44-77678be186ba"
    }
   },
   "outputs": [
    {
     "name": "stdout",
     "output_type": "stream",
     "text": [
      "Fitting 10 folds for each of 54 candidates, totalling 540 fits\n"
     ]
    },
    {
     "name": "stderr",
     "output_type": "stream",
     "text": [
      "[Parallel(n_jobs=1)]: Done 540 out of 540 | elapsed:   11.6s finished\n"
     ]
    },
    {
     "name": "stdout",
     "output_type": "stream",
     "text": [
      "Fitting 10 folds for each of 54 candidates, totalling 540 fits\n"
     ]
    },
    {
     "name": "stderr",
     "output_type": "stream",
     "text": [
      "[Parallel(n_jobs=1)]: Done 540 out of 540 | elapsed:   10.7s finished\n"
     ]
    },
    {
     "name": "stdout",
     "output_type": "stream",
     "text": [
      "Fitting 10 folds for each of 54 candidates, totalling 540 fits\n"
     ]
    },
    {
     "name": "stderr",
     "output_type": "stream",
     "text": [
      "[Parallel(n_jobs=1)]: Done 540 out of 540 | elapsed:   11.8s finished\n"
     ]
    },
    {
     "name": "stdout",
     "output_type": "stream",
     "text": [
      "Fitting 10 folds for each of 54 candidates, totalling 540 fits\n"
     ]
    },
    {
     "name": "stderr",
     "output_type": "stream",
     "text": [
      "[Parallel(n_jobs=1)]: Done 540 out of 540 | elapsed:   11.7s finished\n"
     ]
    },
    {
     "name": "stdout",
     "output_type": "stream",
     "text": [
      "Fitting 10 folds for each of 54 candidates, totalling 540 fits\n",
      "Accuracy: 0.85 (+/- 0.11)\n"
     ]
    },
    {
     "name": "stderr",
     "output_type": "stream",
     "text": [
      "[Parallel(n_jobs=1)]: Done 540 out of 540 | elapsed:    9.8s finished\n"
     ]
    }
   ],
   "source": [
    "score2 = cross_val_score(elastic, X_train, y_train, cv=5)\n",
    "print(\"Accuracy: %0.2f (+/- %0.2f)\" % (score2.mean(), score2.std() * 2))"
   ]
  },
  {
   "cell_type": "markdown",
   "metadata": {
    "nbpresent": {
     "id": "5c407fb5-a2a6-4285-be42-62fbbc617749"
    }
   },
   "source": [
    "<a id='5'></a>\n",
    "## Lasso Regression\n",
    "\n",
    "Lasso is a regularization technique for conducting regression, it includes an L1 penalty term that shrinks the size of the estimated coefficients. It is different from ridge regression because as the penalty term increases, lasso shrinks the coefficients to zero.\n",
    "\n",
    "Another element to be aware of is run time. This especially goes for larger datasets, so it is important to start on a smaller batch of your data, split that to test and train, perform the models while getting the run times for each model and then when confident on the model, try to apply to a larger portion.\n",
    "\n",
    "\\begin{equation*}\n",
    "{Lasso = RSS + \\lambda\\sum_{j=1}^{p}|B_j|}\\\\\\\n",
    "\\end{equation*}\n",
    "\n",
    "Unlike ridge regression when you tune the lambda parameter or alpha to be large you see alarge number of the coefficients shrink to zero. However, you will tend to see the MSE value of ridge as smaller, but get the feature importance value from Lasso."
   ]
  },
  {
   "cell_type": "code",
   "execution_count": 71,
   "metadata": {
    "collapsed": false,
    "nbpresent": {
     "id": "c08244d2-689e-41d8-827b-b471a5cee9c2"
    }
   },
   "outputs": [
    {
     "name": "stdout",
     "output_type": "stream",
     "text": [
      "Fitting 10 folds for each of 14 candidates, totalling 140 fits\n",
      "Train: GridSearchCV(cv=10, error_score='raise',\n",
      "       estimator=Lasso(alpha=1.0, copy_X=True, fit_intercept=True, max_iter=1000,\n",
      "   normalize=False, positive=False, precompute=False, random_state=20,\n",
      "   selection='cyclic', tol=0.0001, warm_start=False),\n",
      "       fit_params={}, iid=True, n_jobs=1,\n",
      "       param_grid={'max_iter': (1000, 3000), 'alpha': (0.001, 0.01, 0.1, 1, 10, 15, 20)},\n",
      "       pre_dispatch='2*n_jobs', refit=True, return_train_score=True,\n",
      "       scoring=None, verbose=True)\n",
      "R2: 0.8653088245362925\n",
      "RMSE: 0.13528727538750507\n",
      "---------------------------------\n",
      "Test\n",
      "R2: 0.9032258116261203\n",
      "RMSE: 0.11801708986616287\n",
      "---------------------------------\n",
      "---------------------------------\n",
      "Best Parameters: {'max_iter': 1000, 'alpha': 0.001}\n",
      "Best Score: 0.83726354247\n"
     ]
    },
    {
     "name": "stderr",
     "output_type": "stream",
     "text": [
      "[Parallel(n_jobs=1)]: Done 140 out of 140 | elapsed:    1.6s finished\n"
     ]
    },
    {
     "data": {
      "text/html": [
       "<div>\n",
       "<table border=\"1\" class=\"dataframe\">\n",
       "  <thead>\n",
       "    <tr style=\"text-align: right;\">\n",
       "      <th></th>\n",
       "      <th>mean_fit_time</th>\n",
       "      <th>mean_score_time</th>\n",
       "      <th>mean_test_score</th>\n",
       "      <th>mean_train_score</th>\n",
       "      <th>param_alpha</th>\n",
       "      <th>param_max_iter</th>\n",
       "      <th>params</th>\n",
       "      <th>rank_test_score</th>\n",
       "      <th>split0_test_score</th>\n",
       "      <th>split0_train_score</th>\n",
       "      <th>...</th>\n",
       "      <th>split7_test_score</th>\n",
       "      <th>split7_train_score</th>\n",
       "      <th>split8_test_score</th>\n",
       "      <th>split8_train_score</th>\n",
       "      <th>split9_test_score</th>\n",
       "      <th>split9_train_score</th>\n",
       "      <th>std_fit_time</th>\n",
       "      <th>std_score_time</th>\n",
       "      <th>std_test_score</th>\n",
       "      <th>std_train_score</th>\n",
       "    </tr>\n",
       "  </thead>\n",
       "  <tbody>\n",
       "    <tr>\n",
       "      <th>0</th>\n",
       "      <td>0.024309</td>\n",
       "      <td>0.0</td>\n",
       "      <td>0.837264</td>\n",
       "      <td>0.884619</td>\n",
       "      <td>0.001</td>\n",
       "      <td>1000</td>\n",
       "      <td>{'max_iter': 1000, 'alpha': 0.001}</td>\n",
       "      <td>1</td>\n",
       "      <td>0.876575</td>\n",
       "      <td>0.882011</td>\n",
       "      <td>...</td>\n",
       "      <td>0.866560</td>\n",
       "      <td>0.882854</td>\n",
       "      <td>0.926004</td>\n",
       "      <td>0.878829</td>\n",
       "      <td>0.936333</td>\n",
       "      <td>0.874947</td>\n",
       "      <td>0.007146</td>\n",
       "      <td>0.0</td>\n",
       "      <td>0.108773</td>\n",
       "      <td>0.008361</td>\n",
       "    </tr>\n",
       "    <tr>\n",
       "      <th>1</th>\n",
       "      <td>0.025440</td>\n",
       "      <td>0.0</td>\n",
       "      <td>0.837264</td>\n",
       "      <td>0.884619</td>\n",
       "      <td>0.001</td>\n",
       "      <td>3000</td>\n",
       "      <td>{'max_iter': 3000, 'alpha': 0.001}</td>\n",
       "      <td>1</td>\n",
       "      <td>0.876575</td>\n",
       "      <td>0.882011</td>\n",
       "      <td>...</td>\n",
       "      <td>0.866560</td>\n",
       "      <td>0.882854</td>\n",
       "      <td>0.926004</td>\n",
       "      <td>0.878829</td>\n",
       "      <td>0.936333</td>\n",
       "      <td>0.874947</td>\n",
       "      <td>0.007217</td>\n",
       "      <td>0.0</td>\n",
       "      <td>0.108773</td>\n",
       "      <td>0.008361</td>\n",
       "    </tr>\n",
       "    <tr>\n",
       "      <th>2</th>\n",
       "      <td>0.009372</td>\n",
       "      <td>0.0</td>\n",
       "      <td>0.823234</td>\n",
       "      <td>0.865628</td>\n",
       "      <td>0.01</td>\n",
       "      <td>1000</td>\n",
       "      <td>{'max_iter': 1000, 'alpha': 0.01}</td>\n",
       "      <td>3</td>\n",
       "      <td>0.886266</td>\n",
       "      <td>0.861249</td>\n",
       "      <td>...</td>\n",
       "      <td>0.878574</td>\n",
       "      <td>0.862344</td>\n",
       "      <td>0.923612</td>\n",
       "      <td>0.859469</td>\n",
       "      <td>0.932234</td>\n",
       "      <td>0.855150</td>\n",
       "      <td>0.007652</td>\n",
       "      <td>0.0</td>\n",
       "      <td>0.135567</td>\n",
       "      <td>0.009771</td>\n",
       "    </tr>\n",
       "    <tr>\n",
       "      <th>3</th>\n",
       "      <td>0.015627</td>\n",
       "      <td>0.0</td>\n",
       "      <td>0.823234</td>\n",
       "      <td>0.865628</td>\n",
       "      <td>0.01</td>\n",
       "      <td>3000</td>\n",
       "      <td>{'max_iter': 3000, 'alpha': 0.01}</td>\n",
       "      <td>3</td>\n",
       "      <td>0.886266</td>\n",
       "      <td>0.861249</td>\n",
       "      <td>...</td>\n",
       "      <td>0.878574</td>\n",
       "      <td>0.862344</td>\n",
       "      <td>0.923612</td>\n",
       "      <td>0.859469</td>\n",
       "      <td>0.932234</td>\n",
       "      <td>0.855150</td>\n",
       "      <td>0.000002</td>\n",
       "      <td>0.0</td>\n",
       "      <td>0.135567</td>\n",
       "      <td>0.009771</td>\n",
       "    </tr>\n",
       "    <tr>\n",
       "      <th>4</th>\n",
       "      <td>0.012502</td>\n",
       "      <td>0.0</td>\n",
       "      <td>0.735573</td>\n",
       "      <td>0.782646</td>\n",
       "      <td>0.1</td>\n",
       "      <td>1000</td>\n",
       "      <td>{'max_iter': 1000, 'alpha': 0.1}</td>\n",
       "      <td>5</td>\n",
       "      <td>0.830808</td>\n",
       "      <td>0.771560</td>\n",
       "      <td>...</td>\n",
       "      <td>0.838340</td>\n",
       "      <td>0.773348</td>\n",
       "      <td>0.828607</td>\n",
       "      <td>0.776162</td>\n",
       "      <td>0.860512</td>\n",
       "      <td>0.769030</td>\n",
       "      <td>0.006251</td>\n",
       "      <td>0.0</td>\n",
       "      <td>0.178064</td>\n",
       "      <td>0.016100</td>\n",
       "    </tr>\n",
       "  </tbody>\n",
       "</table>\n",
       "<p>5 rows × 32 columns</p>\n",
       "</div>"
      ],
      "text/plain": [
       "   mean_fit_time  mean_score_time  mean_test_score  mean_train_score  \\\n",
       "0       0.024309              0.0         0.837264          0.884619   \n",
       "1       0.025440              0.0         0.837264          0.884619   \n",
       "2       0.009372              0.0         0.823234          0.865628   \n",
       "3       0.015627              0.0         0.823234          0.865628   \n",
       "4       0.012502              0.0         0.735573          0.782646   \n",
       "\n",
       "  param_alpha param_max_iter                              params  \\\n",
       "0       0.001           1000  {'max_iter': 1000, 'alpha': 0.001}   \n",
       "1       0.001           3000  {'max_iter': 3000, 'alpha': 0.001}   \n",
       "2        0.01           1000   {'max_iter': 1000, 'alpha': 0.01}   \n",
       "3        0.01           3000   {'max_iter': 3000, 'alpha': 0.01}   \n",
       "4         0.1           1000    {'max_iter': 1000, 'alpha': 0.1}   \n",
       "\n",
       "   rank_test_score  split0_test_score  split0_train_score       ...         \\\n",
       "0                1           0.876575            0.882011       ...          \n",
       "1                1           0.876575            0.882011       ...          \n",
       "2                3           0.886266            0.861249       ...          \n",
       "3                3           0.886266            0.861249       ...          \n",
       "4                5           0.830808            0.771560       ...          \n",
       "\n",
       "   split7_test_score  split7_train_score  split8_test_score  \\\n",
       "0           0.866560            0.882854           0.926004   \n",
       "1           0.866560            0.882854           0.926004   \n",
       "2           0.878574            0.862344           0.923612   \n",
       "3           0.878574            0.862344           0.923612   \n",
       "4           0.838340            0.773348           0.828607   \n",
       "\n",
       "   split8_train_score  split9_test_score  split9_train_score  std_fit_time  \\\n",
       "0            0.878829           0.936333            0.874947      0.007146   \n",
       "1            0.878829           0.936333            0.874947      0.007217   \n",
       "2            0.859469           0.932234            0.855150      0.007652   \n",
       "3            0.859469           0.932234            0.855150      0.000002   \n",
       "4            0.776162           0.860512            0.769030      0.006251   \n",
       "\n",
       "   std_score_time  std_test_score  std_train_score  \n",
       "0             0.0        0.108773         0.008361  \n",
       "1             0.0        0.108773         0.008361  \n",
       "2             0.0        0.135567         0.009771  \n",
       "3             0.0        0.135567         0.009771  \n",
       "4             0.0        0.178064         0.016100  \n",
       "\n",
       "[5 rows x 32 columns]"
      ]
     },
     "execution_count": 71,
     "metadata": {},
     "output_type": "execute_result"
    }
   ],
   "source": [
    "# To save on time narrowed parameter range, after finding optiminal parameter\n",
    "lasso_params = {\n",
    "    'alpha' : (.001, .01, .1, 1, 10, 15, 20),\n",
    "    'max_iter' : (1000, 3000)\n",
    "}\n",
    "\n",
    "lasso_model = linear_model.Lasso(random_state= 20)\n",
    "grid_cv = GridSearchCV(lasso_model, lasso_params, cv=10, verbose=True)\n",
    "lasso = grid_cv.fit(train_X, train_y)\n",
    "\n",
    "perform_model(lasso, train_X, train_y, test_X, test_y)\n",
    "\n",
    "print(\"---------------------------------\")\n",
    " \n",
    "get_cv_score(grid_cv)"
   ]
  },
  {
   "cell_type": "code",
   "execution_count": 72,
   "metadata": {
    "collapsed": false,
    "nbpresent": {
     "id": "88d99d90-258f-424b-8467-552cc765a833"
    }
   },
   "outputs": [
    {
     "data": {
      "image/png": "[encoded data removed]",
      "text/plain": [
       "<matplotlib.figure.Figure at 0x2433ab3d898>"
      ]
     },
     "metadata": {},
     "output_type": "display_data"
    }
   ],
   "source": [
    "lasso_pred = elastic.predict(test_X)\n",
    "plot_regression(lasso_pred, test_y);"
   ]
  },
  {
   "cell_type": "code",
   "execution_count": 73,
   "metadata": {
    "collapsed": false,
    "nbpresent": {
     "id": "2350ac4d-3bc3-4df1-a6ae-773158da5cdd"
    }
   },
   "outputs": [
    {
     "name": "stdout",
     "output_type": "stream",
     "text": [
      "Fitting 10 folds for each of 14 candidates, totalling 140 fits\n"
     ]
    },
    {
     "name": "stderr",
     "output_type": "stream",
     "text": [
      "[Parallel(n_jobs=1)]: Done 140 out of 140 | elapsed:    1.5s finished\n"
     ]
    },
    {
     "name": "stdout",
     "output_type": "stream",
     "text": [
      "Fitting 10 folds for each of 14 candidates, totalling 140 fits\n"
     ]
    },
    {
     "name": "stderr",
     "output_type": "stream",
     "text": [
      "[Parallel(n_jobs=1)]: Done 140 out of 140 | elapsed:    1.5s finished\n"
     ]
    },
    {
     "name": "stdout",
     "output_type": "stream",
     "text": [
      "Fitting 10 folds for each of 14 candidates, totalling 140 fits\n"
     ]
    },
    {
     "name": "stderr",
     "output_type": "stream",
     "text": [
      "[Parallel(n_jobs=1)]: Done 140 out of 140 | elapsed:    1.7s finished\n"
     ]
    },
    {
     "name": "stdout",
     "output_type": "stream",
     "text": [
      "Fitting 10 folds for each of 14 candidates, totalling 140 fits\n"
     ]
    },
    {
     "name": "stderr",
     "output_type": "stream",
     "text": [
      "[Parallel(n_jobs=1)]: Done 140 out of 140 | elapsed:    2.0s finished\n"
     ]
    },
    {
     "name": "stdout",
     "output_type": "stream",
     "text": [
      "Fitting 10 folds for each of 14 candidates, totalling 140 fits\n",
      "Accuracy: 0.85 (+/- 0.11)\n"
     ]
    },
    {
     "name": "stderr",
     "output_type": "stream",
     "text": [
      "[Parallel(n_jobs=1)]: Done 140 out of 140 | elapsed:    2.2s finished\n"
     ]
    }
   ],
   "source": [
    "score3 = cross_val_score(lasso, X_train, y_train, cv=5)\n",
    "print(\"Accuracy: %0.2f (+/- %0.2f)\" % (score3.mean(), score3.std() * 2))"
   ]
  },
  {
   "cell_type": "markdown",
   "metadata": {
    "nbpresent": {
     "id": "5a82af46-878f-47eb-bf79-aa6f0676a12f"
    }
   },
   "source": [
    "### Lets Look at Some Differences Between these Models\n",
    "\n",
    "The following will show the differences in predicted from actual for ridge and lasso. As you will notice majority of them are very similar. Once we get above the 0.2 difference of SalePrice from the predicted we can start to see the difference in the regression models. "
   ]
  },
  {
   "cell_type": "code",
   "execution_count": 74,
   "metadata": {
    "collapsed": false
   },
   "outputs": [
    {
     "data": {
      "image/png": "[encoded data removed]",
      "text/plain": [
       "<matplotlib.figure.Figure at 0x2433c72f860>"
      ]
     },
     "metadata": {},
     "output_type": "display_data"
    }
   ],
   "source": [
    "ax1= plt.scatter(range(len(ridge_pred)), abs(test_y - ridge_pred), c='b')\n",
    "ax2 = plt.scatter(range(len(elastic_pred)), abs(test_y - elastic_pred), c='g')\n",
    "ax3 = plt.scatter(range(len(lasso_pred)), abs(test_y - lasso_pred), c='y')\n",
    "\n",
    "plt.title('Difference in Predicted SalesPrice')\n",
    "plt.ylabel('SalesPrice')\n",
    "plt.xlim(-1,300);\n",
    "plt.ylim(ymin=-0.01);\n",
    "\n",
    "plt.legend((ax1, ax2, ax3), ('Ridge', 'Elastic_net', 'Lasso'), frameon=True);"
   ]
  },
  {
   "cell_type": "markdown",
   "metadata": {
    "nbpresent": {
     "id": "c6f0b312-12bb-473c-9d6a-0dafdd5455ed"
    }
   },
   "source": [
    "The lasso is a shrinkage method and will shrink the coefficient values towards zero. For this I wanted to show the difference between elastic net and lasso with the amount of coefficients it brings to zero."
   ]
  },
  {
   "cell_type": "code",
   "execution_count": 75,
   "metadata": {
    "collapsed": false,
    "nbpresent": {
     "id": "65e91cd2-5db1-4a9b-aef6-33676d2aa0ad"
    }
   },
   "outputs": [],
   "source": [
    "coef = elastic.best_estimator_.coef_\n",
    "not_zero_indices = np.where(coef!=0)\n",
    "#print(X_train.columns[not_zero_indices])"
   ]
  },
  {
   "cell_type": "code",
   "execution_count": 76,
   "metadata": {
    "collapsed": false,
    "nbpresent": {
     "id": "ba924e7d-8348-45bd-a6f7-42fd50db2401"
    }
   },
   "outputs": [],
   "source": [
    "coef2 = lasso.best_estimator_.coef_\n",
    "not_zero_indices2 = np.where(coef2!=0)\n",
    "#print(X_train.columns[not_zero_indices2])"
   ]
  },
  {
   "cell_type": "code",
   "execution_count": 77,
   "metadata": {
    "collapsed": false,
    "nbpresent": {
     "id": "60b64c7a-b275-43ad-841c-42210ea108ec"
    }
   },
   "outputs": [
    {
     "name": "stdout",
     "output_type": "stream",
     "text": [
      "Amount of Varaibles used in Ridge: 69\n",
      "Amount of Variables used in Elastic: 68\n",
      "Amount of Variables used in Lasso: 65\n"
     ]
    }
   ],
   "source": [
    "# Compared to the total in X_Train\n",
    "print('Amount of Varaibles used in Ridge:', len(X_train.columns)) \n",
    "print('Amount of Variables used in Elastic:', len(X_train.columns[not_zero_indices]))\n",
    "print('Amount of Variables used in Lasso:', len(X_train.columns[not_zero_indices2]))"
   ]
  },
  {
   "cell_type": "markdown",
   "metadata": {
    "nbpresent": {
     "id": "908b12d0-83e1-4e87-b7b3-b2104995fb7d"
    }
   },
   "source": [
    "### Feature Selection\n",
    "\n",
    "RFE (recursive feature elimination) : is a greedy feature elimination algorithm similar to sequential backward selection. This RFE function requires a supervised learning estimator, that uses a fit method to update coefficients. Knowing that elastic net and lasso penalize the size of the regression coefficients, we can visualize the coefficients equal to zero and determine the importance to model."
   ]
  },
  {
   "cell_type": "code",
   "execution_count": 78,
   "metadata": {
    "collapsed": true,
    "nbpresent": {
     "id": "9cd0d789-55b9-48c2-836e-b196fbc0e980"
    }
   },
   "outputs": [],
   "source": [
    "from sklearn.feature_selection import SelectFromModel, RFE"
   ]
  },
  {
   "cell_type": "code",
   "execution_count": 79,
   "metadata": {
    "collapsed": false,
    "nbpresent": {
     "id": "ceabe5d8-aa4f-4472-bef6-f833ad2c131a"
    },
    "scrolled": false
   },
   "outputs": [
    {
     "data": {
      "image/png": "[encoded data removed]",
      "text/plain": [
       "<matplotlib.figure.Figure at 0x2433c40d2e8>"
      ]
     },
     "metadata": {},
     "output_type": "display_data"
    }
   ],
   "source": [
    "# can pick an arbitrary number >= because if look at lasso and coef some > 0 are very low, less impact\n",
    "lg_coef = np.where(abs(coef) >= 0.005)\n",
    "fig = plt.figure(figsize=(8,8))\n",
    "\n",
    "plt.barh(range(len(lg_coef[0])), coef[lg_coef[0]])\n",
    "plt.yticks(range(len(lg_coef[0])), train_X.columns[lg_coef[0]])\n",
    "plt.title('Most imporant features_Lasso Regression')\n",
    "\n",
    "font = {\n",
    "    'family':'normal',\n",
    "    'weight':'bold',\n",
    "    'size':50\n",
    "}\n",
    "\n",
    "plt.rc('font', **font);\n",
    "plt.ylabel(font);\n",
    "\n",
    "# matplotlib.rcParams.update({'font.size': 50})"
   ]
  },
  {
   "cell_type": "markdown",
   "metadata": {},
   "source": [
    "** So what information do we get from this chart?**\n",
    "\n",
    "Well the coefficients from lasso show that there are a few features that are contributing a lot. The two biggest coefficients are having a garage and the overall quality of the house. The remaining ones are bathrooms and number of living spaces. "
   ]
  },
  {
   "cell_type": "code",
   "execution_count": 80,
   "metadata": {
    "collapsed": false,
    "nbpresent": {
     "id": "12070d3d-fdaa-4342-9477-ce027d8a488c"
    }
   },
   "outputs": [
    {
     "name": "stdout",
     "output_type": "stream",
     "text": [
      "[(0, 60), (1, 59), (2, 58), (3, 57), (4, 56), (5, 55), (6, 54), (7, 53), (8, 52), (9, 51), (10, 50), (11, 49), (12, 48), (13, 47), (14, 46), (15, 45), (16, 44), (17, 43), (18, 42), (19, 41), (20, 40), (21, 39), (22, 38), (23, 37), (24, 36), (25, 35), (26, 34), (27, 33), (28, 32), (29, 31), (30, 30), (31, 29), (32, 28), (33, 27), (34, 26), (35, 25), (36, 24), (37, 23), (38, 22), (39, 21), (40, 20), (41, 19), (42, 18), (43, 17), (44, 16), (45, 15), (46, 14), (47, 13), (48, 12), (49, 11), (50, 10), (51, 9), (52, 8), (53, 7), (54, 6), (55, 5), (56, 4), (57, 3), (58, 2), (59, 1), (60, 1), (61, 1), (62, 1), (63, 1), (64, 1), (65, 1), (66, 1), (67, 1), (68, 1)]\n"
     ]
    }
   ],
   "source": [
    "# Find most important variables in the data + rank in order of importance, can't include the lasso gridsearch... \n",
    "lasso_rfe = linear_model.Lasso(30, normalize= True, random_state=1)\n",
    "selector = RFE(lasso_rfe, n_features_to_select= 10, step=1)\n",
    "selector = selector.fit(train_X, train_y)\n",
    "selector.support_ \n",
    "selector.ranking_\n",
    "\n",
    "select = [(i, x) for i,x in enumerate(selector.ranking_) if x <= 65]\n",
    "print(select)"
   ]
  },
  {
   "cell_type": "code",
   "execution_count": 81,
   "metadata": {
    "collapsed": false,
    "nbpresent": {
     "id": "bdcd956f-7bc2-4cbb-9389-18b2d792fa70"
    }
   },
   "outputs": [
    {
     "name": "stdout",
     "output_type": "stream",
     "text": [
      "[ 0. -0.  0.  0.  0. -0.  0. -0. -0.  0.]\n"
     ]
    }
   ],
   "source": [
    "# Interesting to compare coef results from grid search to the ones labeled as most important in the RFE\n",
    "coef_rfe = selector.estimator_.coef_\n",
    "# grid_lasso_rm.best_estimator_.coef_\n",
    "print(coef_rfe)"
   ]
  },
  {
   "cell_type": "code",
   "execution_count": 82,
   "metadata": {
    "collapsed": false,
    "nbpresent": {
     "id": "5936d0ae-9b02-41c8-9ddd-b06d27e6f306"
    }
   },
   "outputs": [
    {
     "name": "stdout",
     "output_type": "stream",
     "text": [
      "(1168, 68) (287, 68)\n"
     ]
    }
   ],
   "source": [
    "# curious to see how removing the columns that were equalized to zero in lasso will affect the random forest regression\n",
    "zero_indices = np.where(coef == 0)\n",
    "rm_cols = X_train.columns[zero_indices]\n",
    "train_X2, test_X2 = train_X.drop(rm_cols, axis=1), test_X.drop(rm_cols, axis=1)\n",
    "\n",
    "print(train_X2.shape, test_X2.shape)"
   ]
  },
  {
   "cell_type": "markdown",
   "metadata": {
    "nbpresent": {
     "id": "d03d16fa-2f58-47e9-817c-723926c6e8eb"
    }
   },
   "source": [
    "<a id='6'></a>\n",
    "## Random Forest Regression\n",
    "\n",
    "Random Forest is an ensemble method that will do both classification and regression. Random forest takes a subsample of the data set using a technique called bootstrapping. What bootstrap does is it keeps the same length of the data but replaces on observation with a random observation from that sample. With this technique you may get multiples of the same observation, but the idea is that you are covering the entire population. From this sample it then generates a set of decisions based on a random sample of features. It decides the threshold of the feature, and makes a split. Each of the trees MSE value is averaged together to output the accuracy.\n",
    "\n",
    "Random Forest is one of many that we will talk about that is a part of the CART (Classification and Regression Trees). The tree series stems off the basic idea of a decision tree with rules that split the data into different nodes. "
   ]
  },
  {
   "cell_type": "code",
   "execution_count": 83,
   "metadata": {
    "collapsed": true
   },
   "outputs": [],
   "source": [
    "from sklearn import ensemble"
   ]
  },
  {
   "cell_type": "code",
   "execution_count": 84,
   "metadata": {
    "collapsed": false
   },
   "outputs": [],
   "source": [
    "tree_params = {\n",
    "    'n_estimators' : np.arange(80, 130, 10),\n",
    "    'max_depth': np.arange(5, 10, 1),\n",
    "    'min_samples_split' : [2,3],\n",
    "    'max_features': ['auto', 20, 30]\n",
    "}"
   ]
  },
  {
   "cell_type": "code",
   "execution_count": 85,
   "metadata": {
    "collapsed": false,
    "nbpresent": {
     "id": "44cacbb9-32a3-47a6-b942-32b288fe8c96"
    }
   },
   "outputs": [
    {
     "name": "stdout",
     "output_type": "stream",
     "text": [
      "Fitting 10 folds for each of 150 candidates, totalling 1500 fits\n"
     ]
    },
    {
     "name": "stderr",
     "output_type": "stream",
     "text": [
      "[Parallel(n_jobs=1)]: Done 1500 out of 1500 | elapsed: 13.6min finished\n"
     ]
    },
    {
     "name": "stdout",
     "output_type": "stream",
     "text": [
      "Train: GridSearchCV(cv=10, error_score='raise',\n",
      "       estimator=RandomForestRegressor(bootstrap=True, criterion='mse', max_depth=None,\n",
      "           max_features='auto', max_leaf_nodes=None,\n",
      "           min_impurity_split=1e-07, min_samples_leaf=1,\n",
      "           min_samples_split=2, min_weight_fraction_leaf=0.0,\n",
      "           n_estimators=10, n_jobs=1, oob_score=False, random_state=20,\n",
      "           verbose=0, warm_start=False),\n",
      "       fit_params={}, iid=True, n_jobs=1,\n",
      "       param_grid={'min_samples_split': [2, 3], 'max_depth': array([5, 6, 7, 8, 9]), 'n_estimators': array([ 80,  90, 100, 110, 120]), 'max_features': ['auto', 20, 30]},\n",
      "       pre_dispatch='2*n_jobs', refit=True, return_train_score=True,\n",
      "       scoring=None, verbose=True)\n",
      "R2: 0.9412830413775742\n",
      "RMSE: 0.08536409773352543\n",
      "---------------------------------\n",
      "Test\n",
      "R2: 0.868563674296708\n",
      "RMSE: 0.12267424375510867\n",
      "---------------------------------\n",
      "Best Parameters: {'min_samples_split': 2, 'max_depth': 8, 'max_features': 20, 'n_estimators': 80}\n",
      "Best Score: 0.861967595298\n"
     ]
    },
    {
     "data": {
      "text/html": [
       "<div>\n",
       "<table border=\"1\" class=\"dataframe\">\n",
       "  <thead>\n",
       "    <tr style=\"text-align: right;\">\n",
       "      <th></th>\n",
       "      <th>mean_fit_time</th>\n",
       "      <th>mean_score_time</th>\n",
       "      <th>mean_test_score</th>\n",
       "      <th>mean_train_score</th>\n",
       "      <th>param_max_depth</th>\n",
       "      <th>param_max_features</th>\n",
       "      <th>param_min_samples_split</th>\n",
       "      <th>param_n_estimators</th>\n",
       "      <th>params</th>\n",
       "      <th>rank_test_score</th>\n",
       "      <th>...</th>\n",
       "      <th>split7_test_score</th>\n",
       "      <th>split7_train_score</th>\n",
       "      <th>split8_test_score</th>\n",
       "      <th>split8_train_score</th>\n",
       "      <th>split9_test_score</th>\n",
       "      <th>split9_train_score</th>\n",
       "      <th>std_fit_time</th>\n",
       "      <th>std_score_time</th>\n",
       "      <th>std_test_score</th>\n",
       "      <th>std_train_score</th>\n",
       "    </tr>\n",
       "  </thead>\n",
       "  <tbody>\n",
       "    <tr>\n",
       "      <th>100</th>\n",
       "      <td>0.266980</td>\n",
       "      <td>0.004688</td>\n",
       "      <td>0.861968</td>\n",
       "      <td>0.954359</td>\n",
       "      <td>8</td>\n",
       "      <td>20</td>\n",
       "      <td>2</td>\n",
       "      <td>80</td>\n",
       "      <td>{'min_samples_split': 2, 'max_depth': 8, 'max_...</td>\n",
       "      <td>1</td>\n",
       "      <td>...</td>\n",
       "      <td>0.858148</td>\n",
       "      <td>0.955166</td>\n",
       "      <td>0.890212</td>\n",
       "      <td>0.954410</td>\n",
       "      <td>0.900319</td>\n",
       "      <td>0.951931</td>\n",
       "      <td>0.004826</td>\n",
       "      <td>0.007161</td>\n",
       "      <td>0.027069</td>\n",
       "      <td>0.001254</td>\n",
       "    </tr>\n",
       "    <tr>\n",
       "      <th>144</th>\n",
       "      <td>0.584692</td>\n",
       "      <td>0.007814</td>\n",
       "      <td>0.861696</td>\n",
       "      <td>0.967773</td>\n",
       "      <td>9</td>\n",
       "      <td>30</td>\n",
       "      <td>2</td>\n",
       "      <td>120</td>\n",
       "      <td>{'min_samples_split': 2, 'max_depth': 9, 'max_...</td>\n",
       "      <td>2</td>\n",
       "      <td>...</td>\n",
       "      <td>0.859926</td>\n",
       "      <td>0.968142</td>\n",
       "      <td>0.888934</td>\n",
       "      <td>0.968288</td>\n",
       "      <td>0.903427</td>\n",
       "      <td>0.966121</td>\n",
       "      <td>0.010073</td>\n",
       "      <td>0.007814</td>\n",
       "      <td>0.028638</td>\n",
       "      <td>0.000847</td>\n",
       "    </tr>\n",
       "    <tr>\n",
       "      <th>149</th>\n",
       "      <td>0.563761</td>\n",
       "      <td>0.006255</td>\n",
       "      <td>0.861643</td>\n",
       "      <td>0.966554</td>\n",
       "      <td>9</td>\n",
       "      <td>30</td>\n",
       "      <td>3</td>\n",
       "      <td>120</td>\n",
       "      <td>{'min_samples_split': 3, 'max_depth': 9, 'max_...</td>\n",
       "      <td>3</td>\n",
       "      <td>...</td>\n",
       "      <td>0.864084</td>\n",
       "      <td>0.966917</td>\n",
       "      <td>0.887229</td>\n",
       "      <td>0.967698</td>\n",
       "      <td>0.905084</td>\n",
       "      <td>0.964776</td>\n",
       "      <td>0.005456</td>\n",
       "      <td>0.007660</td>\n",
       "      <td>0.030804</td>\n",
       "      <td>0.001168</td>\n",
       "    </tr>\n",
       "    <tr>\n",
       "      <th>141</th>\n",
       "      <td>0.447799</td>\n",
       "      <td>0.009788</td>\n",
       "      <td>0.861626</td>\n",
       "      <td>0.967229</td>\n",
       "      <td>9</td>\n",
       "      <td>30</td>\n",
       "      <td>2</td>\n",
       "      <td>90</td>\n",
       "      <td>{'min_samples_split': 2, 'max_depth': 9, 'max_...</td>\n",
       "      <td>4</td>\n",
       "      <td>...</td>\n",
       "      <td>0.863978</td>\n",
       "      <td>0.968110</td>\n",
       "      <td>0.891057</td>\n",
       "      <td>0.967609</td>\n",
       "      <td>0.899522</td>\n",
       "      <td>0.965280</td>\n",
       "      <td>0.020972</td>\n",
       "      <td>0.007236</td>\n",
       "      <td>0.028697</td>\n",
       "      <td>0.000968</td>\n",
       "    </tr>\n",
       "    <tr>\n",
       "      <th>101</th>\n",
       "      <td>0.293926</td>\n",
       "      <td>0.009377</td>\n",
       "      <td>0.861436</td>\n",
       "      <td>0.954515</td>\n",
       "      <td>8</td>\n",
       "      <td>20</td>\n",
       "      <td>2</td>\n",
       "      <td>90</td>\n",
       "      <td>{'min_samples_split': 2, 'max_depth': 8, 'max_...</td>\n",
       "      <td>5</td>\n",
       "      <td>...</td>\n",
       "      <td>0.858325</td>\n",
       "      <td>0.955436</td>\n",
       "      <td>0.888252</td>\n",
       "      <td>0.954421</td>\n",
       "      <td>0.901433</td>\n",
       "      <td>0.952024</td>\n",
       "      <td>0.006339</td>\n",
       "      <td>0.007656</td>\n",
       "      <td>0.027394</td>\n",
       "      <td>0.001260</td>\n",
       "    </tr>\n",
       "  </tbody>\n",
       "</table>\n",
       "<p>5 rows × 34 columns</p>\n",
       "</div>"
      ],
      "text/plain": [
       "     mean_fit_time  mean_score_time  mean_test_score  mean_train_score  \\\n",
       "100       0.266980         0.004688         0.861968          0.954359   \n",
       "144       0.584692         0.007814         0.861696          0.967773   \n",
       "149       0.563761         0.006255         0.861643          0.966554   \n",
       "141       0.447799         0.009788         0.861626          0.967229   \n",
       "101       0.293926         0.009377         0.861436          0.954515   \n",
       "\n",
       "    param_max_depth param_max_features param_min_samples_split  \\\n",
       "100               8                 20                       2   \n",
       "144               9                 30                       2   \n",
       "149               9                 30                       3   \n",
       "141               9                 30                       2   \n",
       "101               8                 20                       2   \n",
       "\n",
       "    param_n_estimators                                             params  \\\n",
       "100                 80  {'min_samples_split': 2, 'max_depth': 8, 'max_...   \n",
       "144                120  {'min_samples_split': 2, 'max_depth': 9, 'max_...   \n",
       "149                120  {'min_samples_split': 3, 'max_depth': 9, 'max_...   \n",
       "141                 90  {'min_samples_split': 2, 'max_depth': 9, 'max_...   \n",
       "101                 90  {'min_samples_split': 2, 'max_depth': 8, 'max_...   \n",
       "\n",
       "     rank_test_score       ...         split7_test_score  split7_train_score  \\\n",
       "100                1       ...                  0.858148            0.955166   \n",
       "144                2       ...                  0.859926            0.968142   \n",
       "149                3       ...                  0.864084            0.966917   \n",
       "141                4       ...                  0.863978            0.968110   \n",
       "101                5       ...                  0.858325            0.955436   \n",
       "\n",
       "     split8_test_score  split8_train_score  split9_test_score  \\\n",
       "100           0.890212            0.954410           0.900319   \n",
       "144           0.888934            0.968288           0.903427   \n",
       "149           0.887229            0.967698           0.905084   \n",
       "141           0.891057            0.967609           0.899522   \n",
       "101           0.888252            0.954421           0.901433   \n",
       "\n",
       "     split9_train_score  std_fit_time  std_score_time  std_test_score  \\\n",
       "100            0.951931      0.004826        0.007161        0.027069   \n",
       "144            0.966121      0.010073        0.007814        0.028638   \n",
       "149            0.964776      0.005456        0.007660        0.030804   \n",
       "141            0.965280      0.020972        0.007236        0.028697   \n",
       "101            0.952024      0.006339        0.007656        0.027394   \n",
       "\n",
       "     std_train_score  \n",
       "100         0.001254  \n",
       "144         0.000847  \n",
       "149         0.001168  \n",
       "141         0.000968  \n",
       "101         0.001260  \n",
       "\n",
       "[5 rows x 34 columns]"
      ]
     },
     "execution_count": 85,
     "metadata": {},
     "output_type": "execute_result"
    }
   ],
   "source": [
    "rf = ensemble.RandomForestRegressor(random_state=20)\n",
    "grid_cv = GridSearchCV(rf, tree_params, cv=10, verbose=True)\n",
    "rf_model = grid_cv.fit(train_X, train_y)\n",
    "\n",
    "perform_model(rf_model, train_X, train_y, test_X, test_y)\n",
    "    \n",
    "get_cv_score(grid_cv)   "
   ]
  },
  {
   "cell_type": "markdown",
   "metadata": {
    "nbpresent": {
     "id": "4ccf47ae-e301-4457-8839-50e02ff47546"
    }
   },
   "source": [
    "<a id='7'></a>\n",
    "## AdaBoost\n",
    "\n",
    "Adaboost is a strong ensemble model that can be used for linear or regression. Adaboost works off of weak learners, which in a model are considerd better than a guess or 50% on different subsamples. The algorithm applies weights to each f the training samples, so that the first step trains a weak learner on the original data. The weights are modified for each itteration adjusting for training examples that were incorrectly predicted and lowers the weights for those predicted correctly. The model uses the weak learners to progressively make better corrections to the error based on the predictions. "
   ]
  },
  {
   "cell_type": "code",
   "execution_count": 86,
   "metadata": {
    "collapsed": false,
    "nbpresent": {
     "id": "6c25187b-30f7-4e3f-a5c8-d9bffa12f9b9"
    },
    "scrolled": true
   },
   "outputs": [
    {
     "name": "stdout",
     "output_type": "stream",
     "text": [
      "Fitting 10 folds for each of 30 candidates, totalling 300 fits\n"
     ]
    },
    {
     "name": "stderr",
     "output_type": "stream",
     "text": [
      "[Parallel(n_jobs=1)]: Done 300 out of 300 | elapsed:  2.5min finished\n"
     ]
    },
    {
     "name": "stdout",
     "output_type": "stream",
     "text": [
      "Train: GridSearchCV(cv=10, error_score='raise',\n",
      "       estimator=AdaBoostRegressor(base_estimator=None, learning_rate=1.0, loss='linear',\n",
      "         n_estimators=50, random_state=20),\n",
      "       fit_params={}, iid=True, n_jobs=1,\n",
      "       param_grid={'learning_rate': (0.001, 0.01, 0.1), 'n_estimators': array([ 50,  70,  90, 110, 130]), 'loss': ['linear', 'square']},\n",
      "       pre_dispatch='2*n_jobs', refit=True, return_train_score=True,\n",
      "       scoring=None, verbose=True)\n",
      "R2: 0.7733646875578537\n",
      "RMSE: 0.15658150778079588\n",
      "---------------------------------\n",
      "Test\n",
      "R2: 0.7673357964773879\n",
      "RMSE: 0.15704124171830142\n",
      "---------------------------------\n",
      "Best Parameters: {'learning_rate': 0.1, 'n_estimators': 130, 'loss': 'square'}\n",
      "Best Score: 0.791865611825\n"
     ]
    },
    {
     "data": {
      "text/html": [
       "<div>\n",
       "<table border=\"1\" class=\"dataframe\">\n",
       "  <thead>\n",
       "    <tr style=\"text-align: right;\">\n",
       "      <th></th>\n",
       "      <th>mean_fit_time</th>\n",
       "      <th>mean_score_time</th>\n",
       "      <th>mean_test_score</th>\n",
       "      <th>mean_train_score</th>\n",
       "      <th>param_learning_rate</th>\n",
       "      <th>param_loss</th>\n",
       "      <th>param_n_estimators</th>\n",
       "      <th>params</th>\n",
       "      <th>rank_test_score</th>\n",
       "      <th>split0_test_score</th>\n",
       "      <th>...</th>\n",
       "      <th>split7_test_score</th>\n",
       "      <th>split7_train_score</th>\n",
       "      <th>split8_test_score</th>\n",
       "      <th>split8_train_score</th>\n",
       "      <th>split9_test_score</th>\n",
       "      <th>split9_train_score</th>\n",
       "      <th>std_fit_time</th>\n",
       "      <th>std_score_time</th>\n",
       "      <th>std_test_score</th>\n",
       "      <th>std_train_score</th>\n",
       "    </tr>\n",
       "  </thead>\n",
       "  <tbody>\n",
       "    <tr>\n",
       "      <th>29</th>\n",
       "      <td>0.649187</td>\n",
       "      <td>0.006251</td>\n",
       "      <td>0.791866</td>\n",
       "      <td>0.842424</td>\n",
       "      <td>0.1</td>\n",
       "      <td>square</td>\n",
       "      <td>130</td>\n",
       "      <td>{'learning_rate': 0.1, 'n_estimators': 130, 'l...</td>\n",
       "      <td>1</td>\n",
       "      <td>0.805878</td>\n",
       "      <td>...</td>\n",
       "      <td>0.793279</td>\n",
       "      <td>0.843919</td>\n",
       "      <td>0.824447</td>\n",
       "      <td>0.846646</td>\n",
       "      <td>0.829365</td>\n",
       "      <td>0.834582</td>\n",
       "      <td>0.010143</td>\n",
       "      <td>0.007656</td>\n",
       "      <td>0.029103</td>\n",
       "      <td>0.004142</td>\n",
       "    </tr>\n",
       "    <tr>\n",
       "      <th>28</th>\n",
       "      <td>0.560989</td>\n",
       "      <td>0.001563</td>\n",
       "      <td>0.786734</td>\n",
       "      <td>0.838124</td>\n",
       "      <td>0.1</td>\n",
       "      <td>square</td>\n",
       "      <td>110</td>\n",
       "      <td>{'learning_rate': 0.1, 'n_estimators': 110, 'l...</td>\n",
       "      <td>2</td>\n",
       "      <td>0.798478</td>\n",
       "      <td>...</td>\n",
       "      <td>0.792097</td>\n",
       "      <td>0.841668</td>\n",
       "      <td>0.819398</td>\n",
       "      <td>0.843036</td>\n",
       "      <td>0.821769</td>\n",
       "      <td>0.829808</td>\n",
       "      <td>0.004686</td>\n",
       "      <td>0.004688</td>\n",
       "      <td>0.027893</td>\n",
       "      <td>0.004541</td>\n",
       "    </tr>\n",
       "    <tr>\n",
       "      <th>24</th>\n",
       "      <td>0.665097</td>\n",
       "      <td>0.004688</td>\n",
       "      <td>0.783668</td>\n",
       "      <td>0.835497</td>\n",
       "      <td>0.1</td>\n",
       "      <td>linear</td>\n",
       "      <td>130</td>\n",
       "      <td>{'learning_rate': 0.1, 'n_estimators': 130, 'l...</td>\n",
       "      <td>3</td>\n",
       "      <td>0.797720</td>\n",
       "      <td>...</td>\n",
       "      <td>0.792286</td>\n",
       "      <td>0.838403</td>\n",
       "      <td>0.808287</td>\n",
       "      <td>0.841384</td>\n",
       "      <td>0.821227</td>\n",
       "      <td>0.829278</td>\n",
       "      <td>0.007275</td>\n",
       "      <td>0.007161</td>\n",
       "      <td>0.026564</td>\n",
       "      <td>0.003631</td>\n",
       "    </tr>\n",
       "    <tr>\n",
       "      <th>23</th>\n",
       "      <td>0.571606</td>\n",
       "      <td>0.000602</td>\n",
       "      <td>0.779636</td>\n",
       "      <td>0.828546</td>\n",
       "      <td>0.1</td>\n",
       "      <td>linear</td>\n",
       "      <td>110</td>\n",
       "      <td>{'learning_rate': 0.1, 'n_estimators': 110, 'l...</td>\n",
       "      <td>4</td>\n",
       "      <td>0.806448</td>\n",
       "      <td>...</td>\n",
       "      <td>0.790096</td>\n",
       "      <td>0.832508</td>\n",
       "      <td>0.800598</td>\n",
       "      <td>0.832394</td>\n",
       "      <td>0.816152</td>\n",
       "      <td>0.824641</td>\n",
       "      <td>0.008416</td>\n",
       "      <td>0.001805</td>\n",
       "      <td>0.027329</td>\n",
       "      <td>0.003124</td>\n",
       "    </tr>\n",
       "    <tr>\n",
       "      <th>27</th>\n",
       "      <td>0.463562</td>\n",
       "      <td>0.003125</td>\n",
       "      <td>0.779518</td>\n",
       "      <td>0.830777</td>\n",
       "      <td>0.1</td>\n",
       "      <td>square</td>\n",
       "      <td>90</td>\n",
       "      <td>{'learning_rate': 0.1, 'n_estimators': 90, 'lo...</td>\n",
       "      <td>5</td>\n",
       "      <td>0.786084</td>\n",
       "      <td>...</td>\n",
       "      <td>0.788310</td>\n",
       "      <td>0.835979</td>\n",
       "      <td>0.808101</td>\n",
       "      <td>0.835805</td>\n",
       "      <td>0.805798</td>\n",
       "      <td>0.819294</td>\n",
       "      <td>0.008822</td>\n",
       "      <td>0.006251</td>\n",
       "      <td>0.025022</td>\n",
       "      <td>0.005492</td>\n",
       "    </tr>\n",
       "  </tbody>\n",
       "</table>\n",
       "<p>5 rows × 33 columns</p>\n",
       "</div>"
      ],
      "text/plain": [
       "    mean_fit_time  mean_score_time  mean_test_score  mean_train_score  \\\n",
       "29       0.649187         0.006251         0.791866          0.842424   \n",
       "28       0.560989         0.001563         0.786734          0.838124   \n",
       "24       0.665097         0.004688         0.783668          0.835497   \n",
       "23       0.571606         0.000602         0.779636          0.828546   \n",
       "27       0.463562         0.003125         0.779518          0.830777   \n",
       "\n",
       "   param_learning_rate param_loss param_n_estimators  \\\n",
       "29                 0.1     square                130   \n",
       "28                 0.1     square                110   \n",
       "24                 0.1     linear                130   \n",
       "23                 0.1     linear                110   \n",
       "27                 0.1     square                 90   \n",
       "\n",
       "                                               params  rank_test_score  \\\n",
       "29  {'learning_rate': 0.1, 'n_estimators': 130, 'l...                1   \n",
       "28  {'learning_rate': 0.1, 'n_estimators': 110, 'l...                2   \n",
       "24  {'learning_rate': 0.1, 'n_estimators': 130, 'l...                3   \n",
       "23  {'learning_rate': 0.1, 'n_estimators': 110, 'l...                4   \n",
       "27  {'learning_rate': 0.1, 'n_estimators': 90, 'lo...                5   \n",
       "\n",
       "    split0_test_score       ...         split7_test_score  split7_train_score  \\\n",
       "29           0.805878       ...                  0.793279            0.843919   \n",
       "28           0.798478       ...                  0.792097            0.841668   \n",
       "24           0.797720       ...                  0.792286            0.838403   \n",
       "23           0.806448       ...                  0.790096            0.832508   \n",
       "27           0.786084       ...                  0.788310            0.835979   \n",
       "\n",
       "    split8_test_score  split8_train_score  split9_test_score  \\\n",
       "29           0.824447            0.846646           0.829365   \n",
       "28           0.819398            0.843036           0.821769   \n",
       "24           0.808287            0.841384           0.821227   \n",
       "23           0.800598            0.832394           0.816152   \n",
       "27           0.808101            0.835805           0.805798   \n",
       "\n",
       "    split9_train_score  std_fit_time  std_score_time  std_test_score  \\\n",
       "29            0.834582      0.010143        0.007656        0.029103   \n",
       "28            0.829808      0.004686        0.004688        0.027893   \n",
       "24            0.829278      0.007275        0.007161        0.026564   \n",
       "23            0.824641      0.008416        0.001805        0.027329   \n",
       "27            0.819294      0.008822        0.006251        0.025022   \n",
       "\n",
       "    std_train_score  \n",
       "29         0.004142  \n",
       "28         0.004541  \n",
       "24         0.003631  \n",
       "23         0.003124  \n",
       "27         0.005492  \n",
       "\n",
       "[5 rows x 33 columns]"
      ]
     },
     "execution_count": 86,
     "metadata": {},
     "output_type": "execute_result"
    }
   ],
   "source": [
    "ada_params = {\n",
    "    'n_estimators' : np.arange(50, 150, 20),\n",
    "    'learning_rate' : (.001, .01, .1),\n",
    "    'loss': ['linear', 'square']\n",
    "}\n",
    "\n",
    "\n",
    "adb = ensemble.AdaBoostRegressor(random_state=20)\n",
    "grid_cv = GridSearchCV(adb, ada_params, cv=10, verbose=True)\n",
    "adb_model = grid_cv.fit(train_X, train_y)\n",
    "\n",
    "perform_model(adb_model, train_X, train_y, test_X, test_y)\n",
    "\n",
    "get_cv_score(grid_cv)   "
   ]
  },
  {
   "cell_type": "markdown",
   "metadata": {},
   "source": [
    "<a id='8'></a>\n",
    "## XGBoost\n",
    "\n",
    "'Extreme Gradient Boosting' is another ensemble method that can handle both regression and classification. XGBoost is known for its speed and model performance. XGBoost is very similar to adaboost in the way that new models are added to the original to correct errors made by the original. What gradient boosting does is it creates new models that predict the errors of the previous model and add them together for the final prediction. It uses gradient descent algorithm to minimize the loss when adding the new models. \n",
    "\n",
    "Gradient Descent is an itterative optimization algorithm that uses learning rate to find the optimal local minimum."
   ]
  },
  {
   "cell_type": "code",
   "execution_count": 87,
   "metadata": {
    "collapsed": true
   },
   "outputs": [],
   "source": [
    "import xgboost as xgb"
   ]
  },
  {
   "cell_type": "code",
   "execution_count": 96,
   "metadata": {
    "collapsed": false
   },
   "outputs": [
    {
     "name": "stdout",
     "output_type": "stream",
     "text": [
      "Fitting 10 folds for each of 96 candidates, totalling 960 fits\n"
     ]
    },
    {
     "name": "stderr",
     "output_type": "stream",
     "text": [
      "[Parallel(n_jobs=1)]: Done 960 out of 960 | elapsed: 61.2min finished\n"
     ]
    },
    {
     "name": "stdout",
     "output_type": "stream",
     "text": [
      "Train: GridSearchCV(cv=10, error_score='raise',\n",
      "       estimator=XGBRegressor(base_score=0.5, colsample_bylevel=1, colsample_bytree=1, gamma=0,\n",
      "       learning_rate=0.1, max_delta_step=0, max_depth=3,\n",
      "       min_child_weight=1, missing=None, n_estimators=100, nthread=-1,\n",
      "       objective='reg:linear', reg_alpha=0, reg_lambda=1,\n",
      "       scale_pos_weight=1, seed=0, silent=True, subsample=1),\n",
      "       fit_params={}, iid=True, n_jobs=1,\n",
      "       param_grid={'reg_lambda': [0.3, 0.4, 0.5], 'gamma': [0.01], 'learning_rate': [0.001, 0.01], 'max_depth': array([3, 4, 5, 6]), 'n_estimators': [4000, 5000], 'reg_alpha': [0.5, 0.9], 'subsample': [0.2], 'colsample_bytree': [0.2]},\n",
      "       pre_dispatch='2*n_jobs', refit=True, return_train_score=True,\n",
      "       scoring=None, verbose=True)\n",
      "R2: 0.955138340559825\n",
      "RMSE: 0.08025667301060276\n",
      "---------------------------------\n",
      "Test\n",
      "R2: 0.9320489845299338\n",
      "RMSE: 0.10116561855790683\n",
      "---------------------------------\n",
      "Best Parameters: {'reg_lambda': 0.4, 'gamma': 0.01, 'learning_rate': 0.01, 'max_depth': 3, 'n_estimators': 5000, 'reg_alpha': 0.5, 'subsample': 0.2, 'colsample_bytree': 0.2}\n",
      "Best Score: 0.902631848987\n"
     ]
    },
    {
     "data": {
      "text/html": [
       "<div>\n",
       "<table border=\"1\" class=\"dataframe\">\n",
       "  <thead>\n",
       "    <tr style=\"text-align: right;\">\n",
       "      <th></th>\n",
       "      <th>mean_fit_time</th>\n",
       "      <th>mean_score_time</th>\n",
       "      <th>mean_test_score</th>\n",
       "      <th>mean_train_score</th>\n",
       "      <th>param_colsample_bytree</th>\n",
       "      <th>param_gamma</th>\n",
       "      <th>param_learning_rate</th>\n",
       "      <th>param_max_depth</th>\n",
       "      <th>param_n_estimators</th>\n",
       "      <th>param_reg_alpha</th>\n",
       "      <th>...</th>\n",
       "      <th>split7_test_score</th>\n",
       "      <th>split7_train_score</th>\n",
       "      <th>split8_test_score</th>\n",
       "      <th>split8_train_score</th>\n",
       "      <th>split9_test_score</th>\n",
       "      <th>split9_train_score</th>\n",
       "      <th>std_fit_time</th>\n",
       "      <th>std_score_time</th>\n",
       "      <th>std_test_score</th>\n",
       "      <th>std_train_score</th>\n",
       "    </tr>\n",
       "  </thead>\n",
       "  <tbody>\n",
       "    <tr>\n",
       "      <th>55</th>\n",
       "      <td>3.592331</td>\n",
       "      <td>0.010378</td>\n",
       "      <td>0.902632</td>\n",
       "      <td>0.958846</td>\n",
       "      <td>0.2</td>\n",
       "      <td>0.01</td>\n",
       "      <td>0.01</td>\n",
       "      <td>3</td>\n",
       "      <td>5000</td>\n",
       "      <td>0.5</td>\n",
       "      <td>...</td>\n",
       "      <td>0.889026</td>\n",
       "      <td>0.958795</td>\n",
       "      <td>0.925788</td>\n",
       "      <td>0.959181</td>\n",
       "      <td>0.940277</td>\n",
       "      <td>0.957244</td>\n",
       "      <td>0.183258</td>\n",
       "      <td>0.009884</td>\n",
       "      <td>0.026665</td>\n",
       "      <td>0.000834</td>\n",
       "    </tr>\n",
       "    <tr>\n",
       "      <th>54</th>\n",
       "      <td>3.622014</td>\n",
       "      <td>0.014702</td>\n",
       "      <td>0.902147</td>\n",
       "      <td>0.959032</td>\n",
       "      <td>0.2</td>\n",
       "      <td>0.01</td>\n",
       "      <td>0.01</td>\n",
       "      <td>3</td>\n",
       "      <td>5000</td>\n",
       "      <td>0.5</td>\n",
       "      <td>...</td>\n",
       "      <td>0.889159</td>\n",
       "      <td>0.959039</td>\n",
       "      <td>0.926089</td>\n",
       "      <td>0.959498</td>\n",
       "      <td>0.940751</td>\n",
       "      <td>0.957343</td>\n",
       "      <td>0.155480</td>\n",
       "      <td>0.005950</td>\n",
       "      <td>0.026850</td>\n",
       "      <td>0.000808</td>\n",
       "    </tr>\n",
       "    <tr>\n",
       "      <th>66</th>\n",
       "      <td>4.945388</td>\n",
       "      <td>0.015021</td>\n",
       "      <td>0.902036</td>\n",
       "      <td>0.963713</td>\n",
       "      <td>0.2</td>\n",
       "      <td>0.01</td>\n",
       "      <td>0.01</td>\n",
       "      <td>4</td>\n",
       "      <td>5000</td>\n",
       "      <td>0.5</td>\n",
       "      <td>...</td>\n",
       "      <td>0.889185</td>\n",
       "      <td>0.963791</td>\n",
       "      <td>0.925087</td>\n",
       "      <td>0.964315</td>\n",
       "      <td>0.940578</td>\n",
       "      <td>0.962527</td>\n",
       "      <td>0.969820</td>\n",
       "      <td>0.013217</td>\n",
       "      <td>0.026628</td>\n",
       "      <td>0.000684</td>\n",
       "    </tr>\n",
       "    <tr>\n",
       "      <th>67</th>\n",
       "      <td>5.254893</td>\n",
       "      <td>0.018907</td>\n",
       "      <td>0.902010</td>\n",
       "      <td>0.963494</td>\n",
       "      <td>0.2</td>\n",
       "      <td>0.01</td>\n",
       "      <td>0.01</td>\n",
       "      <td>4</td>\n",
       "      <td>5000</td>\n",
       "      <td>0.5</td>\n",
       "      <td>...</td>\n",
       "      <td>0.888414</td>\n",
       "      <td>0.963286</td>\n",
       "      <td>0.923421</td>\n",
       "      <td>0.964092</td>\n",
       "      <td>0.939270</td>\n",
       "      <td>0.962345</td>\n",
       "      <td>1.015369</td>\n",
       "      <td>0.010664</td>\n",
       "      <td>0.026143</td>\n",
       "      <td>0.000673</td>\n",
       "    </tr>\n",
       "    <tr>\n",
       "      <th>49</th>\n",
       "      <td>2.896119</td>\n",
       "      <td>0.009117</td>\n",
       "      <td>0.901873</td>\n",
       "      <td>0.955065</td>\n",
       "      <td>0.2</td>\n",
       "      <td>0.01</td>\n",
       "      <td>0.01</td>\n",
       "      <td>3</td>\n",
       "      <td>4000</td>\n",
       "      <td>0.5</td>\n",
       "      <td>...</td>\n",
       "      <td>0.890318</td>\n",
       "      <td>0.955109</td>\n",
       "      <td>0.926028</td>\n",
       "      <td>0.955271</td>\n",
       "      <td>0.940059</td>\n",
       "      <td>0.953348</td>\n",
       "      <td>0.298386</td>\n",
       "      <td>0.007482</td>\n",
       "      <td>0.027215</td>\n",
       "      <td>0.000898</td>\n",
       "    </tr>\n",
       "  </tbody>\n",
       "</table>\n",
       "<p>5 rows × 38 columns</p>\n",
       "</div>"
      ],
      "text/plain": [
       "    mean_fit_time  mean_score_time  mean_test_score  mean_train_score  \\\n",
       "55       3.592331         0.010378         0.902632          0.958846   \n",
       "54       3.622014         0.014702         0.902147          0.959032   \n",
       "66       4.945388         0.015021         0.902036          0.963713   \n",
       "67       5.254893         0.018907         0.902010          0.963494   \n",
       "49       2.896119         0.009117         0.901873          0.955065   \n",
       "\n",
       "   param_colsample_bytree param_gamma param_learning_rate param_max_depth  \\\n",
       "55                    0.2        0.01                0.01               3   \n",
       "54                    0.2        0.01                0.01               3   \n",
       "66                    0.2        0.01                0.01               4   \n",
       "67                    0.2        0.01                0.01               4   \n",
       "49                    0.2        0.01                0.01               3   \n",
       "\n",
       "   param_n_estimators param_reg_alpha       ...        split7_test_score  \\\n",
       "55               5000             0.5       ...                 0.889026   \n",
       "54               5000             0.5       ...                 0.889159   \n",
       "66               5000             0.5       ...                 0.889185   \n",
       "67               5000             0.5       ...                 0.888414   \n",
       "49               4000             0.5       ...                 0.890318   \n",
       "\n",
       "   split7_train_score split8_test_score  split8_train_score  \\\n",
       "55           0.958795          0.925788            0.959181   \n",
       "54           0.959039          0.926089            0.959498   \n",
       "66           0.963791          0.925087            0.964315   \n",
       "67           0.963286          0.923421            0.964092   \n",
       "49           0.955109          0.926028            0.955271   \n",
       "\n",
       "    split9_test_score  split9_train_score  std_fit_time  std_score_time  \\\n",
       "55           0.940277            0.957244      0.183258        0.009884   \n",
       "54           0.940751            0.957343      0.155480        0.005950   \n",
       "66           0.940578            0.962527      0.969820        0.013217   \n",
       "67           0.939270            0.962345      1.015369        0.010664   \n",
       "49           0.940059            0.953348      0.298386        0.007482   \n",
       "\n",
       "    std_test_score  std_train_score  \n",
       "55        0.026665         0.000834  \n",
       "54        0.026850         0.000808  \n",
       "66        0.026628         0.000684  \n",
       "67        0.026143         0.000673  \n",
       "49        0.027215         0.000898  \n",
       "\n",
       "[5 rows x 38 columns]"
      ]
     },
     "execution_count": 96,
     "metadata": {},
     "output_type": "execute_result"
    }
   ],
   "source": [
    "xg_params = {\n",
    "    'colsample_bytree' : [0.2],\n",
    "    'gamma':[0.01],\n",
    "    'learning_rate':[0.001, 0.01],\n",
    "    'max_depth':np.arange(3,7,1),\n",
    "    'n_estimators':[4000, 5000],                                                                  \n",
    "    'reg_alpha':[0.5,0.9],\n",
    "    'reg_lambda':[0.3, 0.4, 0.5],\n",
    "    'subsample': [0.2]\n",
    "}\n",
    "\n",
    "\n",
    "xg = xgb.XGBRegressor()\n",
    "grid_cv = GridSearchCV(xg, xg_params, cv=10, verbose=True)\n",
    "xg_model = grid_cv.fit(train_X, train_y)\n",
    "\n",
    "perform_model(xg_model, train_X, train_y, test_X, test_y)\n",
    "\n",
    "get_cv_score(grid_cv) "
   ]
  },
  {
   "cell_type": "markdown",
   "metadata": {
    "collapsed": true
   },
   "source": [
    "# Summary\n",
    "\n",
    "In summary the housing data shows that some of the most important features for predicting Sale Price are what you would expect. Those features might include the quality of the house, the size of the house, or amenities it has like a garage, porch, or pool. What I learned is that there are several pros and cons to each algorthim, but regardless of a specified favorite you might have it is good practice running them all. It gives an overall idea of your data and what to look into further, and can show the difference of power for that model based on the algorithm and associated cost function. An example would be ridge regression which is a good indicator of outliers due to its l2 penalty, or lasso where it has similar features but has the shrinkage of coefficients capability sorting out importance of features in a model. \n",
    "\n",
    "In the end the model that I would chose is xgboost, and its not because it was the last one. XGBoost had the overall best performance, with little signs of over fitting, and a fairly descent score in the end. I did end up taking out those extreme features that I found from the first residual plot, and my next step would to create a model around them and see if there is a connection between those data points.\n",
    "\n",
    "The other models did not come out on top but are still winners. Random Forest and AdaBoost did not perform as well as Ridge or Lasso. Random Forest seemed to overfit the data, and I think it I were to adjust the amount of estimator or like Extra Trees pick the threshold for the n_estimators to be sampled into the model I would have more control over that. There were some features that seemed to be correlated, and even with excluding some in a decision split those features are always going to have a higher consistency at the top of the tree splits. Lasso and Ridge both outperformed the train set, which is an excellent sign and would be something to note. Where xgboost did not outperform the train, I still think that the nature of the algorithm where it uses gradient descent to find the local optimum is ultimately a better chose."
   ]
  },
  {
   "cell_type": "markdown",
   "metadata": {
    "nbpresent": {
     "id": "0c4d3392-53cf-459f-9ca9-15732e213ce5"
    }
   },
   "source": [
    "# Implement Test"
   ]
  },
  {
   "cell_type": "code",
   "execution_count": 109,
   "metadata": {
    "collapsed": false
   },
   "outputs": [
    {
     "data": {
      "text/plain": [
       "XGBRegressor(base_score=0.5, colsample_bylevel=1, colsample_bytree=0.2,\n",
       "       gamma=0.01, learning_rate=0.01, max_delta_step=0, max_depth=3,\n",
       "       min_child_weight=1, missing=None, n_estimators=5000, nthread=-1,\n",
       "       objective='reg:linear', reg_alpha=0.5, reg_lambda=0.4,\n",
       "       scale_pos_weight=1, seed=0, silent=True, subsample=0.2)"
      ]
     },
     "execution_count": 109,
     "metadata": {},
     "output_type": "execute_result"
    }
   ],
   "source": [
    "best_model = xg_model.best_estimator_\n",
    "best_model"
   ]
  },
  {
   "cell_type": "code",
   "execution_count": 108,
   "metadata": {
    "collapsed": false,
    "nbpresent": {
     "id": "53c3ada5-8cb7-4b43-88b2-d077670a66b8"
    }
   },
   "outputs": [],
   "source": [
    "grid_cv = best_model\n",
    "grid_cv.fit(X_train, y_train)\n",
    "grid_predict = grid_cv.predict(X_test)"
   ]
  },
  {
   "cell_type": "code",
   "execution_count": null,
   "metadata": {
    "collapsed": false,
    "nbpresent": {
     "id": "d9dbf843-347d-4b8b-bb41-a89a033fa823"
    }
   },
   "outputs": [],
   "source": [
    "results = pd.DataFrame({\"Id\":X_test.index, \"SalePrice\":grid_predict})"
   ]
  },
  {
   "cell_type": "code",
   "execution_count": null,
   "metadata": {
    "collapsed": false,
    "nbpresent": {
     "id": "d8bccf91-2c54-4c63-b43e-08b7f37809db"
    }
   },
   "outputs": [],
   "source": [
    "results.to_csv('test_results.csv', index=False)"
   ]
  },
  {
   "cell_type": "code",
   "execution_count": null,
   "metadata": {
    "collapsed": true
   },
   "outputs": [],
   "source": []
  }
 ],
 "metadata": {
  "anaconda-cloud": {},
  "kernelspec": {
   "display_name": "Python [conda root]",
   "language": "python",
   "name": "conda-root-py"
  },
  "language_info": {
   "codemirror_mode": {
    "name": "ipython",
    "version": 3
   },
   "file_extension": ".py",
   "mimetype": "text/x-python",
   "name": "python",
   "nbconvert_exporter": "python",
   "pygments_lexer": "ipython3",
   "version": "3.5.2"
  }
 },
 "nbformat": 4,
 "nbformat_minor": 1
}
